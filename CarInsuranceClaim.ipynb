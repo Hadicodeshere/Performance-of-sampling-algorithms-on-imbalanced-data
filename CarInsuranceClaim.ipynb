{
  "cells": [
    {
      "cell_type": "code",
      "source": [
        "!pip install ipython-autotime\n",
        "\n",
        "%load_ext autotime"
      ],
      "metadata": {
        "colab": {
          "base_uri": "https://localhost:8080/"
        },
        "id": "LRhocu33AJwm",
        "outputId": "df90ada1-7c70-498b-a75a-5cf7a0927e70"
      },
      "execution_count": null,
      "outputs": [
        {
          "output_type": "stream",
          "name": "stdout",
          "text": [
            "Collecting ipython-autotime\n",
            "  Downloading ipython_autotime-0.3.2-py2.py3-none-any.whl (7.0 kB)\n",
            "Requirement already satisfied: ipython in /usr/local/lib/python3.10/dist-packages (from ipython-autotime) (7.34.0)\n",
            "Requirement already satisfied: setuptools>=18.5 in /usr/local/lib/python3.10/dist-packages (from ipython->ipython-autotime) (67.7.2)\n",
            "Collecting jedi>=0.16 (from ipython->ipython-autotime)\n",
            "  Downloading jedi-0.19.1-py2.py3-none-any.whl (1.6 MB)\n",
            "\u001b[2K     \u001b[90m━━━━━━━━━━━━━━━━━━━━━━━━━━━━━━━━━━━━━━━━\u001b[0m \u001b[32m1.6/1.6 MB\u001b[0m \u001b[31m15.9 MB/s\u001b[0m eta \u001b[36m0:00:00\u001b[0m\n",
            "\u001b[?25hRequirement already satisfied: decorator in /usr/local/lib/python3.10/dist-packages (from ipython->ipython-autotime) (4.4.2)\n",
            "Requirement already satisfied: pickleshare in /usr/local/lib/python3.10/dist-packages (from ipython->ipython-autotime) (0.7.5)\n",
            "Requirement already satisfied: traitlets>=4.2 in /usr/local/lib/python3.10/dist-packages (from ipython->ipython-autotime) (5.7.1)\n",
            "Requirement already satisfied: prompt-toolkit!=3.0.0,!=3.0.1,<3.1.0,>=2.0.0 in /usr/local/lib/python3.10/dist-packages (from ipython->ipython-autotime) (3.0.43)\n",
            "Requirement already satisfied: pygments in /usr/local/lib/python3.10/dist-packages (from ipython->ipython-autotime) (2.16.1)\n",
            "Requirement already satisfied: backcall in /usr/local/lib/python3.10/dist-packages (from ipython->ipython-autotime) (0.2.0)\n",
            "Requirement already satisfied: matplotlib-inline in /usr/local/lib/python3.10/dist-packages (from ipython->ipython-autotime) (0.1.6)\n",
            "Requirement already satisfied: pexpect>4.3 in /usr/local/lib/python3.10/dist-packages (from ipython->ipython-autotime) (4.9.0)\n",
            "Requirement already satisfied: parso<0.9.0,>=0.8.3 in /usr/local/lib/python3.10/dist-packages (from jedi>=0.16->ipython->ipython-autotime) (0.8.3)\n",
            "Requirement already satisfied: ptyprocess>=0.5 in /usr/local/lib/python3.10/dist-packages (from pexpect>4.3->ipython->ipython-autotime) (0.7.0)\n",
            "Requirement already satisfied: wcwidth in /usr/local/lib/python3.10/dist-packages (from prompt-toolkit!=3.0.0,!=3.0.1,<3.1.0,>=2.0.0->ipython->ipython-autotime) (0.2.13)\n",
            "Installing collected packages: jedi, ipython-autotime\n",
            "Successfully installed ipython-autotime-0.3.2 jedi-0.19.1\n",
            "time: 396 µs (started: 2024-03-03 20:29:00 +00:00)\n"
          ]
        }
      ]
    },
    {
      "cell_type": "code",
      "execution_count": null,
      "metadata": {
        "colab": {
          "base_uri": "https://localhost:8080/",
          "height": 92
        },
        "id": "Hgf-xJiKmhAK",
        "outputId": "7afde9af-50c2-4f96-f064-04fa85b6b375"
      },
      "outputs": [
        {
          "output_type": "display_data",
          "data": {
            "text/plain": [
              "<IPython.core.display.HTML object>"
            ],
            "text/html": [
              "\n",
              "     <input type=\"file\" id=\"files-a7f1e627-b7df-4974-b4c0-c67cf76edb85\" name=\"files[]\" multiple disabled\n",
              "        style=\"border:none\" />\n",
              "     <output id=\"result-a7f1e627-b7df-4974-b4c0-c67cf76edb85\">\n",
              "      Upload widget is only available when the cell has been executed in the\n",
              "      current browser session. Please rerun this cell to enable.\n",
              "      </output>\n",
              "      <script>// Copyright 2017 Google LLC\n",
              "//\n",
              "// Licensed under the Apache License, Version 2.0 (the \"License\");\n",
              "// you may not use this file except in compliance with the License.\n",
              "// You may obtain a copy of the License at\n",
              "//\n",
              "//      http://www.apache.org/licenses/LICENSE-2.0\n",
              "//\n",
              "// Unless required by applicable law or agreed to in writing, software\n",
              "// distributed under the License is distributed on an \"AS IS\" BASIS,\n",
              "// WITHOUT WARRANTIES OR CONDITIONS OF ANY KIND, either express or implied.\n",
              "// See the License for the specific language governing permissions and\n",
              "// limitations under the License.\n",
              "\n",
              "/**\n",
              " * @fileoverview Helpers for google.colab Python module.\n",
              " */\n",
              "(function(scope) {\n",
              "function span(text, styleAttributes = {}) {\n",
              "  const element = document.createElement('span');\n",
              "  element.textContent = text;\n",
              "  for (const key of Object.keys(styleAttributes)) {\n",
              "    element.style[key] = styleAttributes[key];\n",
              "  }\n",
              "  return element;\n",
              "}\n",
              "\n",
              "// Max number of bytes which will be uploaded at a time.\n",
              "const MAX_PAYLOAD_SIZE = 100 * 1024;\n",
              "\n",
              "function _uploadFiles(inputId, outputId) {\n",
              "  const steps = uploadFilesStep(inputId, outputId);\n",
              "  const outputElement = document.getElementById(outputId);\n",
              "  // Cache steps on the outputElement to make it available for the next call\n",
              "  // to uploadFilesContinue from Python.\n",
              "  outputElement.steps = steps;\n",
              "\n",
              "  return _uploadFilesContinue(outputId);\n",
              "}\n",
              "\n",
              "// This is roughly an async generator (not supported in the browser yet),\n",
              "// where there are multiple asynchronous steps and the Python side is going\n",
              "// to poll for completion of each step.\n",
              "// This uses a Promise to block the python side on completion of each step,\n",
              "// then passes the result of the previous step as the input to the next step.\n",
              "function _uploadFilesContinue(outputId) {\n",
              "  const outputElement = document.getElementById(outputId);\n",
              "  const steps = outputElement.steps;\n",
              "\n",
              "  const next = steps.next(outputElement.lastPromiseValue);\n",
              "  return Promise.resolve(next.value.promise).then((value) => {\n",
              "    // Cache the last promise value to make it available to the next\n",
              "    // step of the generator.\n",
              "    outputElement.lastPromiseValue = value;\n",
              "    return next.value.response;\n",
              "  });\n",
              "}\n",
              "\n",
              "/**\n",
              " * Generator function which is called between each async step of the upload\n",
              " * process.\n",
              " * @param {string} inputId Element ID of the input file picker element.\n",
              " * @param {string} outputId Element ID of the output display.\n",
              " * @return {!Iterable<!Object>} Iterable of next steps.\n",
              " */\n",
              "function* uploadFilesStep(inputId, outputId) {\n",
              "  const inputElement = document.getElementById(inputId);\n",
              "  inputElement.disabled = false;\n",
              "\n",
              "  const outputElement = document.getElementById(outputId);\n",
              "  outputElement.innerHTML = '';\n",
              "\n",
              "  const pickedPromise = new Promise((resolve) => {\n",
              "    inputElement.addEventListener('change', (e) => {\n",
              "      resolve(e.target.files);\n",
              "    });\n",
              "  });\n",
              "\n",
              "  const cancel = document.createElement('button');\n",
              "  inputElement.parentElement.appendChild(cancel);\n",
              "  cancel.textContent = 'Cancel upload';\n",
              "  const cancelPromise = new Promise((resolve) => {\n",
              "    cancel.onclick = () => {\n",
              "      resolve(null);\n",
              "    };\n",
              "  });\n",
              "\n",
              "  // Wait for the user to pick the files.\n",
              "  const files = yield {\n",
              "    promise: Promise.race([pickedPromise, cancelPromise]),\n",
              "    response: {\n",
              "      action: 'starting',\n",
              "    }\n",
              "  };\n",
              "\n",
              "  cancel.remove();\n",
              "\n",
              "  // Disable the input element since further picks are not allowed.\n",
              "  inputElement.disabled = true;\n",
              "\n",
              "  if (!files) {\n",
              "    return {\n",
              "      response: {\n",
              "        action: 'complete',\n",
              "      }\n",
              "    };\n",
              "  }\n",
              "\n",
              "  for (const file of files) {\n",
              "    const li = document.createElement('li');\n",
              "    li.append(span(file.name, {fontWeight: 'bold'}));\n",
              "    li.append(span(\n",
              "        `(${file.type || 'n/a'}) - ${file.size} bytes, ` +\n",
              "        `last modified: ${\n",
              "            file.lastModifiedDate ? file.lastModifiedDate.toLocaleDateString() :\n",
              "                                    'n/a'} - `));\n",
              "    const percent = span('0% done');\n",
              "    li.appendChild(percent);\n",
              "\n",
              "    outputElement.appendChild(li);\n",
              "\n",
              "    const fileDataPromise = new Promise((resolve) => {\n",
              "      const reader = new FileReader();\n",
              "      reader.onload = (e) => {\n",
              "        resolve(e.target.result);\n",
              "      };\n",
              "      reader.readAsArrayBuffer(file);\n",
              "    });\n",
              "    // Wait for the data to be ready.\n",
              "    let fileData = yield {\n",
              "      promise: fileDataPromise,\n",
              "      response: {\n",
              "        action: 'continue',\n",
              "      }\n",
              "    };\n",
              "\n",
              "    // Use a chunked sending to avoid message size limits. See b/62115660.\n",
              "    let position = 0;\n",
              "    do {\n",
              "      const length = Math.min(fileData.byteLength - position, MAX_PAYLOAD_SIZE);\n",
              "      const chunk = new Uint8Array(fileData, position, length);\n",
              "      position += length;\n",
              "\n",
              "      const base64 = btoa(String.fromCharCode.apply(null, chunk));\n",
              "      yield {\n",
              "        response: {\n",
              "          action: 'append',\n",
              "          file: file.name,\n",
              "          data: base64,\n",
              "        },\n",
              "      };\n",
              "\n",
              "      let percentDone = fileData.byteLength === 0 ?\n",
              "          100 :\n",
              "          Math.round((position / fileData.byteLength) * 100);\n",
              "      percent.textContent = `${percentDone}% done`;\n",
              "\n",
              "    } while (position < fileData.byteLength);\n",
              "  }\n",
              "\n",
              "  // All done.\n",
              "  yield {\n",
              "    response: {\n",
              "      action: 'complete',\n",
              "    }\n",
              "  };\n",
              "}\n",
              "\n",
              "scope.google = scope.google || {};\n",
              "scope.google.colab = scope.google.colab || {};\n",
              "scope.google.colab._files = {\n",
              "  _uploadFiles,\n",
              "  _uploadFilesContinue,\n",
              "};\n",
              "})(self);\n",
              "</script> "
            ]
          },
          "metadata": {}
        },
        {
          "output_type": "stream",
          "name": "stdout",
          "text": [
            "Saving file(3).csv to file(3) (3).csv\n",
            "time: 41.2 s (started: 2024-03-03 20:29:00 +00:00)\n"
          ]
        }
      ],
      "source": [
        "from google.colab import files\n",
        "\n",
        "\n",
        "uploaded = files.upload()"
      ]
    },
    {
      "cell_type": "code",
      "execution_count": null,
      "metadata": {
        "id": "qNpIxZspHfiZ",
        "colab": {
          "base_uri": "https://localhost:8080/"
        },
        "outputId": "1a4d57db-375d-441c-9202-fd750476c8a0"
      },
      "outputs": [
        {
          "output_type": "stream",
          "name": "stdout",
          "text": [
            "CPU times: user 52 µs, sys: 0 ns, total: 52 µs\n",
            "Wall time: 57.7 µs\n",
            "time: 3.2 ms (started: 2024-03-03 20:29:41 +00:00)\n"
          ]
        }
      ],
      "source": [
        "%%time\n",
        "\n",
        "import pandas as pd\n",
        "import numpy as np\n",
        "import matplotlib.pyplot as plt\n",
        "import seaborn as sns\n",
        "from sklearn.svm import SVC\n",
        "from sklearn.metrics import classification_report, accuracy_score\n",
        "from sklearn.preprocessing import StandardScaler"
      ]
    },
    {
      "cell_type": "code",
      "execution_count": null,
      "metadata": {
        "colab": {
          "base_uri": "https://localhost:8080/"
        },
        "id": "D28gF2camzan",
        "outputId": "6143fee5-7182-4481-c7f0-e2ceaab99c64"
      },
      "outputs": [
        {
          "output_type": "stream",
          "name": "stdout",
          "text": [
            "CPU times: user 52.5 ms, sys: 8.02 ms, total: 60.5 ms\n",
            "Wall time: 60.1 ms\n"
          ]
        },
        {
          "output_type": "execute_result",
          "data": {
            "text/plain": [
              "(10302, 25)"
            ]
          },
          "metadata": {},
          "execution_count": 121
        },
        {
          "output_type": "stream",
          "name": "stdout",
          "text": [
            "time: 66.7 ms (started: 2024-03-03 20:29:41 +00:00)\n"
          ]
        }
      ],
      "source": [
        "%%time\n",
        "\n",
        "data = pd.read_csv('file(3).csv',header='infer')\n",
        "data.head()\n",
        "data.shape"
      ]
    },
    {
      "cell_type": "code",
      "execution_count": null,
      "metadata": {
        "colab": {
          "base_uri": "https://localhost:8080/",
          "height": 608
        },
        "id": "FRRGzxNxr5gn",
        "outputId": "f33b0792-afe5-4ccc-f8fd-cd93f1407316"
      },
      "outputs": [
        {
          "output_type": "stream",
          "name": "stdout",
          "text": [
            "CPU times: user 98.9 ms, sys: 20.1 ms, total: 119 ms\n",
            "Wall time: 102 ms\n"
          ]
        },
        {
          "output_type": "stream",
          "name": "stderr",
          "text": [
            "<timed exec>:6: FutureWarning: \n",
            "\n",
            "Passing `palette` without assigning `hue` is deprecated and will be removed in v0.14.0. Assign the `x` variable to `hue` and set `legend=False` for the same effect.\n",
            "\n",
            "<timed exec>:6: UserWarning: Numpy array is not a supported type for `palette`. Please convert your palette to a list. This will become an error in v0.14\n"
          ]
        },
        {
          "output_type": "display_data",
          "data": {
            "text/plain": [
              "<Figure size 500x500 with 1 Axes>"
            ],
            "image/png": "[encoded data removed]"
          },
          "metadata": {}
        },
        {
          "output_type": "stream",
          "name": "stdout",
          "text": [
            "time: 266 ms (started: 2024-03-03 20:29:41 +00:00)\n"
          ]
        }
      ],
      "source": [
        "%%time\n",
        "\n",
        "#Calculating count of Fraud vs No Fraud cases\n",
        "plt.figure(figsize=(5,5))\n",
        "target_group = data.groupby('CLAIM_FLAG').size().reset_index()\n",
        "pal = sns.color_palette(\"Greens_d\", len(target_group))\n",
        "rank = target_group[\"CLAIM_FLAG\"].argsort().argsort()\n",
        "g = sns.barplot(x = target_group['CLAIM_FLAG'],y = target_group[0],palette=np.array(pal[::-1])[rank] )\n",
        "\n",
        "for index, row in target_group.iterrows():\n",
        "    g.text(row['CLAIM_FLAG'],row[0], round(row[0],2), color='black', ha=\"center\",fontsize='x-large')"
      ]
    },
    {
      "cell_type": "markdown",
      "metadata": {
        "id": "bJc9UkP2hX6T"
      },
      "source": [
        "As we can see, there is an imbalance in data"
      ]
    },
    {
      "cell_type": "code",
      "execution_count": null,
      "metadata": {
        "colab": {
          "base_uri": "https://localhost:8080/",
          "height": 240
        },
        "id": "UyU0bTvXhvQE",
        "outputId": "47953860-f3ae-4cdd-a2d7-24a460c3053a"
      },
      "outputs": [
        {
          "output_type": "stream",
          "name": "stdout",
          "text": [
            "CPU times: user 9 µs, sys: 1e+03 ns, total: 10 µs\n",
            "Wall time: 12.6 µs\n"
          ]
        },
        {
          "output_type": "execute_result",
          "data": {
            "text/plain": [
              "<bound method NDFrame.head of               ID  KIDSDRIV   AGE  HOMEKIDS   YOJ    INCOME PARENT1  HOME_VAL  \\\n",
              "0       63581743         0  60.0         0  11.0   $67,349      No        $0   \n",
              "1      132761049         0  43.0         0  11.0   $91,449      No  $257,252   \n",
              "2      921317019         0  48.0         0  11.0   $52,881      No        $0   \n",
              "3      727598473         0  35.0         1  10.0   $16,039      No  $124,191   \n",
              "4      450221861         0  51.0         0  14.0       NaN      No  $306,251   \n",
              "...          ...       ...   ...       ...   ...       ...     ...       ...   \n",
              "10297   67790126         1  45.0         2   9.0  $164,669      No  $386,273   \n",
              "10298   61970712         0  46.0         0   9.0  $107,204      No  $332,591   \n",
              "10299  849208064         0  48.0         0  15.0   $39,837      No  $170,611   \n",
              "10300  627828331         0  50.0         0   7.0   $43,445      No  $149,248   \n",
              "10301  680381960         0  52.0         0  11.0   $53,235      No  $197,017   \n",
              "\n",
              "      MSTATUS GENDER  ... TIF     CAR_TYPE  RED_CAR OLDCLAIM CLM_FREQ  \\\n",
              "0        z_No      M  ...  11      Minivan      yes   $4,461        2   \n",
              "1        z_No      M  ...   1      Minivan      yes       $0        0   \n",
              "2        z_No      M  ...   1          Van      yes       $0        0   \n",
              "3         Yes    z_F  ...   4        z_SUV       no  $38,690        2   \n",
              "4         Yes      M  ...   7      Minivan      yes       $0        0   \n",
              "...       ...    ...  ...  ..          ...      ...      ...      ...   \n",
              "10297     Yes      M  ...  15      Minivan       no       $0        0   \n",
              "10298     Yes      M  ...   6  Panel Truck       no       $0        0   \n",
              "10299     Yes    z_F  ...   7        z_SUV       no       $0        0   \n",
              "10300     Yes    z_F  ...   6      Minivan       no       $0        0   \n",
              "10301     Yes    z_F  ...   6      Minivan       no       $0        0   \n",
              "\n",
              "       REVOKED MVR_PTS CLM_AMT CAR_AGE  CLAIM_FLAG  \n",
              "0           No       3      $0    18.0           0  \n",
              "1           No       0      $0     1.0           0  \n",
              "2           No       2      $0    10.0           0  \n",
              "3           No       3      $0    10.0           0  \n",
              "4           No       0      $0     6.0           0  \n",
              "...        ...     ...     ...     ...         ...  \n",
              "10297       No       2      $0    17.0           0  \n",
              "10298       No       0      $0     1.0           0  \n",
              "10299       No       0      $0     1.0           0  \n",
              "10300       No       0      $0    11.0           0  \n",
              "10301       No       0      $0     9.0           0  \n",
              "\n",
              "[10302 rows x 25 columns]>"
            ],
            "text/html": [
              "<div style=\"max-width:800px; border: 1px solid var(--colab-border-color);\"><style>\n",
              "      pre.function-repr-contents {\n",
              "        overflow-x: auto;\n",
              "        padding: 8px 12px;\n",
              "        max-height: 500px;\n",
              "      }\n",
              "\n",
              "      pre.function-repr-contents.function-repr-contents-collapsed {\n",
              "        cursor: pointer;\n",
              "        max-height: 100px;\n",
              "      }\n",
              "    </style>\n",
              "    <pre style=\"white-space: initial; background:\n",
              "         var(--colab-secondary-surface-color); padding: 8px 12px;\n",
              "         border-bottom: 1px solid var(--colab-border-color);\"><b>pandas.core.generic.NDFrame.head</b><br/>def head(n: int=5) -&gt; NDFrameT</pre><pre class=\"function-repr-contents function-repr-contents-collapsed\" style=\"\"><a class=\"filepath\" style=\"display:none\" href=\"#\">/usr/local/lib/python3.10/dist-packages/pandas/core/generic.py</a>Return the first `n` rows.\n",
              "\n",
              "This function returns the first `n` rows for the object based\n",
              "on position. It is useful for quickly testing if your object\n",
              "has the right type of data in it.\n",
              "\n",
              "For negative values of `n`, this function returns all rows except\n",
              "the last `|n|` rows, equivalent to ``df[:n]``.\n",
              "\n",
              "If n is larger than the number of rows, this function returns all rows.\n",
              "\n",
              "Parameters\n",
              "----------\n",
              "n : int, default 5\n",
              "    Number of rows to select.\n",
              "\n",
              "Returns\n",
              "-------\n",
              "same type as caller\n",
              "    The first `n` rows of the caller object.\n",
              "\n",
              "See Also\n",
              "--------\n",
              "DataFrame.tail: Returns the last `n` rows.\n",
              "\n",
              "Examples\n",
              "--------\n",
              "&gt;&gt;&gt; df = pd.DataFrame({&#x27;animal&#x27;: [&#x27;alligator&#x27;, &#x27;bee&#x27;, &#x27;falcon&#x27;, &#x27;lion&#x27;,\n",
              "...                    &#x27;monkey&#x27;, &#x27;parrot&#x27;, &#x27;shark&#x27;, &#x27;whale&#x27;, &#x27;zebra&#x27;]})\n",
              "&gt;&gt;&gt; df\n",
              "      animal\n",
              "0  alligator\n",
              "1        bee\n",
              "2     falcon\n",
              "3       lion\n",
              "4     monkey\n",
              "5     parrot\n",
              "6      shark\n",
              "7      whale\n",
              "8      zebra\n",
              "\n",
              "Viewing the first 5 lines\n",
              "\n",
              "&gt;&gt;&gt; df.head()\n",
              "      animal\n",
              "0  alligator\n",
              "1        bee\n",
              "2     falcon\n",
              "3       lion\n",
              "4     monkey\n",
              "\n",
              "Viewing the first `n` lines (three in this case)\n",
              "\n",
              "&gt;&gt;&gt; df.head(3)\n",
              "      animal\n",
              "0  alligator\n",
              "1        bee\n",
              "2     falcon\n",
              "\n",
              "For negative values of `n`\n",
              "\n",
              "&gt;&gt;&gt; df.head(-3)\n",
              "      animal\n",
              "0  alligator\n",
              "1        bee\n",
              "2     falcon\n",
              "3       lion\n",
              "4     monkey\n",
              "5     parrot</pre>\n",
              "      <script>\n",
              "      if (google.colab.kernel.accessAllowed && google.colab.files && google.colab.files.view) {\n",
              "        for (const element of document.querySelectorAll('.filepath')) {\n",
              "          element.style.display = 'block'\n",
              "          element.onclick = (event) => {\n",
              "            event.preventDefault();\n",
              "            event.stopPropagation();\n",
              "            google.colab.files.view(element.textContent, 5474);\n",
              "          };\n",
              "        }\n",
              "      }\n",
              "      for (const element of document.querySelectorAll('.function-repr-contents')) {\n",
              "        element.onclick = (event) => {\n",
              "          event.preventDefault();\n",
              "          event.stopPropagation();\n",
              "          element.classList.toggle('function-repr-contents-collapsed');\n",
              "        };\n",
              "      }\n",
              "      </script>\n",
              "      </div>"
            ]
          },
          "metadata": {},
          "execution_count": 123
        },
        {
          "output_type": "stream",
          "name": "stdout",
          "text": [
            "time: 34.8 ms (started: 2024-03-03 20:29:41 +00:00)\n"
          ]
        }
      ],
      "source": [
        "%%time\n",
        "\n",
        "data.head"
      ]
    },
    {
      "cell_type": "code",
      "execution_count": null,
      "metadata": {
        "colab": {
          "base_uri": "https://localhost:8080/",
          "height": 260
        },
        "id": "2DZrYiS7hwYV",
        "outputId": "fd8ddfd1-84fd-4861-80ca-67c4e2327d4e"
      },
      "outputs": [
        {
          "output_type": "stream",
          "name": "stdout",
          "text": [
            "CPU times: user 2.71 ms, sys: 0 ns, total: 2.71 ms\n",
            "Wall time: 2.73 ms\n"
          ]
        },
        {
          "output_type": "execute_result",
          "data": {
            "text/plain": [
              "          ID   AGE   INCOME GENDER     OCCUPATION     CAR_USE  TIF CAR_TYPE  \\\n",
              "0   63581743  60.0  $67,349      M   Professional     Private   11  Minivan   \n",
              "1  132761049  43.0  $91,449      M  z_Blue Collar  Commercial    1  Minivan   \n",
              "2  921317019  48.0  $52,881      M        Manager     Private    1      Van   \n",
              "3  727598473  35.0  $16,039    z_F       Clerical     Private    4    z_SUV   \n",
              "4  450221861  51.0      NaN      M  z_Blue Collar     Private    7  Minivan   \n",
              "\n",
              "  OLDCLAIM  CLM_FREQ REVOKED  MVR_PTS CLM_AMT  CAR_AGE  CLAIM_FLAG  \n",
              "0   $4,461         2      No        3      $0     18.0           0  \n",
              "1       $0         0      No        0      $0      1.0           0  \n",
              "2       $0         0      No        2      $0     10.0           0  \n",
              "3  $38,690         2      No        3      $0     10.0           0  \n",
              "4       $0         0      No        0      $0      6.0           0  "
            ],
            "text/html": [
              "\n",
              "  <div id=\"df-0dbe1525-4635-4b71-9a6c-40ae866edeed\" class=\"colab-df-container\">\n",
              "    <div>\n",
              "<style scoped>\n",
              "    .dataframe tbody tr th:only-of-type {\n",
              "        vertical-align: middle;\n",
              "    }\n",
              "\n",
              "    .dataframe tbody tr th {\n",
              "        vertical-align: top;\n",
              "    }\n",
              "\n",
              "    .dataframe thead th {\n",
              "        text-align: right;\n",
              "    }\n",
              "</style>\n",
              "<table border=\"1\" class=\"dataframe\">\n",
              "  <thead>\n",
              "    <tr style=\"text-align: right;\">\n",
              "      <th></th>\n",
              "      <th>ID</th>\n",
              "      <th>AGE</th>\n",
              "      <th>INCOME</th>\n",
              "      <th>GENDER</th>\n",
              "      <th>OCCUPATION</th>\n",
              "      <th>CAR_USE</th>\n",
              "      <th>TIF</th>\n",
              "      <th>CAR_TYPE</th>\n",
              "      <th>OLDCLAIM</th>\n",
              "      <th>CLM_FREQ</th>\n",
              "      <th>REVOKED</th>\n",
              "      <th>MVR_PTS</th>\n",
              "      <th>CLM_AMT</th>\n",
              "      <th>CAR_AGE</th>\n",
              "      <th>CLAIM_FLAG</th>\n",
              "    </tr>\n",
              "  </thead>\n",
              "  <tbody>\n",
              "    <tr>\n",
              "      <th>0</th>\n",
              "      <td>63581743</td>\n",
              "      <td>60.0</td>\n",
              "      <td>$67,349</td>\n",
              "      <td>M</td>\n",
              "      <td>Professional</td>\n",
              "      <td>Private</td>\n",
              "      <td>11</td>\n",
              "      <td>Minivan</td>\n",
              "      <td>$4,461</td>\n",
              "      <td>2</td>\n",
              "      <td>No</td>\n",
              "      <td>3</td>\n",
              "      <td>$0</td>\n",
              "      <td>18.0</td>\n",
              "      <td>0</td>\n",
              "    </tr>\n",
              "    <tr>\n",
              "      <th>1</th>\n",
              "      <td>132761049</td>\n",
              "      <td>43.0</td>\n",
              "      <td>$91,449</td>\n",
              "      <td>M</td>\n",
              "      <td>z_Blue Collar</td>\n",
              "      <td>Commercial</td>\n",
              "      <td>1</td>\n",
              "      <td>Minivan</td>\n",
              "      <td>$0</td>\n",
              "      <td>0</td>\n",
              "      <td>No</td>\n",
              "      <td>0</td>\n",
              "      <td>$0</td>\n",
              "      <td>1.0</td>\n",
              "      <td>0</td>\n",
              "    </tr>\n",
              "    <tr>\n",
              "      <th>2</th>\n",
              "      <td>921317019</td>\n",
              "      <td>48.0</td>\n",
              "      <td>$52,881</td>\n",
              "      <td>M</td>\n",
              "      <td>Manager</td>\n",
              "      <td>Private</td>\n",
              "      <td>1</td>\n",
              "      <td>Van</td>\n",
              "      <td>$0</td>\n",
              "      <td>0</td>\n",
              "      <td>No</td>\n",
              "      <td>2</td>\n",
              "      <td>$0</td>\n",
              "      <td>10.0</td>\n",
              "      <td>0</td>\n",
              "    </tr>\n",
              "    <tr>\n",
              "      <th>3</th>\n",
              "      <td>727598473</td>\n",
              "      <td>35.0</td>\n",
              "      <td>$16,039</td>\n",
              "      <td>z_F</td>\n",
              "      <td>Clerical</td>\n",
              "      <td>Private</td>\n",
              "      <td>4</td>\n",
              "      <td>z_SUV</td>\n",
              "      <td>$38,690</td>\n",
              "      <td>2</td>\n",
              "      <td>No</td>\n",
              "      <td>3</td>\n",
              "      <td>$0</td>\n",
              "      <td>10.0</td>\n",
              "      <td>0</td>\n",
              "    </tr>\n",
              "    <tr>\n",
              "      <th>4</th>\n",
              "      <td>450221861</td>\n",
              "      <td>51.0</td>\n",
              "      <td>NaN</td>\n",
              "      <td>M</td>\n",
              "      <td>z_Blue Collar</td>\n",
              "      <td>Private</td>\n",
              "      <td>7</td>\n",
              "      <td>Minivan</td>\n",
              "      <td>$0</td>\n",
              "      <td>0</td>\n",
              "      <td>No</td>\n",
              "      <td>0</td>\n",
              "      <td>$0</td>\n",
              "      <td>6.0</td>\n",
              "      <td>0</td>\n",
              "    </tr>\n",
              "  </tbody>\n",
              "</table>\n",
              "</div>\n",
              "    <div class=\"colab-df-buttons\">\n",
              "\n",
              "  <div class=\"colab-df-container\">\n",
              "    <button class=\"colab-df-convert\" onclick=\"convertToInteractive('df-0dbe1525-4635-4b71-9a6c-40ae866edeed')\"\n",
              "            title=\"Convert this dataframe to an interactive table.\"\n",
              "            style=\"display:none;\">\n",
              "\n",
              "  <svg xmlns=\"http://www.w3.org/2000/svg\" height=\"24px\" viewBox=\"0 -960 960 960\">\n",
              "    <path d=\"M120-120v-720h720v720H120Zm60-500h600v-160H180v160Zm220 220h160v-160H400v160Zm0 220h160v-160H400v160ZM180-400h160v-160H180v160Zm440 0h160v-160H620v160ZM180-180h160v-160H180v160Zm440 0h160v-160H620v160Z\"/>\n",
              "  </svg>\n",
              "    </button>\n",
              "\n",
              "  <style>\n",
              "    .colab-df-container {\n",
              "      display:flex;\n",
              "      gap: 12px;\n",
              "    }\n",
              "\n",
              "    .colab-df-convert {\n",
              "      background-color: #E8F0FE;\n",
              "      border: none;\n",
              "      border-radius: 50%;\n",
              "      cursor: pointer;\n",
              "      display: none;\n",
              "      fill: #1967D2;\n",
              "      height: 32px;\n",
              "      padding: 0 0 0 0;\n",
              "      width: 32px;\n",
              "    }\n",
              "\n",
              "    .colab-df-convert:hover {\n",
              "      background-color: #E2EBFA;\n",
              "      box-shadow: 0px 1px 2px rgba(60, 64, 67, 0.3), 0px 1px 3px 1px rgba(60, 64, 67, 0.15);\n",
              "      fill: #174EA6;\n",
              "    }\n",
              "\n",
              "    .colab-df-buttons div {\n",
              "      margin-bottom: 4px;\n",
              "    }\n",
              "\n",
              "    [theme=dark] .colab-df-convert {\n",
              "      background-color: #3B4455;\n",
              "      fill: #D2E3FC;\n",
              "    }\n",
              "\n",
              "    [theme=dark] .colab-df-convert:hover {\n",
              "      background-color: #434B5C;\n",
              "      box-shadow: 0px 1px 3px 1px rgba(0, 0, 0, 0.15);\n",
              "      filter: drop-shadow(0px 1px 2px rgba(0, 0, 0, 0.3));\n",
              "      fill: #FFFFFF;\n",
              "    }\n",
              "  </style>\n",
              "\n",
              "    <script>\n",
              "      const buttonEl =\n",
              "        document.querySelector('#df-0dbe1525-4635-4b71-9a6c-40ae866edeed button.colab-df-convert');\n",
              "      buttonEl.style.display =\n",
              "        google.colab.kernel.accessAllowed ? 'block' : 'none';\n",
              "\n",
              "      async function convertToInteractive(key) {\n",
              "        const element = document.querySelector('#df-0dbe1525-4635-4b71-9a6c-40ae866edeed');\n",
              "        const dataTable =\n",
              "          await google.colab.kernel.invokeFunction('convertToInteractive',\n",
              "                                                    [key], {});\n",
              "        if (!dataTable) return;\n",
              "\n",
              "        const docLinkHtml = 'Like what you see? Visit the ' +\n",
              "          '<a target=\"_blank\" href=https://colab.research.google.com/notebooks/data_table.ipynb>data table notebook</a>'\n",
              "          + ' to learn more about interactive tables.';\n",
              "        element.innerHTML = '';\n",
              "        dataTable['output_type'] = 'display_data';\n",
              "        await google.colab.output.renderOutput(dataTable, element);\n",
              "        const docLink = document.createElement('div');\n",
              "        docLink.innerHTML = docLinkHtml;\n",
              "        element.appendChild(docLink);\n",
              "      }\n",
              "    </script>\n",
              "  </div>\n",
              "\n",
              "\n",
              "<div id=\"df-b6cee75b-1730-4382-80f4-f9c25e46763b\">\n",
              "  <button class=\"colab-df-quickchart\" onclick=\"quickchart('df-b6cee75b-1730-4382-80f4-f9c25e46763b')\"\n",
              "            title=\"Suggest charts\"\n",
              "            style=\"display:none;\">\n",
              "\n",
              "<svg xmlns=\"http://www.w3.org/2000/svg\" height=\"24px\"viewBox=\"0 0 24 24\"\n",
              "     width=\"24px\">\n",
              "    <g>\n",
              "        <path d=\"M19 3H5c-1.1 0-2 .9-2 2v14c0 1.1.9 2 2 2h14c1.1 0 2-.9 2-2V5c0-1.1-.9-2-2-2zM9 17H7v-7h2v7zm4 0h-2V7h2v10zm4 0h-2v-4h2v4z\"/>\n",
              "    </g>\n",
              "</svg>\n",
              "  </button>\n",
              "\n",
              "<style>\n",
              "  .colab-df-quickchart {\n",
              "      --bg-color: #E8F0FE;\n",
              "      --fill-color: #1967D2;\n",
              "      --hover-bg-color: #E2EBFA;\n",
              "      --hover-fill-color: #174EA6;\n",
              "      --disabled-fill-color: #AAA;\n",
              "      --disabled-bg-color: #DDD;\n",
              "  }\n",
              "\n",
              "  [theme=dark] .colab-df-quickchart {\n",
              "      --bg-color: #3B4455;\n",
              "      --fill-color: #D2E3FC;\n",
              "      --hover-bg-color: #434B5C;\n",
              "      --hover-fill-color: #FFFFFF;\n",
              "      --disabled-bg-color: #3B4455;\n",
              "      --disabled-fill-color: #666;\n",
              "  }\n",
              "\n",
              "  .colab-df-quickchart {\n",
              "    background-color: var(--bg-color);\n",
              "    border: none;\n",
              "    border-radius: 50%;\n",
              "    cursor: pointer;\n",
              "    display: none;\n",
              "    fill: var(--fill-color);\n",
              "    height: 32px;\n",
              "    padding: 0;\n",
              "    width: 32px;\n",
              "  }\n",
              "\n",
              "  .colab-df-quickchart:hover {\n",
              "    background-color: var(--hover-bg-color);\n",
              "    box-shadow: 0 1px 2px rgba(60, 64, 67, 0.3), 0 1px 3px 1px rgba(60, 64, 67, 0.15);\n",
              "    fill: var(--button-hover-fill-color);\n",
              "  }\n",
              "\n",
              "  .colab-df-quickchart-complete:disabled,\n",
              "  .colab-df-quickchart-complete:disabled:hover {\n",
              "    background-color: var(--disabled-bg-color);\n",
              "    fill: var(--disabled-fill-color);\n",
              "    box-shadow: none;\n",
              "  }\n",
              "\n",
              "  .colab-df-spinner {\n",
              "    border: 2px solid var(--fill-color);\n",
              "    border-color: transparent;\n",
              "    border-bottom-color: var(--fill-color);\n",
              "    animation:\n",
              "      spin 1s steps(1) infinite;\n",
              "  }\n",
              "\n",
              "  @keyframes spin {\n",
              "    0% {\n",
              "      border-color: transparent;\n",
              "      border-bottom-color: var(--fill-color);\n",
              "      border-left-color: var(--fill-color);\n",
              "    }\n",
              "    20% {\n",
              "      border-color: transparent;\n",
              "      border-left-color: var(--fill-color);\n",
              "      border-top-color: var(--fill-color);\n",
              "    }\n",
              "    30% {\n",
              "      border-color: transparent;\n",
              "      border-left-color: var(--fill-color);\n",
              "      border-top-color: var(--fill-color);\n",
              "      border-right-color: var(--fill-color);\n",
              "    }\n",
              "    40% {\n",
              "      border-color: transparent;\n",
              "      border-right-color: var(--fill-color);\n",
              "      border-top-color: var(--fill-color);\n",
              "    }\n",
              "    60% {\n",
              "      border-color: transparent;\n",
              "      border-right-color: var(--fill-color);\n",
              "    }\n",
              "    80% {\n",
              "      border-color: transparent;\n",
              "      border-right-color: var(--fill-color);\n",
              "      border-bottom-color: var(--fill-color);\n",
              "    }\n",
              "    90% {\n",
              "      border-color: transparent;\n",
              "      border-bottom-color: var(--fill-color);\n",
              "    }\n",
              "  }\n",
              "</style>\n",
              "\n",
              "  <script>\n",
              "    async function quickchart(key) {\n",
              "      const quickchartButtonEl =\n",
              "        document.querySelector('#' + key + ' button');\n",
              "      quickchartButtonEl.disabled = true;  // To prevent multiple clicks.\n",
              "      quickchartButtonEl.classList.add('colab-df-spinner');\n",
              "      try {\n",
              "        const charts = await google.colab.kernel.invokeFunction(\n",
              "            'suggestCharts', [key], {});\n",
              "      } catch (error) {\n",
              "        console.error('Error during call to suggestCharts:', error);\n",
              "      }\n",
              "      quickchartButtonEl.classList.remove('colab-df-spinner');\n",
              "      quickchartButtonEl.classList.add('colab-df-quickchart-complete');\n",
              "    }\n",
              "    (() => {\n",
              "      let quickchartButtonEl =\n",
              "        document.querySelector('#df-b6cee75b-1730-4382-80f4-f9c25e46763b button');\n",
              "      quickchartButtonEl.style.display =\n",
              "        google.colab.kernel.accessAllowed ? 'block' : 'none';\n",
              "    })();\n",
              "  </script>\n",
              "</div>\n",
              "\n",
              "    </div>\n",
              "  </div>\n"
            ],
            "application/vnd.google.colaboratory.intrinsic+json": {
              "type": "dataframe",
              "summary": "{\n  \"name\": \"get_ipython()\",\n  \"rows\": 5,\n  \"fields\": [\n    {\n      \"column\": \"ID\",\n      \"properties\": {\n        \"dtype\": \"number\",\n        \"std\": 370387171,\n        \"min\": 63581743,\n        \"max\": 921317019,\n        \"num_unique_values\": 5,\n        \"samples\": [\n          132761049,\n          450221861,\n          921317019\n        ],\n        \"semantic_type\": \"\",\n        \"description\": \"\"\n      }\n    },\n    {\n      \"column\": \"AGE\",\n      \"properties\": {\n        \"dtype\": \"number\",\n        \"std\": 9.289779329994873,\n        \"min\": 35.0,\n        \"max\": 60.0,\n        \"num_unique_values\": 5,\n        \"samples\": [\n          43.0,\n          51.0,\n          48.0\n        ],\n        \"semantic_type\": \"\",\n        \"description\": \"\"\n      }\n    },\n    {\n      \"column\": \"INCOME\",\n      \"properties\": {\n        \"dtype\": \"string\",\n        \"num_unique_values\": 4,\n        \"samples\": [\n          \"$91,449\",\n          \"$16,039\",\n          \"$67,349\"\n        ],\n        \"semantic_type\": \"\",\n        \"description\": \"\"\n      }\n    },\n    {\n      \"column\": \"GENDER\",\n      \"properties\": {\n        \"dtype\": \"category\",\n        \"num_unique_values\": 2,\n        \"samples\": [\n          \"z_F\",\n          \"M\"\n        ],\n        \"semantic_type\": \"\",\n        \"description\": \"\"\n      }\n    },\n    {\n      \"column\": \"OCCUPATION\",\n      \"properties\": {\n        \"dtype\": \"string\",\n        \"num_unique_values\": 4,\n        \"samples\": [\n          \"z_Blue Collar\",\n          \"Clerical\"\n        ],\n        \"semantic_type\": \"\",\n        \"description\": \"\"\n      }\n    },\n    {\n      \"column\": \"CAR_USE\",\n      \"properties\": {\n        \"dtype\": \"category\",\n        \"num_unique_values\": 2,\n        \"samples\": [\n          \"Commercial\",\n          \"Private\"\n        ],\n        \"semantic_type\": \"\",\n        \"description\": \"\"\n      }\n    },\n    {\n      \"column\": \"TIF\",\n      \"properties\": {\n        \"dtype\": \"number\",\n        \"std\": 4,\n        \"min\": 1,\n        \"max\": 11,\n        \"num_unique_values\": 4,\n        \"samples\": [\n          1,\n          7\n        ],\n        \"semantic_type\": \"\",\n        \"description\": \"\"\n      }\n    },\n    {\n      \"column\": \"CAR_TYPE\",\n      \"properties\": {\n        \"dtype\": \"string\",\n        \"num_unique_values\": 3,\n        \"samples\": [\n          \"Minivan\",\n          \"Van\"\n        ],\n        \"semantic_type\": \"\",\n        \"description\": \"\"\n      }\n    },\n    {\n      \"column\": \"OLDCLAIM\",\n      \"properties\": {\n        \"dtype\": \"string\",\n        \"num_unique_values\": 3,\n        \"samples\": [\n          \"$4,461\",\n          \"$0\"\n        ],\n        \"semantic_type\": \"\",\n        \"description\": \"\"\n      }\n    },\n    {\n      \"column\": \"CLM_FREQ\",\n      \"properties\": {\n        \"dtype\": \"number\",\n        \"std\": 1,\n        \"min\": 0,\n        \"max\": 2,\n        \"num_unique_values\": 2,\n        \"samples\": [\n          0,\n          2\n        ],\n        \"semantic_type\": \"\",\n        \"description\": \"\"\n      }\n    },\n    {\n      \"column\": \"REVOKED\",\n      \"properties\": {\n        \"dtype\": \"category\",\n        \"num_unique_values\": 1,\n        \"samples\": [\n          \"No\"\n        ],\n        \"semantic_type\": \"\",\n        \"description\": \"\"\n      }\n    },\n    {\n      \"column\": \"MVR_PTS\",\n      \"properties\": {\n        \"dtype\": \"number\",\n        \"std\": 1,\n        \"min\": 0,\n        \"max\": 3,\n        \"num_unique_values\": 3,\n        \"samples\": [\n          3\n        ],\n        \"semantic_type\": \"\",\n        \"description\": \"\"\n      }\n    },\n    {\n      \"column\": \"CLM_AMT\",\n      \"properties\": {\n        \"dtype\": \"category\",\n        \"num_unique_values\": 1,\n        \"samples\": [\n          \"$0\"\n        ],\n        \"semantic_type\": \"\",\n        \"description\": \"\"\n      }\n    },\n    {\n      \"column\": \"CAR_AGE\",\n      \"properties\": {\n        \"dtype\": \"number\",\n        \"std\": 6.244997998398398,\n        \"min\": 1.0,\n        \"max\": 18.0,\n        \"num_unique_values\": 4,\n        \"samples\": [\n          1.0\n        ],\n        \"semantic_type\": \"\",\n        \"description\": \"\"\n      }\n    },\n    {\n      \"column\": \"CLAIM_FLAG\",\n      \"properties\": {\n        \"dtype\": \"number\",\n        \"std\": 0,\n        \"min\": 0,\n        \"max\": 0,\n        \"num_unique_values\": 1,\n        \"samples\": [\n          0\n        ],\n        \"semantic_type\": \"\",\n        \"description\": \"\"\n      }\n    }\n  ]\n}"
            }
          },
          "metadata": {},
          "execution_count": 124
        },
        {
          "output_type": "stream",
          "name": "stdout",
          "text": [
            "time: 57.1 ms (started: 2024-03-03 20:29:41 +00:00)\n"
          ]
        }
      ],
      "source": [
        "%%time\n",
        "\n",
        "columns_to_drop = ['KIDSDRIV', 'HOMEKIDS', 'YOJ','PARENT1','HOME_VAL','MSTATUS','TRAVTIME','EDUCATION','BLUEBOOK','RED_CAR']\n",
        "data = data.drop(columns_to_drop,axis=1)\n",
        "data.head()"
      ]
    },
    {
      "cell_type": "code",
      "execution_count": null,
      "metadata": {
        "colab": {
          "base_uri": "https://localhost:8080/"
        },
        "id": "9JxAVQ85zPO8",
        "outputId": "3ceb9fdf-5b33-4673-bf60-45ab5a682754"
      },
      "outputs": [
        {
          "output_type": "stream",
          "name": "stdout",
          "text": [
            "Number of missing values:\n",
            "\tID: 0\n",
            "\tAGE: 7\n",
            "\tINCOME: 570\n",
            "\tGENDER: 0\n",
            "\tOCCUPATION: 665\n",
            "\tCAR_USE: 0\n",
            "\tTIF: 0\n",
            "\tCAR_TYPE: 0\n",
            "\tOLDCLAIM: 0\n",
            "\tCLM_FREQ: 0\n",
            "\tREVOKED: 0\n",
            "\tMVR_PTS: 0\n",
            "\tCLM_AMT: 0\n",
            "\tCAR_AGE: 639\n",
            "\tCLAIM_FLAG: 0\n",
            "CPU times: user 19 ms, sys: 2.01 ms, total: 21 ms\n",
            "Wall time: 20.5 ms\n",
            "time: 23.6 ms (started: 2024-03-03 20:29:41 +00:00)\n"
          ]
        }
      ],
      "source": [
        "%%time\n",
        "\n",
        "print('Number of missing values:')\n",
        "for col in data.columns:\n",
        "    print('\\t%s: %d' % (col,data[col].isna().sum()))"
      ]
    },
    {
      "cell_type": "code",
      "execution_count": null,
      "metadata": {
        "colab": {
          "base_uri": "https://localhost:8080/"
        },
        "id": "lxLtVmL3YnYl",
        "outputId": "e852ee27-7415-4577-9fe5-a45aa5f65cf3"
      },
      "outputs": [
        {
          "output_type": "stream",
          "name": "stdout",
          "text": [
            "CPU times: user 86 µs, sys: 0 ns, total: 86 µs\n",
            "Wall time: 92 µs\n"
          ]
        },
        {
          "output_type": "execute_result",
          "data": {
            "text/plain": [
              "dtype('O')"
            ]
          },
          "metadata": {},
          "execution_count": 126
        },
        {
          "output_type": "stream",
          "name": "stdout",
          "text": [
            "time: 8.1 ms (started: 2024-03-03 20:29:42 +00:00)\n"
          ]
        }
      ],
      "source": [
        "%%time\n",
        "\n",
        "data['INCOME'].dtype"
      ]
    },
    {
      "cell_type": "code",
      "execution_count": null,
      "metadata": {
        "colab": {
          "base_uri": "https://localhost:8080/"
        },
        "id": "Uv_3AIHo0eDs",
        "outputId": "5274edeb-d772-4f5f-b408-bcf12e3cee70"
      },
      "outputs": [
        {
          "output_type": "stream",
          "name": "stdout",
          "text": [
            "CPU times: user 26.3 ms, sys: 873 µs, total: 27.2 ms\n",
            "Wall time: 26.9 ms\n",
            "time: 28.8 ms (started: 2024-03-03 20:29:42 +00:00)\n"
          ]
        },
        {
          "output_type": "stream",
          "name": "stderr",
          "text": [
            "<timed exec>:2: FutureWarning: The default value of regex will change from True to False in a future version. In addition, single character regular expressions will *not* be treated as literal strings when regex=True.\n"
          ]
        }
      ],
      "source": [
        "%%time\n",
        "\n",
        "data['INCOME'].unique()\n",
        "data['INCOME'] = data['INCOME'].str.replace('$', '')\n",
        "data['INCOME'] = data['INCOME'].str.replace(',', '')\n",
        "data['INCOME'] = pd.to_numeric(data['INCOME'])\n",
        "data2 = data['INCOME']\n",
        "data2 = data2.fillna(data2.median())\n",
        "\n",
        "data['INCOME'] = data2"
      ]
    },
    {
      "cell_type": "code",
      "execution_count": null,
      "metadata": {
        "id": "Uwj9OGr8YtWl",
        "colab": {
          "base_uri": "https://localhost:8080/"
        },
        "outputId": "dbf0fd46-d35e-44b4-ed63-83c90616bb5f"
      },
      "outputs": [
        {
          "output_type": "stream",
          "name": "stdout",
          "text": [
            "time: 3.98 ms (started: 2024-03-03 20:29:42 +00:00)\n"
          ]
        }
      ],
      "source": [
        "data['CAR_AGE'] = pd.to_numeric(data['CAR_AGE'])\n",
        "data2 = data['CAR_AGE']\n",
        "data2 = data2.fillna(data2.median())\n",
        "\n",
        "data['CAR_AGE'] = data2"
      ]
    },
    {
      "cell_type": "code",
      "execution_count": null,
      "metadata": {
        "id": "Ausf4Mj9ZhNE",
        "colab": {
          "base_uri": "https://localhost:8080/"
        },
        "outputId": "bba7479b-bf05-48f0-f027-8c9d756e5ede"
      },
      "outputs": [
        {
          "output_type": "stream",
          "name": "stdout",
          "text": [
            "time: 6.37 ms (started: 2024-03-03 20:29:42 +00:00)\n"
          ]
        }
      ],
      "source": [
        "\n",
        "data2 = data['OCCUPATION']\n",
        "data2 = data2.fillna(data2.mode())\n",
        "\n",
        "data['OCCUPATION'] = data2"
      ]
    },
    {
      "cell_type": "code",
      "execution_count": null,
      "metadata": {
        "id": "bAtHpBq6UmMM",
        "colab": {
          "base_uri": "https://localhost:8080/"
        },
        "outputId": "f6821fc2-4f3c-4c12-8c1d-7d49006f9b1b"
      },
      "outputs": [
        {
          "output_type": "stream",
          "name": "stdout",
          "text": [
            "time: 2.63 ms (started: 2024-03-03 20:29:42 +00:00)\n"
          ]
        }
      ],
      "source": [
        "data2 = data['AGE']\n",
        "data2 = data2.fillna(data2.median())\n",
        "\n",
        "data['AGE'] = data2"
      ]
    },
    {
      "cell_type": "code",
      "execution_count": null,
      "metadata": {
        "colab": {
          "base_uri": "https://localhost:8080/"
        },
        "id": "78b2gyxSZubm",
        "outputId": "4ee53a39-2ca0-4e23-db66-3d25c98f7fb6"
      },
      "outputs": [
        {
          "output_type": "stream",
          "name": "stdout",
          "text": [
            "Number of missing values:\n",
            "\tID: 0\n",
            "\tAGE: 0\n",
            "\tINCOME: 0\n",
            "\tGENDER: 0\n",
            "\tOCCUPATION: 665\n",
            "\tCAR_USE: 0\n",
            "\tTIF: 0\n",
            "\tCAR_TYPE: 0\n",
            "\tOLDCLAIM: 0\n",
            "\tCLM_FREQ: 0\n",
            "\tREVOKED: 0\n",
            "\tMVR_PTS: 0\n",
            "\tCLM_AMT: 0\n",
            "\tCAR_AGE: 0\n",
            "\tCLAIM_FLAG: 0\n",
            "time: 22 ms (started: 2024-03-03 20:29:42 +00:00)\n"
          ]
        }
      ],
      "source": [
        "print('Number of missing values:')\n",
        "for col in data.columns:\n",
        "    print('\\t%s: %d' % (col,data[col].isna().sum()))"
      ]
    },
    {
      "cell_type": "code",
      "execution_count": null,
      "metadata": {
        "id": "TqtX2z6Vwlcl",
        "colab": {
          "base_uri": "https://localhost:8080/"
        },
        "outputId": "61b017f2-19d6-4fc2-915c-dfd4da684481"
      },
      "outputs": [
        {
          "output_type": "stream",
          "name": "stdout",
          "text": [
            "time: 18.1 ms (started: 2024-03-03 20:29:42 +00:00)\n"
          ]
        }
      ],
      "source": [
        "data.dropna(inplace=True)"
      ]
    },
    {
      "cell_type": "code",
      "execution_count": null,
      "metadata": {
        "colab": {
          "base_uri": "https://localhost:8080/"
        },
        "id": "ZtcG6Z5pxT0w",
        "outputId": "2557ab25-d5ce-444f-bee0-b5f0cb1ead40"
      },
      "outputs": [
        {
          "output_type": "stream",
          "name": "stdout",
          "text": [
            "Number of missing values:\n",
            "\tID: 0\n",
            "\tAGE: 0\n",
            "\tINCOME: 0\n",
            "\tGENDER: 0\n",
            "\tOCCUPATION: 0\n",
            "\tCAR_USE: 0\n",
            "\tTIF: 0\n",
            "\tCAR_TYPE: 0\n",
            "\tOLDCLAIM: 0\n",
            "\tCLM_FREQ: 0\n",
            "\tREVOKED: 0\n",
            "\tMVR_PTS: 0\n",
            "\tCLM_AMT: 0\n",
            "\tCAR_AGE: 0\n",
            "\tCLAIM_FLAG: 0\n",
            "time: 20.5 ms (started: 2024-03-03 20:29:42 +00:00)\n"
          ]
        }
      ],
      "source": [
        "print('Number of missing values:')\n",
        "for col in data.columns:\n",
        "    print('\\t%s: %d' % (col,data[col].isna().sum()))"
      ]
    },
    {
      "cell_type": "code",
      "execution_count": null,
      "metadata": {
        "colab": {
          "base_uri": "https://localhost:8080/",
          "height": 224
        },
        "id": "Ix4BD6VaZyGd",
        "outputId": "6d1ce9b1-c227-4317-d197-ccafa9b11831"
      },
      "outputs": [
        {
          "output_type": "execute_result",
          "data": {
            "text/plain": [
              "          ID   AGE   INCOME GENDER     OCCUPATION     CAR_USE  TIF CAR_TYPE  \\\n",
              "0   63581743  60.0  67349.0      M   Professional     Private   11  Minivan   \n",
              "1  132761049  43.0  91449.0      M  z_Blue Collar  Commercial    1  Minivan   \n",
              "2  921317019  48.0  52881.0      M        Manager     Private    1      Van   \n",
              "3  727598473  35.0  16039.0    z_F       Clerical     Private    4    z_SUV   \n",
              "4  450221861  51.0  53529.0      M  z_Blue Collar     Private    7  Minivan   \n",
              "\n",
              "  OLDCLAIM  CLM_FREQ REVOKED  MVR_PTS CLM_AMT  CAR_AGE  CLAIM_FLAG  \n",
              "0   $4,461         2      No        3      $0     18.0           0  \n",
              "1       $0         0      No        0      $0      1.0           0  \n",
              "2       $0         0      No        2      $0     10.0           0  \n",
              "3  $38,690         2      No        3      $0     10.0           0  \n",
              "4       $0         0      No        0      $0      6.0           0  "
            ],
            "text/html": [
              "\n",
              "  <div id=\"df-8dd8c389-0d19-437d-9f6e-3150cedc6572\" class=\"colab-df-container\">\n",
              "    <div>\n",
              "<style scoped>\n",
              "    .dataframe tbody tr th:only-of-type {\n",
              "        vertical-align: middle;\n",
              "    }\n",
              "\n",
              "    .dataframe tbody tr th {\n",
              "        vertical-align: top;\n",
              "    }\n",
              "\n",
              "    .dataframe thead th {\n",
              "        text-align: right;\n",
              "    }\n",
              "</style>\n",
              "<table border=\"1\" class=\"dataframe\">\n",
              "  <thead>\n",
              "    <tr style=\"text-align: right;\">\n",
              "      <th></th>\n",
              "      <th>ID</th>\n",
              "      <th>AGE</th>\n",
              "      <th>INCOME</th>\n",
              "      <th>GENDER</th>\n",
              "      <th>OCCUPATION</th>\n",
              "      <th>CAR_USE</th>\n",
              "      <th>TIF</th>\n",
              "      <th>CAR_TYPE</th>\n",
              "      <th>OLDCLAIM</th>\n",
              "      <th>CLM_FREQ</th>\n",
              "      <th>REVOKED</th>\n",
              "      <th>MVR_PTS</th>\n",
              "      <th>CLM_AMT</th>\n",
              "      <th>CAR_AGE</th>\n",
              "      <th>CLAIM_FLAG</th>\n",
              "    </tr>\n",
              "  </thead>\n",
              "  <tbody>\n",
              "    <tr>\n",
              "      <th>0</th>\n",
              "      <td>63581743</td>\n",
              "      <td>60.0</td>\n",
              "      <td>67349.0</td>\n",
              "      <td>M</td>\n",
              "      <td>Professional</td>\n",
              "      <td>Private</td>\n",
              "      <td>11</td>\n",
              "      <td>Minivan</td>\n",
              "      <td>$4,461</td>\n",
              "      <td>2</td>\n",
              "      <td>No</td>\n",
              "      <td>3</td>\n",
              "      <td>$0</td>\n",
              "      <td>18.0</td>\n",
              "      <td>0</td>\n",
              "    </tr>\n",
              "    <tr>\n",
              "      <th>1</th>\n",
              "      <td>132761049</td>\n",
              "      <td>43.0</td>\n",
              "      <td>91449.0</td>\n",
              "      <td>M</td>\n",
              "      <td>z_Blue Collar</td>\n",
              "      <td>Commercial</td>\n",
              "      <td>1</td>\n",
              "      <td>Minivan</td>\n",
              "      <td>$0</td>\n",
              "      <td>0</td>\n",
              "      <td>No</td>\n",
              "      <td>0</td>\n",
              "      <td>$0</td>\n",
              "      <td>1.0</td>\n",
              "      <td>0</td>\n",
              "    </tr>\n",
              "    <tr>\n",
              "      <th>2</th>\n",
              "      <td>921317019</td>\n",
              "      <td>48.0</td>\n",
              "      <td>52881.0</td>\n",
              "      <td>M</td>\n",
              "      <td>Manager</td>\n",
              "      <td>Private</td>\n",
              "      <td>1</td>\n",
              "      <td>Van</td>\n",
              "      <td>$0</td>\n",
              "      <td>0</td>\n",
              "      <td>No</td>\n",
              "      <td>2</td>\n",
              "      <td>$0</td>\n",
              "      <td>10.0</td>\n",
              "      <td>0</td>\n",
              "    </tr>\n",
              "    <tr>\n",
              "      <th>3</th>\n",
              "      <td>727598473</td>\n",
              "      <td>35.0</td>\n",
              "      <td>16039.0</td>\n",
              "      <td>z_F</td>\n",
              "      <td>Clerical</td>\n",
              "      <td>Private</td>\n",
              "      <td>4</td>\n",
              "      <td>z_SUV</td>\n",
              "      <td>$38,690</td>\n",
              "      <td>2</td>\n",
              "      <td>No</td>\n",
              "      <td>3</td>\n",
              "      <td>$0</td>\n",
              "      <td>10.0</td>\n",
              "      <td>0</td>\n",
              "    </tr>\n",
              "    <tr>\n",
              "      <th>4</th>\n",
              "      <td>450221861</td>\n",
              "      <td>51.0</td>\n",
              "      <td>53529.0</td>\n",
              "      <td>M</td>\n",
              "      <td>z_Blue Collar</td>\n",
              "      <td>Private</td>\n",
              "      <td>7</td>\n",
              "      <td>Minivan</td>\n",
              "      <td>$0</td>\n",
              "      <td>0</td>\n",
              "      <td>No</td>\n",
              "      <td>0</td>\n",
              "      <td>$0</td>\n",
              "      <td>6.0</td>\n",
              "      <td>0</td>\n",
              "    </tr>\n",
              "  </tbody>\n",
              "</table>\n",
              "</div>\n",
              "    <div class=\"colab-df-buttons\">\n",
              "\n",
              "  <div class=\"colab-df-container\">\n",
              "    <button class=\"colab-df-convert\" onclick=\"convertToInteractive('df-8dd8c389-0d19-437d-9f6e-3150cedc6572')\"\n",
              "            title=\"Convert this dataframe to an interactive table.\"\n",
              "            style=\"display:none;\">\n",
              "\n",
              "  <svg xmlns=\"http://www.w3.org/2000/svg\" height=\"24px\" viewBox=\"0 -960 960 960\">\n",
              "    <path d=\"M120-120v-720h720v720H120Zm60-500h600v-160H180v160Zm220 220h160v-160H400v160Zm0 220h160v-160H400v160ZM180-400h160v-160H180v160Zm440 0h160v-160H620v160ZM180-180h160v-160H180v160Zm440 0h160v-160H620v160Z\"/>\n",
              "  </svg>\n",
              "    </button>\n",
              "\n",
              "  <style>\n",
              "    .colab-df-container {\n",
              "      display:flex;\n",
              "      gap: 12px;\n",
              "    }\n",
              "\n",
              "    .colab-df-convert {\n",
              "      background-color: #E8F0FE;\n",
              "      border: none;\n",
              "      border-radius: 50%;\n",
              "      cursor: pointer;\n",
              "      display: none;\n",
              "      fill: #1967D2;\n",
              "      height: 32px;\n",
              "      padding: 0 0 0 0;\n",
              "      width: 32px;\n",
              "    }\n",
              "\n",
              "    .colab-df-convert:hover {\n",
              "      background-color: #E2EBFA;\n",
              "      box-shadow: 0px 1px 2px rgba(60, 64, 67, 0.3), 0px 1px 3px 1px rgba(60, 64, 67, 0.15);\n",
              "      fill: #174EA6;\n",
              "    }\n",
              "\n",
              "    .colab-df-buttons div {\n",
              "      margin-bottom: 4px;\n",
              "    }\n",
              "\n",
              "    [theme=dark] .colab-df-convert {\n",
              "      background-color: #3B4455;\n",
              "      fill: #D2E3FC;\n",
              "    }\n",
              "\n",
              "    [theme=dark] .colab-df-convert:hover {\n",
              "      background-color: #434B5C;\n",
              "      box-shadow: 0px 1px 3px 1px rgba(0, 0, 0, 0.15);\n",
              "      filter: drop-shadow(0px 1px 2px rgba(0, 0, 0, 0.3));\n",
              "      fill: #FFFFFF;\n",
              "    }\n",
              "  </style>\n",
              "\n",
              "    <script>\n",
              "      const buttonEl =\n",
              "        document.querySelector('#df-8dd8c389-0d19-437d-9f6e-3150cedc6572 button.colab-df-convert');\n",
              "      buttonEl.style.display =\n",
              "        google.colab.kernel.accessAllowed ? 'block' : 'none';\n",
              "\n",
              "      async function convertToInteractive(key) {\n",
              "        const element = document.querySelector('#df-8dd8c389-0d19-437d-9f6e-3150cedc6572');\n",
              "        const dataTable =\n",
              "          await google.colab.kernel.invokeFunction('convertToInteractive',\n",
              "                                                    [key], {});\n",
              "        if (!dataTable) return;\n",
              "\n",
              "        const docLinkHtml = 'Like what you see? Visit the ' +\n",
              "          '<a target=\"_blank\" href=https://colab.research.google.com/notebooks/data_table.ipynb>data table notebook</a>'\n",
              "          + ' to learn more about interactive tables.';\n",
              "        element.innerHTML = '';\n",
              "        dataTable['output_type'] = 'display_data';\n",
              "        await google.colab.output.renderOutput(dataTable, element);\n",
              "        const docLink = document.createElement('div');\n",
              "        docLink.innerHTML = docLinkHtml;\n",
              "        element.appendChild(docLink);\n",
              "      }\n",
              "    </script>\n",
              "  </div>\n",
              "\n",
              "\n",
              "<div id=\"df-fd45ebf3-2842-4c84-a9c4-1d9296ca162c\">\n",
              "  <button class=\"colab-df-quickchart\" onclick=\"quickchart('df-fd45ebf3-2842-4c84-a9c4-1d9296ca162c')\"\n",
              "            title=\"Suggest charts\"\n",
              "            style=\"display:none;\">\n",
              "\n",
              "<svg xmlns=\"http://www.w3.org/2000/svg\" height=\"24px\"viewBox=\"0 0 24 24\"\n",
              "     width=\"24px\">\n",
              "    <g>\n",
              "        <path d=\"M19 3H5c-1.1 0-2 .9-2 2v14c0 1.1.9 2 2 2h14c1.1 0 2-.9 2-2V5c0-1.1-.9-2-2-2zM9 17H7v-7h2v7zm4 0h-2V7h2v10zm4 0h-2v-4h2v4z\"/>\n",
              "    </g>\n",
              "</svg>\n",
              "  </button>\n",
              "\n",
              "<style>\n",
              "  .colab-df-quickchart {\n",
              "      --bg-color: #E8F0FE;\n",
              "      --fill-color: #1967D2;\n",
              "      --hover-bg-color: #E2EBFA;\n",
              "      --hover-fill-color: #174EA6;\n",
              "      --disabled-fill-color: #AAA;\n",
              "      --disabled-bg-color: #DDD;\n",
              "  }\n",
              "\n",
              "  [theme=dark] .colab-df-quickchart {\n",
              "      --bg-color: #3B4455;\n",
              "      --fill-color: #D2E3FC;\n",
              "      --hover-bg-color: #434B5C;\n",
              "      --hover-fill-color: #FFFFFF;\n",
              "      --disabled-bg-color: #3B4455;\n",
              "      --disabled-fill-color: #666;\n",
              "  }\n",
              "\n",
              "  .colab-df-quickchart {\n",
              "    background-color: var(--bg-color);\n",
              "    border: none;\n",
              "    border-radius: 50%;\n",
              "    cursor: pointer;\n",
              "    display: none;\n",
              "    fill: var(--fill-color);\n",
              "    height: 32px;\n",
              "    padding: 0;\n",
              "    width: 32px;\n",
              "  }\n",
              "\n",
              "  .colab-df-quickchart:hover {\n",
              "    background-color: var(--hover-bg-color);\n",
              "    box-shadow: 0 1px 2px rgba(60, 64, 67, 0.3), 0 1px 3px 1px rgba(60, 64, 67, 0.15);\n",
              "    fill: var(--button-hover-fill-color);\n",
              "  }\n",
              "\n",
              "  .colab-df-quickchart-complete:disabled,\n",
              "  .colab-df-quickchart-complete:disabled:hover {\n",
              "    background-color: var(--disabled-bg-color);\n",
              "    fill: var(--disabled-fill-color);\n",
              "    box-shadow: none;\n",
              "  }\n",
              "\n",
              "  .colab-df-spinner {\n",
              "    border: 2px solid var(--fill-color);\n",
              "    border-color: transparent;\n",
              "    border-bottom-color: var(--fill-color);\n",
              "    animation:\n",
              "      spin 1s steps(1) infinite;\n",
              "  }\n",
              "\n",
              "  @keyframes spin {\n",
              "    0% {\n",
              "      border-color: transparent;\n",
              "      border-bottom-color: var(--fill-color);\n",
              "      border-left-color: var(--fill-color);\n",
              "    }\n",
              "    20% {\n",
              "      border-color: transparent;\n",
              "      border-left-color: var(--fill-color);\n",
              "      border-top-color: var(--fill-color);\n",
              "    }\n",
              "    30% {\n",
              "      border-color: transparent;\n",
              "      border-left-color: var(--fill-color);\n",
              "      border-top-color: var(--fill-color);\n",
              "      border-right-color: var(--fill-color);\n",
              "    }\n",
              "    40% {\n",
              "      border-color: transparent;\n",
              "      border-right-color: var(--fill-color);\n",
              "      border-top-color: var(--fill-color);\n",
              "    }\n",
              "    60% {\n",
              "      border-color: transparent;\n",
              "      border-right-color: var(--fill-color);\n",
              "    }\n",
              "    80% {\n",
              "      border-color: transparent;\n",
              "      border-right-color: var(--fill-color);\n",
              "      border-bottom-color: var(--fill-color);\n",
              "    }\n",
              "    90% {\n",
              "      border-color: transparent;\n",
              "      border-bottom-color: var(--fill-color);\n",
              "    }\n",
              "  }\n",
              "</style>\n",
              "\n",
              "  <script>\n",
              "    async function quickchart(key) {\n",
              "      const quickchartButtonEl =\n",
              "        document.querySelector('#' + key + ' button');\n",
              "      quickchartButtonEl.disabled = true;  // To prevent multiple clicks.\n",
              "      quickchartButtonEl.classList.add('colab-df-spinner');\n",
              "      try {\n",
              "        const charts = await google.colab.kernel.invokeFunction(\n",
              "            'suggestCharts', [key], {});\n",
              "      } catch (error) {\n",
              "        console.error('Error during call to suggestCharts:', error);\n",
              "      }\n",
              "      quickchartButtonEl.classList.remove('colab-df-spinner');\n",
              "      quickchartButtonEl.classList.add('colab-df-quickchart-complete');\n",
              "    }\n",
              "    (() => {\n",
              "      let quickchartButtonEl =\n",
              "        document.querySelector('#df-fd45ebf3-2842-4c84-a9c4-1d9296ca162c button');\n",
              "      quickchartButtonEl.style.display =\n",
              "        google.colab.kernel.accessAllowed ? 'block' : 'none';\n",
              "    })();\n",
              "  </script>\n",
              "</div>\n",
              "\n",
              "    </div>\n",
              "  </div>\n"
            ],
            "application/vnd.google.colaboratory.intrinsic+json": {
              "type": "dataframe",
              "variable_name": "data",
              "summary": "{\n  \"name\": \"data\",\n  \"rows\": 9637,\n  \"fields\": [\n    {\n      \"column\": \"ID\",\n      \"properties\": {\n        \"dtype\": \"number\",\n        \"std\": 286586276,\n        \"min\": 63175,\n        \"max\": 999926368,\n        \"num_unique_values\": 8238,\n        \"samples\": [\n          145363238,\n          49425975,\n          80928323\n        ],\n        \"semantic_type\": \"\",\n        \"description\": \"\"\n      }\n    },\n    {\n      \"column\": \"AGE\",\n      \"properties\": {\n        \"dtype\": \"number\",\n        \"std\": 8.622433293884423,\n        \"min\": 16.0,\n        \"max\": 81.0,\n        \"num_unique_values\": 61,\n        \"samples\": [\n          60.0,\n          50.0,\n          69.0\n        ],\n        \"semantic_type\": \"\",\n        \"description\": \"\"\n      }\n    },\n    {\n      \"column\": \"INCOME\",\n      \"properties\": {\n        \"dtype\": \"number\",\n        \"std\": 42963.901022726925,\n        \"min\": 0.0,\n        \"max\": 367030.0,\n        \"num_unique_values\": 7603,\n        \"samples\": [\n          72381.0,\n          9750.0,\n          24274.0\n        ],\n        \"semantic_type\": \"\",\n        \"description\": \"\"\n      }\n    },\n    {\n      \"column\": \"GENDER\",\n      \"properties\": {\n        \"dtype\": \"category\",\n        \"num_unique_values\": 2,\n        \"samples\": [\n          \"z_F\",\n          \"M\"\n        ],\n        \"semantic_type\": \"\",\n        \"description\": \"\"\n      }\n    },\n    {\n      \"column\": \"OCCUPATION\",\n      \"properties\": {\n        \"dtype\": \"category\",\n        \"num_unique_values\": 8,\n        \"samples\": [\n          \"z_Blue Collar\",\n          \"Lawyer\"\n        ],\n        \"semantic_type\": \"\",\n        \"description\": \"\"\n      }\n    },\n    {\n      \"column\": \"CAR_USE\",\n      \"properties\": {\n        \"dtype\": \"category\",\n        \"num_unique_values\": 2,\n        \"samples\": [\n          \"Commercial\",\n          \"Private\"\n        ],\n        \"semantic_type\": \"\",\n        \"description\": \"\"\n      }\n    },\n    {\n      \"column\": \"TIF\",\n      \"properties\": {\n        \"dtype\": \"number\",\n        \"std\": 4,\n        \"min\": 1,\n        \"max\": 25,\n        \"num_unique_values\": 23,\n        \"samples\": [\n          14,\n          13\n        ],\n        \"semantic_type\": \"\",\n        \"description\": \"\"\n      }\n    },\n    {\n      \"column\": \"CAR_TYPE\",\n      \"properties\": {\n        \"dtype\": \"category\",\n        \"num_unique_values\": 6,\n        \"samples\": [\n          \"Minivan\",\n          \"Van\"\n        ],\n        \"semantic_type\": \"\",\n        \"description\": \"\"\n      }\n    },\n    {\n      \"column\": \"OLDCLAIM\",\n      \"properties\": {\n        \"dtype\": \"category\",\n        \"num_unique_values\": 3294,\n        \"samples\": [\n          \"$26,951\",\n          \"$5,548\"\n        ],\n        \"semantic_type\": \"\",\n        \"description\": \"\"\n      }\n    },\n    {\n      \"column\": \"CLM_FREQ\",\n      \"properties\": {\n        \"dtype\": \"number\",\n        \"std\": 1,\n        \"min\": 0,\n        \"max\": 5,\n        \"num_unique_values\": 6,\n        \"samples\": [\n          2,\n          0\n        ],\n        \"semantic_type\": \"\",\n        \"description\": \"\"\n      }\n    },\n    {\n      \"column\": \"REVOKED\",\n      \"properties\": {\n        \"dtype\": \"category\",\n        \"num_unique_values\": 2,\n        \"samples\": [\n          \"Yes\",\n          \"No\"\n        ],\n        \"semantic_type\": \"\",\n        \"description\": \"\"\n      }\n    },\n    {\n      \"column\": \"MVR_PTS\",\n      \"properties\": {\n        \"dtype\": \"number\",\n        \"std\": 2,\n        \"min\": 0,\n        \"max\": 13,\n        \"num_unique_values\": 14,\n        \"samples\": [\n          6,\n          9\n        ],\n        \"semantic_type\": \"\",\n        \"description\": \"\"\n      }\n    },\n    {\n      \"column\": \"CLM_AMT\",\n      \"properties\": {\n        \"dtype\": \"category\",\n        \"num_unique_values\": 2213,\n        \"samples\": [\n          \"$4,436\",\n          \"$5,548\"\n        ],\n        \"semantic_type\": \"\",\n        \"description\": \"\"\n      }\n    },\n    {\n      \"column\": \"CAR_AGE\",\n      \"properties\": {\n        \"dtype\": \"number\",\n        \"std\": 5.4074418227711,\n        \"min\": -3.0,\n        \"max\": 28.0,\n        \"num_unique_values\": 30,\n        \"samples\": [\n          25.0,\n          15.0\n        ],\n        \"semantic_type\": \"\",\n        \"description\": \"\"\n      }\n    },\n    {\n      \"column\": \"CLAIM_FLAG\",\n      \"properties\": {\n        \"dtype\": \"number\",\n        \"std\": 0,\n        \"min\": 0,\n        \"max\": 1,\n        \"num_unique_values\": 2,\n        \"samples\": [\n          1,\n          0\n        ],\n        \"semantic_type\": \"\",\n        \"description\": \"\"\n      }\n    }\n  ]\n}"
            }
          },
          "metadata": {},
          "execution_count": 134
        },
        {
          "output_type": "stream",
          "name": "stdout",
          "text": [
            "time: 68.2 ms (started: 2024-03-03 20:29:42 +00:00)\n"
          ]
        }
      ],
      "source": [
        "data.head()"
      ]
    },
    {
      "cell_type": "code",
      "execution_count": null,
      "metadata": {
        "id": "epg5iNGLsogs",
        "colab": {
          "base_uri": "https://localhost:8080/"
        },
        "outputId": "44706323-ca13-444a-e2c6-b762e98bb1f8"
      },
      "outputs": [
        {
          "output_type": "stream",
          "name": "stdout",
          "text": [
            "time: 3.84 ms (started: 2024-03-03 20:29:42 +00:00)\n"
          ]
        }
      ],
      "source": [
        "\n",
        "drop_cols = ['CLM_AMT', 'MVR_PTS', 'OLDCLAIM', 'TIF']\n",
        "data = data.drop(drop_cols, axis = 1)\n"
      ]
    },
    {
      "cell_type": "code",
      "execution_count": null,
      "metadata": {
        "id": "EsvXeypoytLU",
        "colab": {
          "base_uri": "https://localhost:8080/"
        },
        "outputId": "2760e408-f7ce-4f6f-b12e-236f85bdfb53"
      },
      "outputs": [
        {
          "output_type": "stream",
          "name": "stdout",
          "text": [
            "time: 1.73 ms (started: 2024-03-03 20:29:42 +00:00)\n"
          ]
        }
      ],
      "source": [
        "'''\n",
        "data['OLDCLAIM'].unique()\n",
        "data['OLDCLAIM'] = data['OLDCLAIM'].str.replace('$', '')\n",
        "data['OLDCLAIM'] = data['OLDCLAIM'].str.replace(',', '')\n",
        "data['OLDCLAIM'] = pd.to_numeric(data['OLDCLAIM'])\n",
        "'''\n",
        "data['CLM_FREQ'] = pd.to_numeric(data['CLM_FREQ'])\n",
        "\n"
      ]
    },
    {
      "cell_type": "code",
      "execution_count": null,
      "metadata": {
        "colab": {
          "base_uri": "https://localhost:8080/",
          "height": 71
        },
        "id": "qe7wq4k-TFlp",
        "outputId": "4482f0de-2b20-4046-b93a-a091178a258c"
      },
      "outputs": [
        {
          "output_type": "execute_result",
          "data": {
            "text/plain": [
              "\"\\ndata['CLM_AMT'].unique()\\ndata['CLM_AMT'] = data['CLM_AMT'].str.replace('$', '')\\ndata['CLM_AMT'] = data['CLM_AMT'].str.replace(',', '')\\ndata['CLM_AMT'] = pd.to_numeric(data['CLM_AMT'])\\n\""
            ],
            "application/vnd.google.colaboratory.intrinsic+json": {
              "type": "string"
            }
          },
          "metadata": {},
          "execution_count": 137
        },
        {
          "output_type": "stream",
          "name": "stdout",
          "text": [
            "time: 2.95 ms (started: 2024-03-03 20:29:42 +00:00)\n"
          ]
        }
      ],
      "source": [
        "'''\n",
        "data['CLM_AMT'].unique()\n",
        "data['CLM_AMT'] = data['CLM_AMT'].str.replace('$', '')\n",
        "data['CLM_AMT'] = data['CLM_AMT'].str.replace(',', '')\n",
        "data['CLM_AMT'] = pd.to_numeric(data['CLM_AMT'])\n",
        "'''"
      ]
    },
    {
      "cell_type": "code",
      "execution_count": null,
      "metadata": {
        "id": "1AV6mV8AoHYX",
        "colab": {
          "base_uri": "https://localhost:8080/"
        },
        "outputId": "4c83b30b-ec9d-497c-b16a-8aba879dc2f9"
      },
      "outputs": [
        {
          "output_type": "stream",
          "name": "stdout",
          "text": [
            "time: 4.86 ms (started: 2024-03-03 20:29:42 +00:00)\n"
          ]
        }
      ],
      "source": [
        "data['GENDER'] = data['GENDER'].replace('z_F','F')\n",
        "data['OCCUPATION'] = data['OCCUPATION'].replace('z_','')"
      ]
    },
    {
      "cell_type": "code",
      "execution_count": null,
      "metadata": {
        "id": "UxIWg2mcaFfR",
        "colab": {
          "base_uri": "https://localhost:8080/"
        },
        "outputId": "b943470c-427d-4fbd-f8c8-8b255b7c34e2"
      },
      "outputs": [
        {
          "output_type": "stream",
          "name": "stdout",
          "text": [
            "time: 857 µs (started: 2024-03-03 20:29:42 +00:00)\n"
          ]
        }
      ],
      "source": [
        "from imblearn.over_sampling import SMOTE\n",
        "from sklearn.ensemble import RandomForestClassifier\n",
        "from sklearn.metrics import classification_report\n",
        "from sklearn.model_selection import train_test_split\n",
        "import pandas as pd"
      ]
    },
    {
      "cell_type": "code",
      "execution_count": null,
      "metadata": {
        "colab": {
          "base_uri": "https://localhost:8080/",
          "height": 71
        },
        "id": "dxLI8vk767lX",
        "outputId": "78660fa8-749e-4ea9-db54-c49666875363"
      },
      "outputs": [
        {
          "output_type": "execute_result",
          "data": {
            "text/plain": [
              "\"\\nscaler = StandardScaler()\\ndata[['AGE', 'INCOME', 'TIF', 'OLDCLAIM', 'CLM_FREQ', 'MVR_PTS', 'CLM_AMT', 'CAR_AGE']] = scaler.fit_transform(data[['AGE', 'INCOME', 'TIF', 'OLDCLAIM', 'CLM_FREQ', 'MVR_PTS', 'CLM_AMT', 'CAR_AGE']])\\n\""
            ],
            "application/vnd.google.colaboratory.intrinsic+json": {
              "type": "string"
            }
          },
          "metadata": {},
          "execution_count": 140
        },
        {
          "output_type": "stream",
          "name": "stdout",
          "text": [
            "time: 3.1 ms (started: 2024-03-03 20:29:42 +00:00)\n"
          ]
        }
      ],
      "source": [
        "'''\n",
        "scaler = StandardScaler()\n",
        "data[['AGE', 'INCOME', 'TIF', 'OLDCLAIM', 'CLM_FREQ', 'MVR_PTS', 'CLM_AMT', 'CAR_AGE']] = scaler.fit_transform(data[['AGE', 'INCOME', 'TIF', 'OLDCLAIM', 'CLM_FREQ', 'MVR_PTS', 'CLM_AMT', 'CAR_AGE']])\n",
        "'''"
      ]
    },
    {
      "cell_type": "code",
      "execution_count": null,
      "metadata": {
        "id": "ZgFu-y65nUwf",
        "colab": {
          "base_uri": "https://localhost:8080/"
        },
        "outputId": "99f92d36-5c7f-4b92-aa60-00203f1db431"
      },
      "outputs": [
        {
          "output_type": "stream",
          "name": "stdout",
          "text": [
            "time: 714 µs (started: 2024-03-03 20:29:42 +00:00)\n"
          ]
        }
      ],
      "source": [
        "numerical_cols = ['AGE', 'INCOME', 'CLM_FREQ', 'CAR_AGE']\n",
        "categorical_cols = ['GENDER', 'CAR_USE', 'CAR_TYPE', 'REVOKED','OCCUPATION']\n"
      ]
    },
    {
      "cell_type": "code",
      "execution_count": null,
      "metadata": {
        "colab": {
          "base_uri": "https://localhost:8080/"
        },
        "id": "edtfxBJix3uX",
        "outputId": "5719d32e-0f27-494a-8edb-cfbcb836fb61"
      },
      "outputs": [
        {
          "output_type": "stream",
          "name": "stdout",
          "text": [
            "          ID   AGE   INCOME  CLM_FREQ  CAR_AGE  CLAIM_FLAG  GENDER_F  \\\n",
            "0   63581743  60.0  67349.0         2     18.0           0         0   \n",
            "1  132761049  43.0  91449.0         0      1.0           0         0   \n",
            "2  921317019  48.0  52881.0         0     10.0           0         0   \n",
            "3  727598473  35.0  16039.0         2     10.0           0         1   \n",
            "4  450221861  51.0  53529.0         0      6.0           0         0   \n",
            "\n",
            "   GENDER_M  CAR_USE_Commercial  CAR_USE_Private  ...  REVOKED_No  \\\n",
            "0         1                   0                1  ...           1   \n",
            "1         1                   1                0  ...           1   \n",
            "2         1                   0                1  ...           1   \n",
            "3         0                   0                1  ...           1   \n",
            "4         1                   0                1  ...           1   \n",
            "\n",
            "   REVOKED_Yes  OCCUPATION_Clerical  OCCUPATION_Doctor  OCCUPATION_Home Maker  \\\n",
            "0            0                    0                  0                      0   \n",
            "1            0                    0                  0                      0   \n",
            "2            0                    0                  0                      0   \n",
            "3            0                    1                  0                      0   \n",
            "4            0                    0                  0                      0   \n",
            "\n",
            "   OCCUPATION_Lawyer  OCCUPATION_Manager  OCCUPATION_Professional  \\\n",
            "0                  0                   0                        1   \n",
            "1                  0                   0                        0   \n",
            "2                  0                   1                        0   \n",
            "3                  0                   0                        0   \n",
            "4                  0                   0                        0   \n",
            "\n",
            "   OCCUPATION_Student  OCCUPATION_z_Blue Collar  \n",
            "0                   0                         0  \n",
            "1                   0                         1  \n",
            "2                   0                         0  \n",
            "3                   0                         0  \n",
            "4                   0                         1  \n",
            "\n",
            "[5 rows x 26 columns]\n",
            "time: 55.5 ms (started: 2024-03-03 20:29:42 +00:00)\n"
          ]
        }
      ],
      "source": [
        "\n",
        "# Perform one-hot encoding on categorical variables\n",
        "data_encoded = pd.get_dummies(data, columns=categorical_cols)\n",
        "\n",
        "# Display the encoded DataFrame\n",
        "print(data_encoded.head())"
      ]
    },
    {
      "cell_type": "code",
      "execution_count": null,
      "metadata": {
        "colab": {
          "base_uri": "https://localhost:8080/"
        },
        "id": "Lk-E5qmnntu1",
        "outputId": "32e24a72-a096-4130-c024-f3d5322aabd9"
      },
      "outputs": [
        {
          "output_type": "execute_result",
          "data": {
            "text/plain": [
              "ID                            int64\n",
              "AGE                         float64\n",
              "INCOME                      float64\n",
              "CLM_FREQ                      int64\n",
              "CAR_AGE                     float64\n",
              "CLAIM_FLAG                    int64\n",
              "GENDER_F                      uint8\n",
              "GENDER_M                      uint8\n",
              "CAR_USE_Commercial            uint8\n",
              "CAR_USE_Private               uint8\n",
              "CAR_TYPE_Minivan              uint8\n",
              "CAR_TYPE_Panel Truck          uint8\n",
              "CAR_TYPE_Pickup               uint8\n",
              "CAR_TYPE_Sports Car           uint8\n",
              "CAR_TYPE_Van                  uint8\n",
              "CAR_TYPE_z_SUV                uint8\n",
              "REVOKED_No                    uint8\n",
              "REVOKED_Yes                   uint8\n",
              "OCCUPATION_Clerical           uint8\n",
              "OCCUPATION_Doctor             uint8\n",
              "OCCUPATION_Home Maker         uint8\n",
              "OCCUPATION_Lawyer             uint8\n",
              "OCCUPATION_Manager            uint8\n",
              "OCCUPATION_Professional       uint8\n",
              "OCCUPATION_Student            uint8\n",
              "OCCUPATION_z_Blue Collar      uint8\n",
              "dtype: object"
            ]
          },
          "metadata": {},
          "execution_count": 143
        },
        {
          "output_type": "stream",
          "name": "stdout",
          "text": [
            "time: 11.5 ms (started: 2024-03-03 20:29:42 +00:00)\n"
          ]
        }
      ],
      "source": [
        "data_encoded.dtypes"
      ]
    },
    {
      "cell_type": "markdown",
      "metadata": {
        "id": "x2RVaDI4WOID"
      },
      "source": [
        "#**Using SMOTE Sampling Algorithm (RF, SVM, DNN)**"
      ]
    },
    {
      "cell_type": "code",
      "execution_count": null,
      "metadata": {
        "colab": {
          "base_uri": "https://localhost:8080/",
          "height": 282
        },
        "id": "3-QG8iRqX72Q",
        "outputId": "602632ef-bf7c-4565-b7dd-83b632013931"
      },
      "outputs": [
        {
          "output_type": "stream",
          "name": "stdout",
          "text": [
            "Class distribution after SMOTE:\n",
            "0    5669\n",
            "1    5669\n",
            "Name: CLAIM_FLAG, dtype: int64\n",
            "Accuracy: 0.7173236514522822\n"
          ]
        },
        {
          "output_type": "execute_result",
          "data": {
            "text/plain": [
              "                     0           1  accuracy    macro avg  weighted avg\n",
              "precision     0.790841    0.486022  0.717324     0.638431      0.706731\n",
              "recall        0.828797    0.424812  0.717324     0.626804      0.717324\n",
              "f1-score      0.809374    0.453360  0.717324     0.631367      0.711138\n",
              "support    1396.000000  532.000000  0.717324  1928.000000   1928.000000"
            ],
            "text/html": [
              "\n",
              "  <div id=\"df-efac9b94-fcf8-4f24-ba12-ad420c3572cc\" class=\"colab-df-container\">\n",
              "    <div>\n",
              "<style scoped>\n",
              "    .dataframe tbody tr th:only-of-type {\n",
              "        vertical-align: middle;\n",
              "    }\n",
              "\n",
              "    .dataframe tbody tr th {\n",
              "        vertical-align: top;\n",
              "    }\n",
              "\n",
              "    .dataframe thead th {\n",
              "        text-align: right;\n",
              "    }\n",
              "</style>\n",
              "<table border=\"1\" class=\"dataframe\">\n",
              "  <thead>\n",
              "    <tr style=\"text-align: right;\">\n",
              "      <th></th>\n",
              "      <th>0</th>\n",
              "      <th>1</th>\n",
              "      <th>accuracy</th>\n",
              "      <th>macro avg</th>\n",
              "      <th>weighted avg</th>\n",
              "    </tr>\n",
              "  </thead>\n",
              "  <tbody>\n",
              "    <tr>\n",
              "      <th>precision</th>\n",
              "      <td>0.790841</td>\n",
              "      <td>0.486022</td>\n",
              "      <td>0.717324</td>\n",
              "      <td>0.638431</td>\n",
              "      <td>0.706731</td>\n",
              "    </tr>\n",
              "    <tr>\n",
              "      <th>recall</th>\n",
              "      <td>0.828797</td>\n",
              "      <td>0.424812</td>\n",
              "      <td>0.717324</td>\n",
              "      <td>0.626804</td>\n",
              "      <td>0.717324</td>\n",
              "    </tr>\n",
              "    <tr>\n",
              "      <th>f1-score</th>\n",
              "      <td>0.809374</td>\n",
              "      <td>0.453360</td>\n",
              "      <td>0.717324</td>\n",
              "      <td>0.631367</td>\n",
              "      <td>0.711138</td>\n",
              "    </tr>\n",
              "    <tr>\n",
              "      <th>support</th>\n",
              "      <td>1396.000000</td>\n",
              "      <td>532.000000</td>\n",
              "      <td>0.717324</td>\n",
              "      <td>1928.000000</td>\n",
              "      <td>1928.000000</td>\n",
              "    </tr>\n",
              "  </tbody>\n",
              "</table>\n",
              "</div>\n",
              "    <div class=\"colab-df-buttons\">\n",
              "\n",
              "  <div class=\"colab-df-container\">\n",
              "    <button class=\"colab-df-convert\" onclick=\"convertToInteractive('df-efac9b94-fcf8-4f24-ba12-ad420c3572cc')\"\n",
              "            title=\"Convert this dataframe to an interactive table.\"\n",
              "            style=\"display:none;\">\n",
              "\n",
              "  <svg xmlns=\"http://www.w3.org/2000/svg\" height=\"24px\" viewBox=\"0 -960 960 960\">\n",
              "    <path d=\"M120-120v-720h720v720H120Zm60-500h600v-160H180v160Zm220 220h160v-160H400v160Zm0 220h160v-160H400v160ZM180-400h160v-160H180v160Zm440 0h160v-160H620v160ZM180-180h160v-160H180v160Zm440 0h160v-160H620v160Z\"/>\n",
              "  </svg>\n",
              "    </button>\n",
              "\n",
              "  <style>\n",
              "    .colab-df-container {\n",
              "      display:flex;\n",
              "      gap: 12px;\n",
              "    }\n",
              "\n",
              "    .colab-df-convert {\n",
              "      background-color: #E8F0FE;\n",
              "      border: none;\n",
              "      border-radius: 50%;\n",
              "      cursor: pointer;\n",
              "      display: none;\n",
              "      fill: #1967D2;\n",
              "      height: 32px;\n",
              "      padding: 0 0 0 0;\n",
              "      width: 32px;\n",
              "    }\n",
              "\n",
              "    .colab-df-convert:hover {\n",
              "      background-color: #E2EBFA;\n",
              "      box-shadow: 0px 1px 2px rgba(60, 64, 67, 0.3), 0px 1px 3px 1px rgba(60, 64, 67, 0.15);\n",
              "      fill: #174EA6;\n",
              "    }\n",
              "\n",
              "    .colab-df-buttons div {\n",
              "      margin-bottom: 4px;\n",
              "    }\n",
              "\n",
              "    [theme=dark] .colab-df-convert {\n",
              "      background-color: #3B4455;\n",
              "      fill: #D2E3FC;\n",
              "    }\n",
              "\n",
              "    [theme=dark] .colab-df-convert:hover {\n",
              "      background-color: #434B5C;\n",
              "      box-shadow: 0px 1px 3px 1px rgba(0, 0, 0, 0.15);\n",
              "      filter: drop-shadow(0px 1px 2px rgba(0, 0, 0, 0.3));\n",
              "      fill: #FFFFFF;\n",
              "    }\n",
              "  </style>\n",
              "\n",
              "    <script>\n",
              "      const buttonEl =\n",
              "        document.querySelector('#df-efac9b94-fcf8-4f24-ba12-ad420c3572cc button.colab-df-convert');\n",
              "      buttonEl.style.display =\n",
              "        google.colab.kernel.accessAllowed ? 'block' : 'none';\n",
              "\n",
              "      async function convertToInteractive(key) {\n",
              "        const element = document.querySelector('#df-efac9b94-fcf8-4f24-ba12-ad420c3572cc');\n",
              "        const dataTable =\n",
              "          await google.colab.kernel.invokeFunction('convertToInteractive',\n",
              "                                                    [key], {});\n",
              "        if (!dataTable) return;\n",
              "\n",
              "        const docLinkHtml = 'Like what you see? Visit the ' +\n",
              "          '<a target=\"_blank\" href=https://colab.research.google.com/notebooks/data_table.ipynb>data table notebook</a>'\n",
              "          + ' to learn more about interactive tables.';\n",
              "        element.innerHTML = '';\n",
              "        dataTable['output_type'] = 'display_data';\n",
              "        await google.colab.output.renderOutput(dataTable, element);\n",
              "        const docLink = document.createElement('div');\n",
              "        docLink.innerHTML = docLinkHtml;\n",
              "        element.appendChild(docLink);\n",
              "      }\n",
              "    </script>\n",
              "  </div>\n",
              "\n",
              "\n",
              "<div id=\"df-739de49d-fbb8-4718-acce-3b9d3b624773\">\n",
              "  <button class=\"colab-df-quickchart\" onclick=\"quickchart('df-739de49d-fbb8-4718-acce-3b9d3b624773')\"\n",
              "            title=\"Suggest charts\"\n",
              "            style=\"display:none;\">\n",
              "\n",
              "<svg xmlns=\"http://www.w3.org/2000/svg\" height=\"24px\"viewBox=\"0 0 24 24\"\n",
              "     width=\"24px\">\n",
              "    <g>\n",
              "        <path d=\"M19 3H5c-1.1 0-2 .9-2 2v14c0 1.1.9 2 2 2h14c1.1 0 2-.9 2-2V5c0-1.1-.9-2-2-2zM9 17H7v-7h2v7zm4 0h-2V7h2v10zm4 0h-2v-4h2v4z\"/>\n",
              "    </g>\n",
              "</svg>\n",
              "  </button>\n",
              "\n",
              "<style>\n",
              "  .colab-df-quickchart {\n",
              "      --bg-color: #E8F0FE;\n",
              "      --fill-color: #1967D2;\n",
              "      --hover-bg-color: #E2EBFA;\n",
              "      --hover-fill-color: #174EA6;\n",
              "      --disabled-fill-color: #AAA;\n",
              "      --disabled-bg-color: #DDD;\n",
              "  }\n",
              "\n",
              "  [theme=dark] .colab-df-quickchart {\n",
              "      --bg-color: #3B4455;\n",
              "      --fill-color: #D2E3FC;\n",
              "      --hover-bg-color: #434B5C;\n",
              "      --hover-fill-color: #FFFFFF;\n",
              "      --disabled-bg-color: #3B4455;\n",
              "      --disabled-fill-color: #666;\n",
              "  }\n",
              "\n",
              "  .colab-df-quickchart {\n",
              "    background-color: var(--bg-color);\n",
              "    border: none;\n",
              "    border-radius: 50%;\n",
              "    cursor: pointer;\n",
              "    display: none;\n",
              "    fill: var(--fill-color);\n",
              "    height: 32px;\n",
              "    padding: 0;\n",
              "    width: 32px;\n",
              "  }\n",
              "\n",
              "  .colab-df-quickchart:hover {\n",
              "    background-color: var(--hover-bg-color);\n",
              "    box-shadow: 0 1px 2px rgba(60, 64, 67, 0.3), 0 1px 3px 1px rgba(60, 64, 67, 0.15);\n",
              "    fill: var(--button-hover-fill-color);\n",
              "  }\n",
              "\n",
              "  .colab-df-quickchart-complete:disabled,\n",
              "  .colab-df-quickchart-complete:disabled:hover {\n",
              "    background-color: var(--disabled-bg-color);\n",
              "    fill: var(--disabled-fill-color);\n",
              "    box-shadow: none;\n",
              "  }\n",
              "\n",
              "  .colab-df-spinner {\n",
              "    border: 2px solid var(--fill-color);\n",
              "    border-color: transparent;\n",
              "    border-bottom-color: var(--fill-color);\n",
              "    animation:\n",
              "      spin 1s steps(1) infinite;\n",
              "  }\n",
              "\n",
              "  @keyframes spin {\n",
              "    0% {\n",
              "      border-color: transparent;\n",
              "      border-bottom-color: var(--fill-color);\n",
              "      border-left-color: var(--fill-color);\n",
              "    }\n",
              "    20% {\n",
              "      border-color: transparent;\n",
              "      border-left-color: var(--fill-color);\n",
              "      border-top-color: var(--fill-color);\n",
              "    }\n",
              "    30% {\n",
              "      border-color: transparent;\n",
              "      border-left-color: var(--fill-color);\n",
              "      border-top-color: var(--fill-color);\n",
              "      border-right-color: var(--fill-color);\n",
              "    }\n",
              "    40% {\n",
              "      border-color: transparent;\n",
              "      border-right-color: var(--fill-color);\n",
              "      border-top-color: var(--fill-color);\n",
              "    }\n",
              "    60% {\n",
              "      border-color: transparent;\n",
              "      border-right-color: var(--fill-color);\n",
              "    }\n",
              "    80% {\n",
              "      border-color: transparent;\n",
              "      border-right-color: var(--fill-color);\n",
              "      border-bottom-color: var(--fill-color);\n",
              "    }\n",
              "    90% {\n",
              "      border-color: transparent;\n",
              "      border-bottom-color: var(--fill-color);\n",
              "    }\n",
              "  }\n",
              "</style>\n",
              "\n",
              "  <script>\n",
              "    async function quickchart(key) {\n",
              "      const quickchartButtonEl =\n",
              "        document.querySelector('#' + key + ' button');\n",
              "      quickchartButtonEl.disabled = true;  // To prevent multiple clicks.\n",
              "      quickchartButtonEl.classList.add('colab-df-spinner');\n",
              "      try {\n",
              "        const charts = await google.colab.kernel.invokeFunction(\n",
              "            'suggestCharts', [key], {});\n",
              "      } catch (error) {\n",
              "        console.error('Error during call to suggestCharts:', error);\n",
              "      }\n",
              "      quickchartButtonEl.classList.remove('colab-df-spinner');\n",
              "      quickchartButtonEl.classList.add('colab-df-quickchart-complete');\n",
              "    }\n",
              "    (() => {\n",
              "      let quickchartButtonEl =\n",
              "        document.querySelector('#df-739de49d-fbb8-4718-acce-3b9d3b624773 button');\n",
              "      quickchartButtonEl.style.display =\n",
              "        google.colab.kernel.accessAllowed ? 'block' : 'none';\n",
              "    })();\n",
              "  </script>\n",
              "</div>\n",
              "\n",
              "    </div>\n",
              "  </div>\n"
            ],
            "application/vnd.google.colaboratory.intrinsic+json": {
              "type": "dataframe",
              "summary": "{\n  \"name\": \"pd\",\n  \"rows\": 4,\n  \"fields\": [\n    {\n      \"column\": \"0\",\n      \"properties\": {\n        \"dtype\": \"number\",\n        \"std\": 697.595164970999,\n        \"min\": 0.7908407382091592,\n        \"max\": 1396.0,\n        \"num_unique_values\": 4,\n        \"samples\": [\n          0.8287965616045845,\n          1396.0,\n          0.7908407382091592\n        ],\n        \"semantic_type\": \"\",\n        \"description\": \"\"\n      }\n    },\n    {\n      \"column\": \"1\",\n      \"properties\": {\n        \"dtype\": \"number\",\n        \"std\": 265.772635573904,\n        \"min\": 0.424812030075188,\n        \"max\": 532.0,\n        \"num_unique_values\": 4,\n        \"samples\": [\n          0.424812030075188,\n          532.0,\n          0.4860215053763441\n        ],\n        \"semantic_type\": \"\",\n        \"description\": \"\"\n      }\n    },\n    {\n      \"column\": \"accuracy\",\n      \"properties\": {\n        \"dtype\": \"number\",\n        \"std\": 0.0,\n        \"min\": 0.7173236514522822,\n        \"max\": 0.7173236514522822,\n        \"num_unique_values\": 1,\n        \"samples\": [\n          0.7173236514522822\n        ],\n        \"semantic_type\": \"\",\n        \"description\": \"\"\n      }\n    },\n    {\n      \"column\": \"macro avg\",\n      \"properties\": {\n        \"dtype\": \"number\",\n        \"std\": 963.683899609998,\n        \"min\": 0.6268042958398863,\n        \"max\": 1928.0,\n        \"num_unique_values\": 4,\n        \"samples\": [\n          0.6268042958398863\n        ],\n        \"semantic_type\": \"\",\n        \"description\": \"\"\n      }\n    },\n    {\n      \"column\": \"weighted avg\",\n      \"properties\": {\n        \"dtype\": \"number\",\n        \"std\": 963.6441346356414,\n        \"min\": 0.7067308669088181,\n        \"max\": 1928.0,\n        \"num_unique_values\": 4,\n        \"samples\": [\n          0.7173236514522822\n        ],\n        \"semantic_type\": \"\",\n        \"description\": \"\"\n      }\n    }\n  ]\n}"
            }
          },
          "metadata": {},
          "execution_count": 144
        },
        {
          "output_type": "stream",
          "name": "stdout",
          "text": [
            "time: 2.21 s (started: 2024-03-03 20:29:42 +00:00)\n"
          ]
        }
      ],
      "source": [
        "'''\n",
        "scaler = StandardScaler()\n",
        "data_encoded[['AGE', 'INCOME', 'TIF', 'OLDCLAIM', 'CLM_FREQ', 'MVR_PTS', 'CLM_AMT', 'CAR_AGE']] = scaler.fit_transform(data_encoded[['AGE', 'INCOME', 'TIF', 'OLDCLAIM', 'CLM_FREQ', 'MVR_PTS', 'CLM_AMT', 'CAR_AGE']])\n",
        "'''\n",
        "\n",
        "X = data_encoded.drop(columns=['CLAIM_FLAG'], axis=1)\n",
        "y = data_encoded['CLAIM_FLAG']\n",
        "'''\n",
        "scaler = StandardScaler()\n",
        "X[numerical_cols] = scaler.fit_transform(X[numerical_cols])\n",
        "#Standardizing/Normalizing features\n",
        "'''\n",
        "scler = StandardScaler() #method for standardizing features by removing the mean and scaling to unit variance.\n",
        "X_scaled = scler.fit_transform(X) #standardize the features in the X df, fits the scler to the data (calculates mean and SD), then transforms the data using the calculated mean and standard deviation to achieve standardization\n",
        "\n",
        "\n",
        "#Split the data into training and testing sets\n",
        "X_train, X_test, y_train, y_test = train_test_split(X_scaled, y, test_size=0.2, random_state=42)\n",
        "\n",
        "sm = SMOTE(random_state=42)\n",
        "X_train_bal, y_train_bal = sm.fit_resample(X_train, y_train)\n",
        "\n",
        "print(\"Class distribution after SMOTE:\")\n",
        "print(pd.Series(y_train_bal).value_counts())\n",
        "\n",
        "# Training the classifier\n",
        "clf_balanced = RandomForestClassifier(random_state=42)\n",
        "clf_balanced.fit(X_train_bal, y_train_bal)\n",
        "\n",
        "# Predictions\n",
        "y_pred = clf_balanced.predict(X_test)\n",
        "\n",
        "# Step 4: Record precision and recall\n",
        "precision_recall = classification_report(y_test, y_pred, output_dict=True)\n",
        "\n",
        "accuracy_rf = accuracy_score(y_test, y_pred)\n",
        "print(\"Accuracy:\", accuracy_rf)\n",
        "\n",
        "pd.DataFrame(precision_recall)"
      ]
    },
    {
      "cell_type": "code",
      "execution_count": null,
      "metadata": {
        "colab": {
          "base_uri": "https://localhost:8080/"
        },
        "id": "pHmhRqp6tc28",
        "outputId": "03b113b6-3e72-4871-fb75-9beba80ca4dc"
      },
      "outputs": [
        {
          "output_type": "stream",
          "name": "stdout",
          "text": [
            "Class 0: 5669 samples\n",
            "Class 1: 5669 samples\n",
            "time: 9.1 ms (started: 2024-03-03 20:29:44 +00:00)\n"
          ]
        }
      ],
      "source": [
        "import numpy as np\n",
        "\n",
        "# Count the occurrences of each class in y_train_bal\n",
        "class_counts = np.bincount(y_train_bal)\n",
        "\n",
        "# Print the class distribution\n",
        "for class_label, count in enumerate(class_counts):\n",
        "    print(f\"Class {class_label}: {count} samples\")\n"
      ]
    },
    {
      "cell_type": "code",
      "execution_count": null,
      "metadata": {
        "colab": {
          "base_uri": "https://localhost:8080/",
          "height": 490
        },
        "id": "FHJxvHyetWXQ",
        "outputId": "2715ba3e-6165-431d-fdca-3a143523361a"
      },
      "outputs": [
        {
          "output_type": "display_data",
          "data": {
            "text/plain": [
              "<Figure size 640x480 with 1 Axes>"
            ],
            "image/png": "[encoded data removed]"
          },
          "metadata": {}
        },
        {
          "output_type": "stream",
          "name": "stdout",
          "text": [
            "time: 395 ms (started: 2024-03-03 20:29:44 +00:00)\n"
          ]
        }
      ],
      "source": [
        "import matplotlib.pyplot as plt\n",
        "\n",
        "# Plot the class distribution\n",
        "plt.bar(range(len(class_counts)), class_counts)\n",
        "plt.xlabel('Class')\n",
        "plt.ylabel('Number of Samples')\n",
        "plt.title('Class Distribution after SMOTE')\n",
        "plt.show()\n"
      ]
    },
    {
      "cell_type": "code",
      "execution_count": null,
      "metadata": {
        "colab": {
          "base_uri": "https://localhost:8080/"
        },
        "id": "2mP4uHNVFO68",
        "outputId": "dd486bd3-140b-447e-d49f-601d217003a6"
      },
      "outputs": [
        {
          "output_type": "stream",
          "name": "stdout",
          "text": [
            "Accuracy: 0.6841286307053942\n",
            "\n",
            "Classification Report:\n",
            "               precision    recall  f1-score   support\n",
            "\n",
            "           0       0.86      0.68      0.76      1396\n",
            "           1       0.45      0.70      0.55       532\n",
            "\n",
            "    accuracy                           0.68      1928\n",
            "   macro avg       0.66      0.69      0.65      1928\n",
            "weighted avg       0.75      0.68      0.70      1928\n",
            "\n",
            "time: 3.92 s (started: 2024-03-03 20:29:45 +00:00)\n"
          ]
        },
        {
          "output_type": "stream",
          "name": "stderr",
          "text": [
            "/usr/local/lib/python3.10/dist-packages/sklearn/svm/_base.py:1244: ConvergenceWarning: Liblinear failed to converge, increase the number of iterations.\n",
            "  warnings.warn(\n"
          ]
        }
      ],
      "source": [
        "from sklearn.svm import LinearSVC\n",
        "\n",
        "# Initialize the SVM classifier\n",
        "svm_classifier = LinearSVC(random_state=42)\n",
        "\n",
        "# Train the SVM classifier\n",
        "svm_classifier.fit(X_train_bal, y_train_bal)\n",
        "\n",
        "# Make predictions on the testing set\n",
        "y_pred = svm_classifier.predict(X_test)\n",
        "\n",
        "# Evaluate the model's performance\n",
        "accuracy_svm = accuracy_score(y_test, y_pred)\n",
        "report = classification_report(y_test, y_pred)\n",
        "\n",
        "print(\"Accuracy:\", accuracy_svm)\n",
        "print(\"\\nClassification Report:\\n\", report)"
      ]
    },
    {
      "cell_type": "code",
      "execution_count": null,
      "metadata": {
        "colab": {
          "base_uri": "https://localhost:8080/"
        },
        "id": "3dUV-yHvmmpv",
        "outputId": "c3711347-d477-4d81-e767-84de10a970fd"
      },
      "outputs": [
        {
          "output_type": "stream",
          "name": "stdout",
          "text": [
            "Epoch 1/10\n",
            "241/241 [==============================] - 3s 6ms/step - loss: 0.5384 - accuracy: 0.7394 - val_loss: 0.6421 - val_accuracy: 0.6250\n",
            "Epoch 2/10\n",
            "241/241 [==============================] - 1s 4ms/step - loss: 0.5117 - accuracy: 0.7583 - val_loss: 0.6560 - val_accuracy: 0.6129\n",
            "Epoch 3/10\n",
            "241/241 [==============================] - 2s 7ms/step - loss: 0.5041 - accuracy: 0.7604 - val_loss: 0.6642 - val_accuracy: 0.6136\n",
            "Epoch 4/10\n",
            "241/241 [==============================] - 1s 5ms/step - loss: 0.4980 - accuracy: 0.7643 - val_loss: 0.6657 - val_accuracy: 0.6286\n",
            "Epoch 5/10\n",
            "241/241 [==============================] - 1s 6ms/step - loss: 0.4960 - accuracy: 0.7657 - val_loss: 0.6352 - val_accuracy: 0.6393\n",
            "Epoch 6/10\n",
            "241/241 [==============================] - 1s 5ms/step - loss: 0.4927 - accuracy: 0.7638 - val_loss: 0.6715 - val_accuracy: 0.6007\n",
            "Epoch 7/10\n",
            "241/241 [==============================] - 2s 8ms/step - loss: 0.4901 - accuracy: 0.7697 - val_loss: 0.6175 - val_accuracy: 0.6564\n",
            "Epoch 8/10\n",
            "241/241 [==============================] - 2s 7ms/step - loss: 0.4870 - accuracy: 0.7704 - val_loss: 0.6704 - val_accuracy: 0.6071\n",
            "Epoch 9/10\n",
            "241/241 [==============================] - 1s 6ms/step - loss: 0.4846 - accuracy: 0.7710 - val_loss: 0.6733 - val_accuracy: 0.6164\n",
            "Epoch 10/10\n",
            "241/241 [==============================] - 1s 5ms/step - loss: 0.4811 - accuracy: 0.7731 - val_loss: 0.6578 - val_accuracy: 0.6150\n",
            "31/31 [==============================] - 0s 3ms/step - loss: 0.5485 - accuracy: 0.7376\n",
            "31/31 [==============================] - 0s 5ms/step\n",
            "time: 17.3 s (started: 2024-03-03 20:29:49 +00:00)\n"
          ]
        }
      ],
      "source": [
        "import tensorflow as tf\n",
        "from tensorflow import keras\n",
        "from tensorflow.keras.models import Sequential\n",
        "from tensorflow.keras.layers import Dense\n",
        "\n",
        "\n",
        "#Splitting data into: features (X) and target (y)\n",
        "X = data_encoded.drop(columns=['CLAIM_FLAG'], axis=1)\n",
        "y = data_encoded['CLAIM_FLAG']\n",
        "\n",
        "#Standardizing/Normalizing features\n",
        "scler = StandardScaler() #method for standardizing features by removing the mean and scaling to unit variance.\n",
        "X_scaled = scler.fit_transform(X) #standardize the features in the X df, fits the scler to the data (calculates mean and SD), then transforms the data using the calculated mean and standard deviation to achieve standardization\n",
        "\n",
        "\n",
        "#Split the data into training, validation, and test sets\n",
        "X_train, X_temp, y_train, y_temp = train_test_split(X_scaled, y, test_size=0.2, random_state=42)\n",
        "X_val, X_test, y_val, y_test = train_test_split(X_temp, y_temp, test_size=0.5, random_state=42)\n",
        "\n",
        "smoteAlg = SMOTE(random_state=42)\n",
        "X_train_bal, y_train_bal = smoteAlg.fit_resample(X_train, y_train)\n",
        "\n",
        "X_val_bal, y_val_bal = smoteAlg.fit_resample(X_val, y_val)\n",
        "\n",
        "# Define the model architecture\n",
        "model = Sequential([\n",
        "    Dense(64, activation='relu', input_shape=(25,)),  # Input layer\n",
        "    Dense(64, activation='relu'),  # Hidden layer\n",
        "    Dense(1, activation='sigmoid')  # Output layer (binary classification)\n",
        "])\n",
        "\n",
        "# Compile the model\n",
        "model.compile(optimizer='adam',\n",
        "              loss='binary_crossentropy',\n",
        "              metrics=['accuracy'])\n",
        "'''\n",
        "print(X_train.shape)\n",
        "print(model.input_shape)\n",
        "'''\n",
        "\n",
        "# Train the model\n",
        "history = model.fit(X_train,y_train, epochs=10, batch_size=32, validation_data=(X_val_bal, y_val_bal))\n",
        "\n",
        "# Evaluate the model on the test set\n",
        "loss, accuracy_dnn = model.evaluate(X_test, y_test)\n",
        "\n",
        "# Make predictions\n",
        "y_pred = model.predict(X_test)"
      ]
    },
    {
      "cell_type": "code",
      "source": [
        "test_accuracies = {\n",
        "    'Random Forest (SMOTE)': accuracy_rf,\n",
        "    'SVM (SMOTE)': accuracy_svm,\n",
        "    'Neural Network (SMOTE)': accuracy_dnn,\n",
        "}\n",
        "\n",
        "\n",
        "# Plotting the test accuracy for each algorithm\n",
        "\n",
        "plt.figure(figsize=(10, 6))\n",
        "sns.barplot(x=list(test_accuracies.keys()), y=list(test_accuracies.values()), color='navy')\n",
        "plt.xticks(rotation=45, ha='right')\n",
        "plt.title('SMOTE accuracy depicted by RF, SVM, DNN')\n",
        "plt.xlabel('carInsuranceClaim')\n",
        "plt.ylabel('Test Accuracy')\n",
        "plt.tight_layout()\n",
        "plt.show()"
      ],
      "metadata": {
        "colab": {
          "base_uri": "https://localhost:8080/",
          "height": 625
        },
        "id": "VpaM51TgHBJC",
        "outputId": "c7240771-a38d-4474-b946-fe1df2f1610b"
      },
      "execution_count": null,
      "outputs": [
        {
          "output_type": "display_data",
          "data": {
            "text/plain": [
              "<Figure size 1000x600 with 1 Axes>"
            ],
            "image/png": "[encoded data removed]"
          },
          "metadata": {}
        },
        {
          "output_type": "stream",
          "name": "stdout",
          "text": [
            "time: 890 ms (started: 2024-03-03 20:30:06 +00:00)\n"
          ]
        }
      ]
    },
    {
      "cell_type": "markdown",
      "metadata": {
        "id": "GpQ0zsZwoJex"
      },
      "source": [
        "As we can see, the accuracy from DNN with SMOTE sampling is 72%"
      ]
    },
    {
      "cell_type": "markdown",
      "metadata": {
        "id": "-INQpovraAAQ"
      },
      "source": [
        "#ADASYN SAMPLING ALGO (RF, SVM, DNN)"
      ]
    },
    {
      "cell_type": "code",
      "execution_count": null,
      "metadata": {
        "colab": {
          "base_uri": "https://localhost:8080/"
        },
        "id": "e7HEYVJdZvBv",
        "outputId": "41c17b13-1dbf-4fd2-901b-295b06449e10"
      },
      "outputs": [
        {
          "output_type": "stream",
          "name": "stdout",
          "text": [
            "Class distribution before ADASYN:\n",
            "0    5669\n",
            "1    2040\n",
            "Name: CLAIM_FLAG, dtype: int64\n",
            "Class distribution after ADASYN:\n",
            "1    5908\n",
            "0    5669\n",
            "Name: CLAIM_FLAG, dtype: int64\n",
            "time: 788 ms (started: 2024-03-03 20:30:07 +00:00)\n"
          ]
        }
      ],
      "source": [
        "from imblearn.over_sampling import ADASYN\n",
        "from sklearn.model_selection import train_test_split\n",
        "import pandas as pd\n",
        "\n",
        "# Assuming 'X' is your feature matrix and 'y' is your target vector\n",
        "# Split the dataset into training and testing sets\n",
        "X_train, X_test, y_train, y_test = train_test_split(X_scaled, y, test_size=0.2, random_state=42)\n",
        "\n",
        "# Check the class distribution after applying ADASYN\n",
        "print(\"Class distribution before ADASYN:\")\n",
        "print(pd.Series(y_train).value_counts())\n",
        "\n",
        "# Apply ADASYN to balance the training set\n",
        "adasyn = ADASYN(random_state=42, sampling_strategy=1.0)\n",
        "X_train_resampled, y_train_resampled = adasyn.fit_resample(X_train, y_train)\n",
        "\n",
        "# Check the class distribution after applying ADASYN\n",
        "print(\"Class distribution after ADASYN:\")\n",
        "print(pd.Series(y_train_resampled).value_counts())\n"
      ]
    },
    {
      "cell_type": "code",
      "execution_count": null,
      "metadata": {
        "colab": {
          "base_uri": "https://localhost:8080/",
          "height": 211
        },
        "id": "XET4nDE4elSW",
        "outputId": "1c6ff4dd-307c-4ee3-8faf-8d075b0f96ae"
      },
      "outputs": [
        {
          "output_type": "stream",
          "name": "stdout",
          "text": [
            "Accuracy: 0.7053941908713693\n"
          ]
        },
        {
          "output_type": "execute_result",
          "data": {
            "text/plain": [
              "                     0           1  accuracy    macro avg  weighted avg\n",
              "precision     0.788301    0.463415  0.705394     0.625858      0.698654\n",
              "recall        0.810888    0.428571  0.705394     0.619730      0.705394\n",
              "f1-score      0.799435    0.445312  0.705394     0.622374      0.701721\n",
              "support    1396.000000  532.000000  0.705394  1928.000000   1928.000000"
            ],
            "text/html": [
              "\n",
              "  <div id=\"df-cd272bd0-a98c-407a-b39b-b90adf462280\" class=\"colab-df-container\">\n",
              "    <div>\n",
              "<style scoped>\n",
              "    .dataframe tbody tr th:only-of-type {\n",
              "        vertical-align: middle;\n",
              "    }\n",
              "\n",
              "    .dataframe tbody tr th {\n",
              "        vertical-align: top;\n",
              "    }\n",
              "\n",
              "    .dataframe thead th {\n",
              "        text-align: right;\n",
              "    }\n",
              "</style>\n",
              "<table border=\"1\" class=\"dataframe\">\n",
              "  <thead>\n",
              "    <tr style=\"text-align: right;\">\n",
              "      <th></th>\n",
              "      <th>0</th>\n",
              "      <th>1</th>\n",
              "      <th>accuracy</th>\n",
              "      <th>macro avg</th>\n",
              "      <th>weighted avg</th>\n",
              "    </tr>\n",
              "  </thead>\n",
              "  <tbody>\n",
              "    <tr>\n",
              "      <th>precision</th>\n",
              "      <td>0.788301</td>\n",
              "      <td>0.463415</td>\n",
              "      <td>0.705394</td>\n",
              "      <td>0.625858</td>\n",
              "      <td>0.698654</td>\n",
              "    </tr>\n",
              "    <tr>\n",
              "      <th>recall</th>\n",
              "      <td>0.810888</td>\n",
              "      <td>0.428571</td>\n",
              "      <td>0.705394</td>\n",
              "      <td>0.619730</td>\n",
              "      <td>0.705394</td>\n",
              "    </tr>\n",
              "    <tr>\n",
              "      <th>f1-score</th>\n",
              "      <td>0.799435</td>\n",
              "      <td>0.445312</td>\n",
              "      <td>0.705394</td>\n",
              "      <td>0.622374</td>\n",
              "      <td>0.701721</td>\n",
              "    </tr>\n",
              "    <tr>\n",
              "      <th>support</th>\n",
              "      <td>1396.000000</td>\n",
              "      <td>532.000000</td>\n",
              "      <td>0.705394</td>\n",
              "      <td>1928.000000</td>\n",
              "      <td>1928.000000</td>\n",
              "    </tr>\n",
              "  </tbody>\n",
              "</table>\n",
              "</div>\n",
              "    <div class=\"colab-df-buttons\">\n",
              "\n",
              "  <div class=\"colab-df-container\">\n",
              "    <button class=\"colab-df-convert\" onclick=\"convertToInteractive('df-cd272bd0-a98c-407a-b39b-b90adf462280')\"\n",
              "            title=\"Convert this dataframe to an interactive table.\"\n",
              "            style=\"display:none;\">\n",
              "\n",
              "  <svg xmlns=\"http://www.w3.org/2000/svg\" height=\"24px\" viewBox=\"0 -960 960 960\">\n",
              "    <path d=\"M120-120v-720h720v720H120Zm60-500h600v-160H180v160Zm220 220h160v-160H400v160Zm0 220h160v-160H400v160ZM180-400h160v-160H180v160Zm440 0h160v-160H620v160ZM180-180h160v-160H180v160Zm440 0h160v-160H620v160Z\"/>\n",
              "  </svg>\n",
              "    </button>\n",
              "\n",
              "  <style>\n",
              "    .colab-df-container {\n",
              "      display:flex;\n",
              "      gap: 12px;\n",
              "    }\n",
              "\n",
              "    .colab-df-convert {\n",
              "      background-color: #E8F0FE;\n",
              "      border: none;\n",
              "      border-radius: 50%;\n",
              "      cursor: pointer;\n",
              "      display: none;\n",
              "      fill: #1967D2;\n",
              "      height: 32px;\n",
              "      padding: 0 0 0 0;\n",
              "      width: 32px;\n",
              "    }\n",
              "\n",
              "    .colab-df-convert:hover {\n",
              "      background-color: #E2EBFA;\n",
              "      box-shadow: 0px 1px 2px rgba(60, 64, 67, 0.3), 0px 1px 3px 1px rgba(60, 64, 67, 0.15);\n",
              "      fill: #174EA6;\n",
              "    }\n",
              "\n",
              "    .colab-df-buttons div {\n",
              "      margin-bottom: 4px;\n",
              "    }\n",
              "\n",
              "    [theme=dark] .colab-df-convert {\n",
              "      background-color: #3B4455;\n",
              "      fill: #D2E3FC;\n",
              "    }\n",
              "\n",
              "    [theme=dark] .colab-df-convert:hover {\n",
              "      background-color: #434B5C;\n",
              "      box-shadow: 0px 1px 3px 1px rgba(0, 0, 0, 0.15);\n",
              "      filter: drop-shadow(0px 1px 2px rgba(0, 0, 0, 0.3));\n",
              "      fill: #FFFFFF;\n",
              "    }\n",
              "  </style>\n",
              "\n",
              "    <script>\n",
              "      const buttonEl =\n",
              "        document.querySelector('#df-cd272bd0-a98c-407a-b39b-b90adf462280 button.colab-df-convert');\n",
              "      buttonEl.style.display =\n",
              "        google.colab.kernel.accessAllowed ? 'block' : 'none';\n",
              "\n",
              "      async function convertToInteractive(key) {\n",
              "        const element = document.querySelector('#df-cd272bd0-a98c-407a-b39b-b90adf462280');\n",
              "        const dataTable =\n",
              "          await google.colab.kernel.invokeFunction('convertToInteractive',\n",
              "                                                    [key], {});\n",
              "        if (!dataTable) return;\n",
              "\n",
              "        const docLinkHtml = 'Like what you see? Visit the ' +\n",
              "          '<a target=\"_blank\" href=https://colab.research.google.com/notebooks/data_table.ipynb>data table notebook</a>'\n",
              "          + ' to learn more about interactive tables.';\n",
              "        element.innerHTML = '';\n",
              "        dataTable['output_type'] = 'display_data';\n",
              "        await google.colab.output.renderOutput(dataTable, element);\n",
              "        const docLink = document.createElement('div');\n",
              "        docLink.innerHTML = docLinkHtml;\n",
              "        element.appendChild(docLink);\n",
              "      }\n",
              "    </script>\n",
              "  </div>\n",
              "\n",
              "\n",
              "<div id=\"df-0d7f1e3c-4573-460c-9cca-6727c55ac051\">\n",
              "  <button class=\"colab-df-quickchart\" onclick=\"quickchart('df-0d7f1e3c-4573-460c-9cca-6727c55ac051')\"\n",
              "            title=\"Suggest charts\"\n",
              "            style=\"display:none;\">\n",
              "\n",
              "<svg xmlns=\"http://www.w3.org/2000/svg\" height=\"24px\"viewBox=\"0 0 24 24\"\n",
              "     width=\"24px\">\n",
              "    <g>\n",
              "        <path d=\"M19 3H5c-1.1 0-2 .9-2 2v14c0 1.1.9 2 2 2h14c1.1 0 2-.9 2-2V5c0-1.1-.9-2-2-2zM9 17H7v-7h2v7zm4 0h-2V7h2v10zm4 0h-2v-4h2v4z\"/>\n",
              "    </g>\n",
              "</svg>\n",
              "  </button>\n",
              "\n",
              "<style>\n",
              "  .colab-df-quickchart {\n",
              "      --bg-color: #E8F0FE;\n",
              "      --fill-color: #1967D2;\n",
              "      --hover-bg-color: #E2EBFA;\n",
              "      --hover-fill-color: #174EA6;\n",
              "      --disabled-fill-color: #AAA;\n",
              "      --disabled-bg-color: #DDD;\n",
              "  }\n",
              "\n",
              "  [theme=dark] .colab-df-quickchart {\n",
              "      --bg-color: #3B4455;\n",
              "      --fill-color: #D2E3FC;\n",
              "      --hover-bg-color: #434B5C;\n",
              "      --hover-fill-color: #FFFFFF;\n",
              "      --disabled-bg-color: #3B4455;\n",
              "      --disabled-fill-color: #666;\n",
              "  }\n",
              "\n",
              "  .colab-df-quickchart {\n",
              "    background-color: var(--bg-color);\n",
              "    border: none;\n",
              "    border-radius: 50%;\n",
              "    cursor: pointer;\n",
              "    display: none;\n",
              "    fill: var(--fill-color);\n",
              "    height: 32px;\n",
              "    padding: 0;\n",
              "    width: 32px;\n",
              "  }\n",
              "\n",
              "  .colab-df-quickchart:hover {\n",
              "    background-color: var(--hover-bg-color);\n",
              "    box-shadow: 0 1px 2px rgba(60, 64, 67, 0.3), 0 1px 3px 1px rgba(60, 64, 67, 0.15);\n",
              "    fill: var(--button-hover-fill-color);\n",
              "  }\n",
              "\n",
              "  .colab-df-quickchart-complete:disabled,\n",
              "  .colab-df-quickchart-complete:disabled:hover {\n",
              "    background-color: var(--disabled-bg-color);\n",
              "    fill: var(--disabled-fill-color);\n",
              "    box-shadow: none;\n",
              "  }\n",
              "\n",
              "  .colab-df-spinner {\n",
              "    border: 2px solid var(--fill-color);\n",
              "    border-color: transparent;\n",
              "    border-bottom-color: var(--fill-color);\n",
              "    animation:\n",
              "      spin 1s steps(1) infinite;\n",
              "  }\n",
              "\n",
              "  @keyframes spin {\n",
              "    0% {\n",
              "      border-color: transparent;\n",
              "      border-bottom-color: var(--fill-color);\n",
              "      border-left-color: var(--fill-color);\n",
              "    }\n",
              "    20% {\n",
              "      border-color: transparent;\n",
              "      border-left-color: var(--fill-color);\n",
              "      border-top-color: var(--fill-color);\n",
              "    }\n",
              "    30% {\n",
              "      border-color: transparent;\n",
              "      border-left-color: var(--fill-color);\n",
              "      border-top-color: var(--fill-color);\n",
              "      border-right-color: var(--fill-color);\n",
              "    }\n",
              "    40% {\n",
              "      border-color: transparent;\n",
              "      border-right-color: var(--fill-color);\n",
              "      border-top-color: var(--fill-color);\n",
              "    }\n",
              "    60% {\n",
              "      border-color: transparent;\n",
              "      border-right-color: var(--fill-color);\n",
              "    }\n",
              "    80% {\n",
              "      border-color: transparent;\n",
              "      border-right-color: var(--fill-color);\n",
              "      border-bottom-color: var(--fill-color);\n",
              "    }\n",
              "    90% {\n",
              "      border-color: transparent;\n",
              "      border-bottom-color: var(--fill-color);\n",
              "    }\n",
              "  }\n",
              "</style>\n",
              "\n",
              "  <script>\n",
              "    async function quickchart(key) {\n",
              "      const quickchartButtonEl =\n",
              "        document.querySelector('#' + key + ' button');\n",
              "      quickchartButtonEl.disabled = true;  // To prevent multiple clicks.\n",
              "      quickchartButtonEl.classList.add('colab-df-spinner');\n",
              "      try {\n",
              "        const charts = await google.colab.kernel.invokeFunction(\n",
              "            'suggestCharts', [key], {});\n",
              "      } catch (error) {\n",
              "        console.error('Error during call to suggestCharts:', error);\n",
              "      }\n",
              "      quickchartButtonEl.classList.remove('colab-df-spinner');\n",
              "      quickchartButtonEl.classList.add('colab-df-quickchart-complete');\n",
              "    }\n",
              "    (() => {\n",
              "      let quickchartButtonEl =\n",
              "        document.querySelector('#df-0d7f1e3c-4573-460c-9cca-6727c55ac051 button');\n",
              "      quickchartButtonEl.style.display =\n",
              "        google.colab.kernel.accessAllowed ? 'block' : 'none';\n",
              "    })();\n",
              "  </script>\n",
              "</div>\n",
              "\n",
              "    </div>\n",
              "  </div>\n"
            ],
            "application/vnd.google.colaboratory.intrinsic+json": {
              "type": "dataframe",
              "summary": "{\n  \"name\": \"pd\",\n  \"rows\": 4,\n  \"fields\": [\n    {\n      \"column\": \"0\",\n      \"properties\": {\n        \"dtype\": \"number\",\n        \"std\": 697.6002293749415,\n        \"min\": 0.7883008356545961,\n        \"max\": 1396.0,\n        \"num_unique_values\": 4,\n        \"samples\": [\n          0.8108882521489972,\n          1396.0,\n          0.7883008356545961\n        ],\n        \"semantic_type\": \"\",\n        \"description\": \"\"\n      }\n    },\n    {\n      \"column\": \"1\",\n      \"properties\": {\n        \"dtype\": \"number\",\n        \"std\": 265.7771172870674,\n        \"min\": 0.42857142857142855,\n        \"max\": 532.0,\n        \"num_unique_values\": 4,\n        \"samples\": [\n          0.42857142857142855,\n          532.0,\n          0.4634146341463415\n        ],\n        \"semantic_type\": \"\",\n        \"description\": \"\"\n      }\n    },\n    {\n      \"column\": \"accuracy\",\n      \"properties\": {\n        \"dtype\": \"number\",\n        \"std\": 0.0,\n        \"min\": 0.7053941908713693,\n        \"max\": 0.7053941908713693,\n        \"num_unique_values\": 1,\n        \"samples\": [\n          0.7053941908713693\n        ],\n        \"semantic_type\": \"\",\n        \"description\": \"\"\n      }\n    },\n    {\n      \"column\": \"macro avg\",\n      \"properties\": {\n        \"dtype\": \"number\",\n        \"std\": 963.68867311337,\n        \"min\": 0.6197298403602128,\n        \"max\": 1928.0,\n        \"num_unique_values\": 4,\n        \"samples\": [\n          0.6197298403602128\n        ],\n        \"semantic_type\": \"\",\n        \"description\": \"\"\n      }\n    },\n    {\n      \"column\": \"weighted avg\",\n      \"properties\": {\n        \"dtype\": \"number\",\n        \"std\": 963.6490385498096,\n        \"min\": 0.6986538132467166,\n        \"max\": 1928.0,\n        \"num_unique_values\": 4,\n        \"samples\": [\n          0.7053941908713693\n        ],\n        \"semantic_type\": \"\",\n        \"description\": \"\"\n      }\n    }\n  ]\n}"
            }
          },
          "metadata": {},
          "execution_count": 151
        },
        {
          "output_type": "stream",
          "name": "stdout",
          "text": [
            "time: 3.92 s (started: 2024-03-03 20:30:08 +00:00)\n"
          ]
        }
      ],
      "source": [
        "# Training the classifier\n",
        "clf_balanced = RandomForestClassifier(random_state=42)\n",
        "clf_balanced.fit(X_train_resampled, y_train_resampled)\n",
        "\n",
        "# Predictions\n",
        "y_pred = clf_balanced.predict(X_test)\n",
        "\n",
        "# Step 4: Record precision and recall\n",
        "precision_recall = classification_report(y_test, y_pred, output_dict=True)\n",
        "\n",
        "accuracy_rf_adasyn = accuracy_score(y_test, y_pred)\n",
        "print(\"Accuracy:\", accuracy_rf_adasyn)\n",
        "\n",
        "pd.DataFrame(precision_recall)"
      ]
    },
    {
      "cell_type": "code",
      "execution_count": null,
      "metadata": {
        "colab": {
          "base_uri": "https://localhost:8080/"
        },
        "id": "0ipau_chfN3v",
        "outputId": "1c49a58a-3b68-4be1-e513-b14bc7176e9d"
      },
      "outputs": [
        {
          "output_type": "stream",
          "name": "stdout",
          "text": [
            "Accuracy: 0.6509336099585062\n",
            "\n",
            "Classification Report:\n",
            "               precision    recall  f1-score   support\n",
            "\n",
            "           0       0.85      0.62      0.72      1396\n",
            "           1       0.42      0.72      0.53       532\n",
            "\n",
            "    accuracy                           0.65      1928\n",
            "   macro avg       0.64      0.67      0.63      1928\n",
            "weighted avg       0.74      0.65      0.67      1928\n",
            "\n",
            "time: 5.61 s (started: 2024-03-03 20:30:12 +00:00)\n"
          ]
        },
        {
          "output_type": "stream",
          "name": "stderr",
          "text": [
            "/usr/local/lib/python3.10/dist-packages/sklearn/svm/_base.py:1244: ConvergenceWarning: Liblinear failed to converge, increase the number of iterations.\n",
            "  warnings.warn(\n"
          ]
        }
      ],
      "source": [
        "# Initialize the SVM classifier\n",
        "svm_classifier = LinearSVC(random_state=42)\n",
        "\n",
        "# Train the SVM classifier\n",
        "svm_classifier.fit(X_train_resampled, y_train_resampled)\n",
        "\n",
        "# Make predictions on the testing set\n",
        "y_pred = svm_classifier.predict(X_test)\n",
        "\n",
        "# Evaluate the model's performance\n",
        "accuracy_svm_adasyn = accuracy_score(y_test, y_pred)\n",
        "report = classification_report(y_test, y_pred)\n",
        "\n",
        "print(\"Accuracy:\", accuracy_svm_adasyn)\n",
        "print(\"\\nClassification Report:\\n\", report)"
      ]
    },
    {
      "cell_type": "code",
      "execution_count": null,
      "metadata": {
        "colab": {
          "base_uri": "https://localhost:8080/"
        },
        "id": "OqmBWfEefg_n",
        "outputId": "2a26f3a4-d0b0-4f73-8f03-a84e566bf437"
      },
      "outputs": [
        {
          "output_type": "stream",
          "name": "stdout",
          "text": [
            "Epoch 1/10\n",
            "241/241 [==============================] - 3s 8ms/step - loss: 0.5341 - accuracy: 0.7434 - val_loss: 0.6617 - val_accuracy: 0.6136\n",
            "Epoch 2/10\n",
            "241/241 [==============================] - 1s 2ms/step - loss: 0.5102 - accuracy: 0.7578 - val_loss: 0.7430 - val_accuracy: 0.5499\n",
            "Epoch 3/10\n",
            "241/241 [==============================] - 1s 2ms/step - loss: 0.5033 - accuracy: 0.7591 - val_loss: 0.7168 - val_accuracy: 0.5727\n",
            "Epoch 4/10\n",
            "241/241 [==============================] - 1s 2ms/step - loss: 0.4989 - accuracy: 0.7634 - val_loss: 0.7030 - val_accuracy: 0.5658\n",
            "Epoch 5/10\n",
            "241/241 [==============================] - 1s 2ms/step - loss: 0.4954 - accuracy: 0.7664 - val_loss: 0.6792 - val_accuracy: 0.6094\n",
            "Epoch 6/10\n",
            "241/241 [==============================] - 1s 2ms/step - loss: 0.4933 - accuracy: 0.7669 - val_loss: 0.6897 - val_accuracy: 0.5803\n",
            "Epoch 7/10\n",
            "241/241 [==============================] - 1s 2ms/step - loss: 0.4893 - accuracy: 0.7701 - val_loss: 0.6954 - val_accuracy: 0.5852\n",
            "Epoch 8/10\n",
            "241/241 [==============================] - 1s 3ms/step - loss: 0.4872 - accuracy: 0.7679 - val_loss: 0.7048 - val_accuracy: 0.5789\n",
            "Epoch 9/10\n",
            "241/241 [==============================] - 1s 3ms/step - loss: 0.4849 - accuracy: 0.7726 - val_loss: 0.7013 - val_accuracy: 0.5949\n",
            "Epoch 10/10\n",
            "241/241 [==============================] - 1s 4ms/step - loss: 0.4826 - accuracy: 0.7718 - val_loss: 0.7059 - val_accuracy: 0.5755\n",
            "31/31 [==============================] - 0s 2ms/step - loss: 0.5552 - accuracy: 0.7158\n",
            "31/31 [==============================] - 0s 1ms/step\n",
            "time: 10.7 s (started: 2024-03-03 20:30:17 +00:00)\n"
          ]
        }
      ],
      "source": [
        "#Splitting data into: features (X) and target (y)\n",
        "X = data_encoded.drop(columns=['CLAIM_FLAG'], axis=1)\n",
        "y = data_encoded['CLAIM_FLAG']\n",
        "\n",
        "#Standardizing/Normalizing features\n",
        "scler = StandardScaler() #method for standardizing features by removing the mean and scaling to unit variance.\n",
        "X_scaled = scler.fit_transform(X) #standardize the features in the X df, fits the scler to the data (calculates mean and SD), then transforms the data using the calculated mean and standard deviation to achieve standardization\n",
        "\n",
        "\n",
        "#Split the data into training, validation, and test sets\n",
        "X_train, X_temp, y_train, y_temp = train_test_split(X_scaled, y, test_size=0.2, random_state=42)\n",
        "X_val, X_test, y_val, y_test = train_test_split(X_temp, y_temp, test_size=0.5, random_state=42)\n",
        "\n",
        "# Apply ADASYN to balance the training set\n",
        "adasyn = ADASYN(random_state=42, sampling_strategy=1.0)\n",
        "X_train_resampled, y_train_resampled = adasyn.fit_resample(X_train, y_train)\n",
        "\n",
        "X_val_bal, y_val_bal = adasyn.fit_resample(X_val, y_val)\n",
        "\n",
        "# Define the model architecture\n",
        "model = Sequential([\n",
        "    Dense(64, activation='relu', input_shape=(25,)),  # Input layer\n",
        "    Dense(64, activation='relu'),  # Hidden layer\n",
        "    Dense(1, activation='sigmoid')  # Output layer (binary classification)\n",
        "])\n",
        "\n",
        "# Compile the model\n",
        "model.compile(optimizer='adam',\n",
        "              loss='binary_crossentropy',\n",
        "              metrics=['accuracy'])\n",
        "'''\n",
        "print(X_train.shape)\n",
        "print(model.input_shape)\n",
        "'''\n",
        "\n",
        "# Train the model\n",
        "history = model.fit(X_train,y_train, epochs=10, batch_size=32, validation_data=(X_val_bal, y_val_bal))\n",
        "\n",
        "# Evaluate the model on the test set\n",
        "loss, accuracy_dnn_adasyn = model.evaluate(X_test, y_test)\n",
        "\n",
        "# Make predictions\n",
        "y_pred = model.predict(X_test)"
      ]
    },
    {
      "cell_type": "code",
      "source": [
        "test_accuracies = {\n",
        "    'Random Forest (ADASYN)': accuracy_rf_adasyn,\n",
        "    'SVM (ADASYN)': accuracy_svm_adasyn,\n",
        "    'Neural Network (ADASYN)': accuracy_dnn_adasyn,\n",
        "}\n",
        "\n",
        "\n",
        "# Plotting the test accuracy for each algorithm\n",
        "\n",
        "plt.figure(figsize=(10, 6))\n",
        "sns.barplot(x=list(test_accuracies.keys()), y=list(test_accuracies.values()), color='teal')\n",
        "plt.xticks(rotation=45, ha='right')\n",
        "plt.title('ADASYN accuracy depicted by RF, SVM, DNN')\n",
        "plt.xlabel('carInsuranceClaim')\n",
        "plt.ylabel('Test Accuracy')\n",
        "plt.tight_layout()\n",
        "plt.show()"
      ],
      "metadata": {
        "colab": {
          "base_uri": "https://localhost:8080/",
          "height": 625
        },
        "id": "Y7AcwP-bIEFT",
        "outputId": "b89aa9de-8e86-45e6-af85-fb90a13810e8"
      },
      "execution_count": null,
      "outputs": [
        {
          "output_type": "display_data",
          "data": {
            "text/plain": [
              "<Figure size 1000x600 with 1 Axes>"
            ],
            "image/png": "[encoded data removed]"
          },
          "metadata": {}
        },
        {
          "output_type": "stream",
          "name": "stdout",
          "text": [
            "time: 310 ms (started: 2024-03-03 20:30:28 +00:00)\n"
          ]
        }
      ]
    },
    {
      "cell_type": "markdown",
      "metadata": {
        "id": "3DlR5l7CgCAE"
      },
      "source": [
        "#RANDOM OVER SAMPLING ALGORITHM (RF, SVM, DNN)"
      ]
    },
    {
      "cell_type": "code",
      "execution_count": null,
      "metadata": {
        "colab": {
          "base_uri": "https://localhost:8080/"
        },
        "id": "xI4q-mfhggrZ",
        "outputId": "6a6fd243-77df-451a-a3c3-8b195b1d4b6f"
      },
      "outputs": [
        {
          "output_type": "stream",
          "name": "stdout",
          "text": [
            "Class distribution after Random Oversampling:\n",
            "0    5669\n",
            "1    5669\n",
            "Name: CLAIM_FLAG, dtype: int64\n",
            "time: 13.3 ms (started: 2024-03-03 20:30:28 +00:00)\n"
          ]
        }
      ],
      "source": [
        "from imblearn.over_sampling import RandomOverSampler\n",
        "import pandas as pd\n",
        "\n",
        "# Assuming 'X' is your feature matrix and 'y' is your target vector\n",
        "ros = RandomOverSampler(random_state=42)\n",
        "X_resampled, y_resampled = ros.fit_resample(X_train, y_train)\n",
        "\n",
        "# Check the class distribution after oversampling\n",
        "print(\"Class distribution after Random Oversampling:\")\n",
        "print(pd.Series(y_resampled).value_counts())"
      ]
    },
    {
      "cell_type": "code",
      "execution_count": null,
      "metadata": {
        "colab": {
          "base_uri": "https://localhost:8080/",
          "height": 211
        },
        "id": "XAIa2U2NiXPr",
        "outputId": "d96386d0-8d62-4d51-be5d-2970256156f9"
      },
      "outputs": [
        {
          "output_type": "stream",
          "name": "stdout",
          "text": [
            "Accuracy: 0.7064315352697096\n"
          ]
        },
        {
          "output_type": "execute_result",
          "data": {
            "text/plain": [
              "                    0           1  accuracy   macro avg  weighted avg\n",
              "precision    0.765766    0.459893  0.706432    0.612829      0.680731\n",
              "recall       0.854885    0.320896  0.706432    0.587890      0.706432\n",
              "f1-score     0.807875    0.378022  0.706432    0.592949      0.688372\n",
              "support    696.000000  268.000000  0.706432  964.000000    964.000000"
            ],
            "text/html": [
              "\n",
              "  <div id=\"df-c7fbb19d-09f6-4043-ab26-088138b6b611\" class=\"colab-df-container\">\n",
              "    <div>\n",
              "<style scoped>\n",
              "    .dataframe tbody tr th:only-of-type {\n",
              "        vertical-align: middle;\n",
              "    }\n",
              "\n",
              "    .dataframe tbody tr th {\n",
              "        vertical-align: top;\n",
              "    }\n",
              "\n",
              "    .dataframe thead th {\n",
              "        text-align: right;\n",
              "    }\n",
              "</style>\n",
              "<table border=\"1\" class=\"dataframe\">\n",
              "  <thead>\n",
              "    <tr style=\"text-align: right;\">\n",
              "      <th></th>\n",
              "      <th>0</th>\n",
              "      <th>1</th>\n",
              "      <th>accuracy</th>\n",
              "      <th>macro avg</th>\n",
              "      <th>weighted avg</th>\n",
              "    </tr>\n",
              "  </thead>\n",
              "  <tbody>\n",
              "    <tr>\n",
              "      <th>precision</th>\n",
              "      <td>0.765766</td>\n",
              "      <td>0.459893</td>\n",
              "      <td>0.706432</td>\n",
              "      <td>0.612829</td>\n",
              "      <td>0.680731</td>\n",
              "    </tr>\n",
              "    <tr>\n",
              "      <th>recall</th>\n",
              "      <td>0.854885</td>\n",
              "      <td>0.320896</td>\n",
              "      <td>0.706432</td>\n",
              "      <td>0.587890</td>\n",
              "      <td>0.706432</td>\n",
              "    </tr>\n",
              "    <tr>\n",
              "      <th>f1-score</th>\n",
              "      <td>0.807875</td>\n",
              "      <td>0.378022</td>\n",
              "      <td>0.706432</td>\n",
              "      <td>0.592949</td>\n",
              "      <td>0.688372</td>\n",
              "    </tr>\n",
              "    <tr>\n",
              "      <th>support</th>\n",
              "      <td>696.000000</td>\n",
              "      <td>268.000000</td>\n",
              "      <td>0.706432</td>\n",
              "      <td>964.000000</td>\n",
              "      <td>964.000000</td>\n",
              "    </tr>\n",
              "  </tbody>\n",
              "</table>\n",
              "</div>\n",
              "    <div class=\"colab-df-buttons\">\n",
              "\n",
              "  <div class=\"colab-df-container\">\n",
              "    <button class=\"colab-df-convert\" onclick=\"convertToInteractive('df-c7fbb19d-09f6-4043-ab26-088138b6b611')\"\n",
              "            title=\"Convert this dataframe to an interactive table.\"\n",
              "            style=\"display:none;\">\n",
              "\n",
              "  <svg xmlns=\"http://www.w3.org/2000/svg\" height=\"24px\" viewBox=\"0 -960 960 960\">\n",
              "    <path d=\"M120-120v-720h720v720H120Zm60-500h600v-160H180v160Zm220 220h160v-160H400v160Zm0 220h160v-160H400v160ZM180-400h160v-160H180v160Zm440 0h160v-160H620v160ZM180-180h160v-160H180v160Zm440 0h160v-160H620v160Z\"/>\n",
              "  </svg>\n",
              "    </button>\n",
              "\n",
              "  <style>\n",
              "    .colab-df-container {\n",
              "      display:flex;\n",
              "      gap: 12px;\n",
              "    }\n",
              "\n",
              "    .colab-df-convert {\n",
              "      background-color: #E8F0FE;\n",
              "      border: none;\n",
              "      border-radius: 50%;\n",
              "      cursor: pointer;\n",
              "      display: none;\n",
              "      fill: #1967D2;\n",
              "      height: 32px;\n",
              "      padding: 0 0 0 0;\n",
              "      width: 32px;\n",
              "    }\n",
              "\n",
              "    .colab-df-convert:hover {\n",
              "      background-color: #E2EBFA;\n",
              "      box-shadow: 0px 1px 2px rgba(60, 64, 67, 0.3), 0px 1px 3px 1px rgba(60, 64, 67, 0.15);\n",
              "      fill: #174EA6;\n",
              "    }\n",
              "\n",
              "    .colab-df-buttons div {\n",
              "      margin-bottom: 4px;\n",
              "    }\n",
              "\n",
              "    [theme=dark] .colab-df-convert {\n",
              "      background-color: #3B4455;\n",
              "      fill: #D2E3FC;\n",
              "    }\n",
              "\n",
              "    [theme=dark] .colab-df-convert:hover {\n",
              "      background-color: #434B5C;\n",
              "      box-shadow: 0px 1px 3px 1px rgba(0, 0, 0, 0.15);\n",
              "      filter: drop-shadow(0px 1px 2px rgba(0, 0, 0, 0.3));\n",
              "      fill: #FFFFFF;\n",
              "    }\n",
              "  </style>\n",
              "\n",
              "    <script>\n",
              "      const buttonEl =\n",
              "        document.querySelector('#df-c7fbb19d-09f6-4043-ab26-088138b6b611 button.colab-df-convert');\n",
              "      buttonEl.style.display =\n",
              "        google.colab.kernel.accessAllowed ? 'block' : 'none';\n",
              "\n",
              "      async function convertToInteractive(key) {\n",
              "        const element = document.querySelector('#df-c7fbb19d-09f6-4043-ab26-088138b6b611');\n",
              "        const dataTable =\n",
              "          await google.colab.kernel.invokeFunction('convertToInteractive',\n",
              "                                                    [key], {});\n",
              "        if (!dataTable) return;\n",
              "\n",
              "        const docLinkHtml = 'Like what you see? Visit the ' +\n",
              "          '<a target=\"_blank\" href=https://colab.research.google.com/notebooks/data_table.ipynb>data table notebook</a>'\n",
              "          + ' to learn more about interactive tables.';\n",
              "        element.innerHTML = '';\n",
              "        dataTable['output_type'] = 'display_data';\n",
              "        await google.colab.output.renderOutput(dataTable, element);\n",
              "        const docLink = document.createElement('div');\n",
              "        docLink.innerHTML = docLinkHtml;\n",
              "        element.appendChild(docLink);\n",
              "      }\n",
              "    </script>\n",
              "  </div>\n",
              "\n",
              "\n",
              "<div id=\"df-e76cd8e7-1604-46bb-b16e-17ba746ea203\">\n",
              "  <button class=\"colab-df-quickchart\" onclick=\"quickchart('df-e76cd8e7-1604-46bb-b16e-17ba746ea203')\"\n",
              "            title=\"Suggest charts\"\n",
              "            style=\"display:none;\">\n",
              "\n",
              "<svg xmlns=\"http://www.w3.org/2000/svg\" height=\"24px\"viewBox=\"0 0 24 24\"\n",
              "     width=\"24px\">\n",
              "    <g>\n",
              "        <path d=\"M19 3H5c-1.1 0-2 .9-2 2v14c0 1.1.9 2 2 2h14c1.1 0 2-.9 2-2V5c0-1.1-.9-2-2-2zM9 17H7v-7h2v7zm4 0h-2V7h2v10zm4 0h-2v-4h2v4z\"/>\n",
              "    </g>\n",
              "</svg>\n",
              "  </button>\n",
              "\n",
              "<style>\n",
              "  .colab-df-quickchart {\n",
              "      --bg-color: #E8F0FE;\n",
              "      --fill-color: #1967D2;\n",
              "      --hover-bg-color: #E2EBFA;\n",
              "      --hover-fill-color: #174EA6;\n",
              "      --disabled-fill-color: #AAA;\n",
              "      --disabled-bg-color: #DDD;\n",
              "  }\n",
              "\n",
              "  [theme=dark] .colab-df-quickchart {\n",
              "      --bg-color: #3B4455;\n",
              "      --fill-color: #D2E3FC;\n",
              "      --hover-bg-color: #434B5C;\n",
              "      --hover-fill-color: #FFFFFF;\n",
              "      --disabled-bg-color: #3B4455;\n",
              "      --disabled-fill-color: #666;\n",
              "  }\n",
              "\n",
              "  .colab-df-quickchart {\n",
              "    background-color: var(--bg-color);\n",
              "    border: none;\n",
              "    border-radius: 50%;\n",
              "    cursor: pointer;\n",
              "    display: none;\n",
              "    fill: var(--fill-color);\n",
              "    height: 32px;\n",
              "    padding: 0;\n",
              "    width: 32px;\n",
              "  }\n",
              "\n",
              "  .colab-df-quickchart:hover {\n",
              "    background-color: var(--hover-bg-color);\n",
              "    box-shadow: 0 1px 2px rgba(60, 64, 67, 0.3), 0 1px 3px 1px rgba(60, 64, 67, 0.15);\n",
              "    fill: var(--button-hover-fill-color);\n",
              "  }\n",
              "\n",
              "  .colab-df-quickchart-complete:disabled,\n",
              "  .colab-df-quickchart-complete:disabled:hover {\n",
              "    background-color: var(--disabled-bg-color);\n",
              "    fill: var(--disabled-fill-color);\n",
              "    box-shadow: none;\n",
              "  }\n",
              "\n",
              "  .colab-df-spinner {\n",
              "    border: 2px solid var(--fill-color);\n",
              "    border-color: transparent;\n",
              "    border-bottom-color: var(--fill-color);\n",
              "    animation:\n",
              "      spin 1s steps(1) infinite;\n",
              "  }\n",
              "\n",
              "  @keyframes spin {\n",
              "    0% {\n",
              "      border-color: transparent;\n",
              "      border-bottom-color: var(--fill-color);\n",
              "      border-left-color: var(--fill-color);\n",
              "    }\n",
              "    20% {\n",
              "      border-color: transparent;\n",
              "      border-left-color: var(--fill-color);\n",
              "      border-top-color: var(--fill-color);\n",
              "    }\n",
              "    30% {\n",
              "      border-color: transparent;\n",
              "      border-left-color: var(--fill-color);\n",
              "      border-top-color: var(--fill-color);\n",
              "      border-right-color: var(--fill-color);\n",
              "    }\n",
              "    40% {\n",
              "      border-color: transparent;\n",
              "      border-right-color: var(--fill-color);\n",
              "      border-top-color: var(--fill-color);\n",
              "    }\n",
              "    60% {\n",
              "      border-color: transparent;\n",
              "      border-right-color: var(--fill-color);\n",
              "    }\n",
              "    80% {\n",
              "      border-color: transparent;\n",
              "      border-right-color: var(--fill-color);\n",
              "      border-bottom-color: var(--fill-color);\n",
              "    }\n",
              "    90% {\n",
              "      border-color: transparent;\n",
              "      border-bottom-color: var(--fill-color);\n",
              "    }\n",
              "  }\n",
              "</style>\n",
              "\n",
              "  <script>\n",
              "    async function quickchart(key) {\n",
              "      const quickchartButtonEl =\n",
              "        document.querySelector('#' + key + ' button');\n",
              "      quickchartButtonEl.disabled = true;  // To prevent multiple clicks.\n",
              "      quickchartButtonEl.classList.add('colab-df-spinner');\n",
              "      try {\n",
              "        const charts = await google.colab.kernel.invokeFunction(\n",
              "            'suggestCharts', [key], {});\n",
              "      } catch (error) {\n",
              "        console.error('Error during call to suggestCharts:', error);\n",
              "      }\n",
              "      quickchartButtonEl.classList.remove('colab-df-spinner');\n",
              "      quickchartButtonEl.classList.add('colab-df-quickchart-complete');\n",
              "    }\n",
              "    (() => {\n",
              "      let quickchartButtonEl =\n",
              "        document.querySelector('#df-e76cd8e7-1604-46bb-b16e-17ba746ea203 button');\n",
              "      quickchartButtonEl.style.display =\n",
              "        google.colab.kernel.accessAllowed ? 'block' : 'none';\n",
              "    })();\n",
              "  </script>\n",
              "</div>\n",
              "\n",
              "    </div>\n",
              "  </div>\n"
            ],
            "application/vnd.google.colaboratory.intrinsic+json": {
              "type": "dataframe",
              "summary": "{\n  \"name\": \"pd\",\n  \"rows\": 4,\n  \"fields\": [\n    {\n      \"column\": \"0\",\n      \"properties\": {\n        \"dtype\": \"number\",\n        \"std\": 347.59524758799694,\n        \"min\": 0.7657657657657657,\n        \"max\": 696.0,\n        \"num_unique_values\": 4,\n        \"samples\": [\n          0.8548850574712644,\n          696.0,\n          0.7657657657657657\n        ],\n        \"semantic_type\": \"\",\n        \"description\": \"\"\n      }\n    },\n    {\n      \"column\": \"1\",\n      \"properties\": {\n        \"dtype\": \"number\",\n        \"std\": 133.8068770681486,\n        \"min\": 0.3208955223880597,\n        \"max\": 268.0,\n        \"num_unique_values\": 4,\n        \"samples\": [\n          0.3208955223880597,\n          268.0,\n          0.45989304812834225\n        ],\n        \"semantic_type\": \"\",\n        \"description\": \"\"\n      }\n    },\n    {\n      \"column\": \"accuracy\",\n      \"properties\": {\n        \"dtype\": \"number\",\n        \"std\": 0.0,\n        \"min\": 0.7064315352697096,\n        \"max\": 0.7064315352697096,\n        \"num_unique_values\": 1,\n        \"samples\": [\n          0.7064315352697096\n        ],\n        \"semantic_type\": \"\",\n        \"description\": \"\"\n      }\n    },\n    {\n      \"column\": \"macro avg\",\n      \"properties\": {\n        \"dtype\": \"number\",\n        \"std\": 481.7010554155479,\n        \"min\": 0.5878902899296621,\n        \"max\": 964.0,\n        \"num_unique_values\": 4,\n        \"samples\": [\n          0.5878902899296621\n        ],\n        \"semantic_type\": \"\",\n        \"description\": \"\"\n      }\n    },\n    {\n      \"column\": \"weighted avg\",\n      \"properties\": {\n        \"dtype\": \"number\",\n        \"std\": 481.6540777036943,\n        \"min\": 0.68073061189976,\n        \"max\": 964.0,\n        \"num_unique_values\": 4,\n        \"samples\": [\n          0.7064315352697096\n        ],\n        \"semantic_type\": \"\",\n        \"description\": \"\"\n      }\n    }\n  ]\n}"
            }
          },
          "metadata": {},
          "execution_count": 156
        },
        {
          "output_type": "stream",
          "name": "stdout",
          "text": [
            "time: 1.56 s (started: 2024-03-03 20:30:28 +00:00)\n"
          ]
        }
      ],
      "source": [
        "# Training the classifier\n",
        "clf_balanced = RandomForestClassifier(random_state=42)\n",
        "clf_balanced.fit(X_resampled, y_resampled)\n",
        "\n",
        "# Predictions\n",
        "y_pred = clf_balanced.predict(X_test)\n",
        "\n",
        "# Step 4: Record precision and recall\n",
        "precision_recall = classification_report(y_test, y_pred, output_dict=True)\n",
        "\n",
        "accuracy_rf_rof = accuracy_score(y_test, y_pred)\n",
        "print(\"Accuracy:\", accuracy_rf_rof)\n",
        "\n",
        "pd.DataFrame(precision_recall)"
      ]
    },
    {
      "cell_type": "code",
      "execution_count": null,
      "metadata": {
        "colab": {
          "base_uri": "https://localhost:8080/"
        },
        "id": "2bpi-75sikNq",
        "outputId": "b524810d-9c3d-45b2-c6e7-969ebc140417"
      },
      "outputs": [
        {
          "output_type": "stream",
          "name": "stdout",
          "text": [
            "Accuracy: 0.6597510373443983\n",
            "\n",
            "Classification Report:\n",
            "               precision    recall  f1-score   support\n",
            "\n",
            "           0       0.83      0.67      0.74       696\n",
            "           1       0.43      0.64      0.51       268\n",
            "\n",
            "    accuracy                           0.66       964\n",
            "   macro avg       0.63      0.65      0.63       964\n",
            "weighted avg       0.72      0.66      0.68       964\n",
            "\n",
            "time: 2.03 s (started: 2024-03-03 20:30:30 +00:00)\n"
          ]
        },
        {
          "output_type": "stream",
          "name": "stderr",
          "text": [
            "/usr/local/lib/python3.10/dist-packages/sklearn/svm/_base.py:1244: ConvergenceWarning: Liblinear failed to converge, increase the number of iterations.\n",
            "  warnings.warn(\n"
          ]
        }
      ],
      "source": [
        "# Initialize the SVM classifier\n",
        "svm_classifier = LinearSVC(random_state=42)\n",
        "\n",
        "# Train the SVM classifier\n",
        "svm_classifier.fit(X_resampled, y_resampled)\n",
        "\n",
        "# Make predictions on the testing set\n",
        "y_pred = svm_classifier.predict(X_test)\n",
        "\n",
        "# Evaluate the model's performance\n",
        "accuracy_svm_rof = accuracy_score(y_test, y_pred)\n",
        "report = classification_report(y_test, y_pred)\n",
        "\n",
        "print(\"Accuracy:\", accuracy_svm_rof)\n",
        "print(\"\\nClassification Report:\\n\", report)"
      ]
    },
    {
      "cell_type": "code",
      "execution_count": null,
      "metadata": {
        "colab": {
          "base_uri": "https://localhost:8080/"
        },
        "id": "xKg7BJlMjJDy",
        "outputId": "c8fb1cb5-22d2-4f6c-c752-67404fad5696"
      },
      "outputs": [
        {
          "output_type": "stream",
          "name": "stdout",
          "text": [
            "Epoch 1/10\n",
            "241/241 [==============================] - 1s 3ms/step - loss: 0.5436 - accuracy: 0.7360 - val_loss: 0.6787 - val_accuracy: 0.6029\n",
            "Epoch 2/10\n",
            "241/241 [==============================] - 1s 2ms/step - loss: 0.5090 - accuracy: 0.7591 - val_loss: 0.6830 - val_accuracy: 0.6050\n",
            "Epoch 3/10\n",
            "241/241 [==============================] - 1s 2ms/step - loss: 0.5029 - accuracy: 0.7630 - val_loss: 0.6864 - val_accuracy: 0.6071\n",
            "Epoch 4/10\n",
            "241/241 [==============================] - 1s 2ms/step - loss: 0.4987 - accuracy: 0.7659 - val_loss: 0.6711 - val_accuracy: 0.5993\n",
            "Epoch 5/10\n",
            "241/241 [==============================] - 0s 2ms/step - loss: 0.4939 - accuracy: 0.7668 - val_loss: 0.6889 - val_accuracy: 0.5971\n",
            "Epoch 6/10\n",
            "241/241 [==============================] - 1s 2ms/step - loss: 0.4913 - accuracy: 0.7694 - val_loss: 0.6634 - val_accuracy: 0.6214\n",
            "Epoch 7/10\n",
            "241/241 [==============================] - 1s 2ms/step - loss: 0.4887 - accuracy: 0.7677 - val_loss: 0.6747 - val_accuracy: 0.6121\n",
            "Epoch 8/10\n",
            "241/241 [==============================] - 1s 2ms/step - loss: 0.4847 - accuracy: 0.7718 - val_loss: 0.6330 - val_accuracy: 0.6486\n",
            "Epoch 9/10\n",
            "241/241 [==============================] - 1s 3ms/step - loss: 0.4821 - accuracy: 0.7734 - val_loss: 0.6997 - val_accuracy: 0.5986\n",
            "Epoch 10/10\n",
            "241/241 [==============================] - 1s 3ms/step - loss: 0.4789 - accuracy: 0.7747 - val_loss: 0.6992 - val_accuracy: 0.6079\n",
            "31/31 [==============================] - 0s 3ms/step - loss: 0.5579 - accuracy: 0.7282\n",
            "31/31 [==============================] - 0s 2ms/step\n",
            "time: 7.17 s (started: 2024-03-03 20:30:32 +00:00)\n"
          ]
        }
      ],
      "source": [
        "#Splitting data into: features (X) and target (y)\n",
        "X = data_encoded.drop(columns=['CLAIM_FLAG'], axis=1)\n",
        "y = data_encoded['CLAIM_FLAG']\n",
        "\n",
        "#Standardizing/Normalizing features\n",
        "scler = StandardScaler() #method for standardizing features by removing the mean and scaling to unit variance.\n",
        "X_scaled = scler.fit_transform(X) #standardize the features in the X df, fits the scler to the data (calculates mean and SD), then transforms the data using the calculated mean and standard deviation to achieve standardization\n",
        "\n",
        "\n",
        "#Split the data into training, validation, and test sets\n",
        "X_train, X_temp, y_train, y_temp = train_test_split(X_scaled, y, test_size=0.2, random_state=42)\n",
        "X_val, X_test, y_val, y_test = train_test_split(X_temp, y_temp, test_size=0.5, random_state=42)\n",
        "\n",
        "# Apply ros to balance the training set\n",
        "ros = RandomOverSampler(random_state=42)\n",
        "X_resampled, y_resampled = ros.fit_resample(X_train, y_train)\n",
        "\n",
        "X_val_bal, y_val_bal = ros.fit_resample(X_val, y_val)\n",
        "\n",
        "# Define the model architecture\n",
        "model = Sequential([\n",
        "    Dense(64, activation='relu', input_shape=(25,)),  # Input layer\n",
        "    Dense(64, activation='relu'),  # Hidden layer\n",
        "    Dense(1, activation='sigmoid')  # Output layer (binary classification)\n",
        "])\n",
        "\n",
        "# Compile the model\n",
        "model.compile(optimizer='adam',\n",
        "              loss='binary_crossentropy',\n",
        "              metrics=['accuracy'])\n",
        "'''\n",
        "print(X_train.shape)\n",
        "print(model.input_shape)\n",
        "'''\n",
        "\n",
        "# Train the model\n",
        "history = model.fit(X_train,y_train, epochs=10, batch_size=32, validation_data=(X_val_bal, y_val_bal))\n",
        "\n",
        "# Evaluate the model on the test set\n",
        "loss, accuracy_dnn_rof = model.evaluate(X_test, y_test)\n",
        "\n",
        "# Make predictions\n",
        "y_pred = model.predict(X_test)"
      ]
    },
    {
      "cell_type": "code",
      "source": [
        "test_accuracies = {\n",
        "    'Random Forest (ROF)': accuracy_rf_rof,\n",
        "    'SVM (ROF)': accuracy_svm_rof,\n",
        "    'Neural Network (ROF)': accuracy_dnn_rof,\n",
        "}\n",
        "\n",
        "\n",
        "# Plotting the test accuracy for each algorithm\n",
        "\n",
        "plt.figure(figsize=(10, 6))\n",
        "sns.barplot(x=list(test_accuracies.keys()), y=list(test_accuracies.values()), color = 'violet')\n",
        "plt.xticks(rotation=45, ha='right')\n",
        "plt.title('ROF accuracy depicted by RF, SVM, DNN')\n",
        "plt.xlabel('carInsuranceClaim')\n",
        "plt.ylabel('Test Accuracy')\n",
        "plt.tight_layout()\n",
        "plt.show()"
      ],
      "metadata": {
        "colab": {
          "base_uri": "https://localhost:8080/",
          "height": 625
        },
        "id": "-wPheZPaJr_z",
        "outputId": "08d0c55d-7ff9-45d0-9f8b-732abaeec035"
      },
      "execution_count": null,
      "outputs": [
        {
          "output_type": "display_data",
          "data": {
            "text/plain": [
              "<Figure size 1000x600 with 1 Axes>"
            ],
            "image/png": "[encoded data removed]"
          },
          "metadata": {}
        },
        {
          "output_type": "stream",
          "name": "stdout",
          "text": [
            "time: 484 ms (started: 2024-03-03 20:30:39 +00:00)\n"
          ]
        }
      ]
    },
    {
      "cell_type": "markdown",
      "metadata": {
        "id": "vdq8VRcEkBBN"
      },
      "source": [
        "#RANDOM UNDER SAMPLING ALGORITHM (RF, SVM, DNN)"
      ]
    },
    {
      "cell_type": "code",
      "execution_count": null,
      "metadata": {
        "colab": {
          "base_uri": "https://localhost:8080/"
        },
        "id": "E4oWHFJfkioO",
        "outputId": "6dd55c64-006f-4e0c-85e6-8fc9616803ff"
      },
      "outputs": [
        {
          "output_type": "stream",
          "name": "stdout",
          "text": [
            "Class distribution after Random Oversampling:\n",
            "0    2040\n",
            "1    2040\n",
            "Name: CLAIM_FLAG, dtype: int64\n",
            "time: 10.1 ms (started: 2024-03-03 20:30:39 +00:00)\n"
          ]
        }
      ],
      "source": [
        "from imblearn.under_sampling import RandomUnderSampler\n",
        "import pandas as pd\n",
        "\n",
        "# Assuming 'X' is your feature matrix and 'y' is your target vector\n",
        "rus = RandomUnderSampler(random_state=42)\n",
        "X_resampled, y_resampled = rus.fit_resample(X_train, y_train)\n",
        "\n",
        "# Check the class distribution after oversampling\n",
        "print(\"Class distribution after Random Oversampling:\")\n",
        "print(pd.Series(y_resampled).value_counts())"
      ]
    },
    {
      "cell_type": "code",
      "execution_count": null,
      "metadata": {
        "colab": {
          "base_uri": "https://localhost:8080/",
          "height": 211
        },
        "id": "bIyacLZPlYhr",
        "outputId": "b4a4a058-519a-4342-a09b-ad4c31b0d17b"
      },
      "outputs": [
        {
          "output_type": "stream",
          "name": "stdout",
          "text": [
            "Accuracy: 0.6504149377593361\n"
          ]
        },
        {
          "output_type": "execute_result",
          "data": {
            "text/plain": [
              "                    0           1  accuracy   macro avg  weighted avg\n",
              "precision    0.819964    0.414392  0.650415    0.617178      0.707212\n",
              "recall       0.660920    0.623134  0.650415    0.642027      0.650415\n",
              "f1-score     0.731901    0.497765  0.650415    0.614833      0.666809\n",
              "support    696.000000  268.000000  0.650415  964.000000    964.000000"
            ],
            "text/html": [
              "\n",
              "  <div id=\"df-87dbed91-6909-4c76-8f47-d2747977d59f\" class=\"colab-df-container\">\n",
              "    <div>\n",
              "<style scoped>\n",
              "    .dataframe tbody tr th:only-of-type {\n",
              "        vertical-align: middle;\n",
              "    }\n",
              "\n",
              "    .dataframe tbody tr th {\n",
              "        vertical-align: top;\n",
              "    }\n",
              "\n",
              "    .dataframe thead th {\n",
              "        text-align: right;\n",
              "    }\n",
              "</style>\n",
              "<table border=\"1\" class=\"dataframe\">\n",
              "  <thead>\n",
              "    <tr style=\"text-align: right;\">\n",
              "      <th></th>\n",
              "      <th>0</th>\n",
              "      <th>1</th>\n",
              "      <th>accuracy</th>\n",
              "      <th>macro avg</th>\n",
              "      <th>weighted avg</th>\n",
              "    </tr>\n",
              "  </thead>\n",
              "  <tbody>\n",
              "    <tr>\n",
              "      <th>precision</th>\n",
              "      <td>0.819964</td>\n",
              "      <td>0.414392</td>\n",
              "      <td>0.650415</td>\n",
              "      <td>0.617178</td>\n",
              "      <td>0.707212</td>\n",
              "    </tr>\n",
              "    <tr>\n",
              "      <th>recall</th>\n",
              "      <td>0.660920</td>\n",
              "      <td>0.623134</td>\n",
              "      <td>0.650415</td>\n",
              "      <td>0.642027</td>\n",
              "      <td>0.650415</td>\n",
              "    </tr>\n",
              "    <tr>\n",
              "      <th>f1-score</th>\n",
              "      <td>0.731901</td>\n",
              "      <td>0.497765</td>\n",
              "      <td>0.650415</td>\n",
              "      <td>0.614833</td>\n",
              "      <td>0.666809</td>\n",
              "    </tr>\n",
              "    <tr>\n",
              "      <th>support</th>\n",
              "      <td>696.000000</td>\n",
              "      <td>268.000000</td>\n",
              "      <td>0.650415</td>\n",
              "      <td>964.000000</td>\n",
              "      <td>964.000000</td>\n",
              "    </tr>\n",
              "  </tbody>\n",
              "</table>\n",
              "</div>\n",
              "    <div class=\"colab-df-buttons\">\n",
              "\n",
              "  <div class=\"colab-df-container\">\n",
              "    <button class=\"colab-df-convert\" onclick=\"convertToInteractive('df-87dbed91-6909-4c76-8f47-d2747977d59f')\"\n",
              "            title=\"Convert this dataframe to an interactive table.\"\n",
              "            style=\"display:none;\">\n",
              "\n",
              "  <svg xmlns=\"http://www.w3.org/2000/svg\" height=\"24px\" viewBox=\"0 -960 960 960\">\n",
              "    <path d=\"M120-120v-720h720v720H120Zm60-500h600v-160H180v160Zm220 220h160v-160H400v160Zm0 220h160v-160H400v160ZM180-400h160v-160H180v160Zm440 0h160v-160H620v160ZM180-180h160v-160H180v160Zm440 0h160v-160H620v160Z\"/>\n",
              "  </svg>\n",
              "    </button>\n",
              "\n",
              "  <style>\n",
              "    .colab-df-container {\n",
              "      display:flex;\n",
              "      gap: 12px;\n",
              "    }\n",
              "\n",
              "    .colab-df-convert {\n",
              "      background-color: #E8F0FE;\n",
              "      border: none;\n",
              "      border-radius: 50%;\n",
              "      cursor: pointer;\n",
              "      display: none;\n",
              "      fill: #1967D2;\n",
              "      height: 32px;\n",
              "      padding: 0 0 0 0;\n",
              "      width: 32px;\n",
              "    }\n",
              "\n",
              "    .colab-df-convert:hover {\n",
              "      background-color: #E2EBFA;\n",
              "      box-shadow: 0px 1px 2px rgba(60, 64, 67, 0.3), 0px 1px 3px 1px rgba(60, 64, 67, 0.15);\n",
              "      fill: #174EA6;\n",
              "    }\n",
              "\n",
              "    .colab-df-buttons div {\n",
              "      margin-bottom: 4px;\n",
              "    }\n",
              "\n",
              "    [theme=dark] .colab-df-convert {\n",
              "      background-color: #3B4455;\n",
              "      fill: #D2E3FC;\n",
              "    }\n",
              "\n",
              "    [theme=dark] .colab-df-convert:hover {\n",
              "      background-color: #434B5C;\n",
              "      box-shadow: 0px 1px 3px 1px rgba(0, 0, 0, 0.15);\n",
              "      filter: drop-shadow(0px 1px 2px rgba(0, 0, 0, 0.3));\n",
              "      fill: #FFFFFF;\n",
              "    }\n",
              "  </style>\n",
              "\n",
              "    <script>\n",
              "      const buttonEl =\n",
              "        document.querySelector('#df-87dbed91-6909-4c76-8f47-d2747977d59f button.colab-df-convert');\n",
              "      buttonEl.style.display =\n",
              "        google.colab.kernel.accessAllowed ? 'block' : 'none';\n",
              "\n",
              "      async function convertToInteractive(key) {\n",
              "        const element = document.querySelector('#df-87dbed91-6909-4c76-8f47-d2747977d59f');\n",
              "        const dataTable =\n",
              "          await google.colab.kernel.invokeFunction('convertToInteractive',\n",
              "                                                    [key], {});\n",
              "        if (!dataTable) return;\n",
              "\n",
              "        const docLinkHtml = 'Like what you see? Visit the ' +\n",
              "          '<a target=\"_blank\" href=https://colab.research.google.com/notebooks/data_table.ipynb>data table notebook</a>'\n",
              "          + ' to learn more about interactive tables.';\n",
              "        element.innerHTML = '';\n",
              "        dataTable['output_type'] = 'display_data';\n",
              "        await google.colab.output.renderOutput(dataTable, element);\n",
              "        const docLink = document.createElement('div');\n",
              "        docLink.innerHTML = docLinkHtml;\n",
              "        element.appendChild(docLink);\n",
              "      }\n",
              "    </script>\n",
              "  </div>\n",
              "\n",
              "\n",
              "<div id=\"df-47f65ec2-d056-4c7b-a97d-465c12fd367b\">\n",
              "  <button class=\"colab-df-quickchart\" onclick=\"quickchart('df-47f65ec2-d056-4c7b-a97d-465c12fd367b')\"\n",
              "            title=\"Suggest charts\"\n",
              "            style=\"display:none;\">\n",
              "\n",
              "<svg xmlns=\"http://www.w3.org/2000/svg\" height=\"24px\"viewBox=\"0 0 24 24\"\n",
              "     width=\"24px\">\n",
              "    <g>\n",
              "        <path d=\"M19 3H5c-1.1 0-2 .9-2 2v14c0 1.1.9 2 2 2h14c1.1 0 2-.9 2-2V5c0-1.1-.9-2-2-2zM9 17H7v-7h2v7zm4 0h-2V7h2v10zm4 0h-2v-4h2v4z\"/>\n",
              "    </g>\n",
              "</svg>\n",
              "  </button>\n",
              "\n",
              "<style>\n",
              "  .colab-df-quickchart {\n",
              "      --bg-color: #E8F0FE;\n",
              "      --fill-color: #1967D2;\n",
              "      --hover-bg-color: #E2EBFA;\n",
              "      --hover-fill-color: #174EA6;\n",
              "      --disabled-fill-color: #AAA;\n",
              "      --disabled-bg-color: #DDD;\n",
              "  }\n",
              "\n",
              "  [theme=dark] .colab-df-quickchart {\n",
              "      --bg-color: #3B4455;\n",
              "      --fill-color: #D2E3FC;\n",
              "      --hover-bg-color: #434B5C;\n",
              "      --hover-fill-color: #FFFFFF;\n",
              "      --disabled-bg-color: #3B4455;\n",
              "      --disabled-fill-color: #666;\n",
              "  }\n",
              "\n",
              "  .colab-df-quickchart {\n",
              "    background-color: var(--bg-color);\n",
              "    border: none;\n",
              "    border-radius: 50%;\n",
              "    cursor: pointer;\n",
              "    display: none;\n",
              "    fill: var(--fill-color);\n",
              "    height: 32px;\n",
              "    padding: 0;\n",
              "    width: 32px;\n",
              "  }\n",
              "\n",
              "  .colab-df-quickchart:hover {\n",
              "    background-color: var(--hover-bg-color);\n",
              "    box-shadow: 0 1px 2px rgba(60, 64, 67, 0.3), 0 1px 3px 1px rgba(60, 64, 67, 0.15);\n",
              "    fill: var(--button-hover-fill-color);\n",
              "  }\n",
              "\n",
              "  .colab-df-quickchart-complete:disabled,\n",
              "  .colab-df-quickchart-complete:disabled:hover {\n",
              "    background-color: var(--disabled-bg-color);\n",
              "    fill: var(--disabled-fill-color);\n",
              "    box-shadow: none;\n",
              "  }\n",
              "\n",
              "  .colab-df-spinner {\n",
              "    border: 2px solid var(--fill-color);\n",
              "    border-color: transparent;\n",
              "    border-bottom-color: var(--fill-color);\n",
              "    animation:\n",
              "      spin 1s steps(1) infinite;\n",
              "  }\n",
              "\n",
              "  @keyframes spin {\n",
              "    0% {\n",
              "      border-color: transparent;\n",
              "      border-bottom-color: var(--fill-color);\n",
              "      border-left-color: var(--fill-color);\n",
              "    }\n",
              "    20% {\n",
              "      border-color: transparent;\n",
              "      border-left-color: var(--fill-color);\n",
              "      border-top-color: var(--fill-color);\n",
              "    }\n",
              "    30% {\n",
              "      border-color: transparent;\n",
              "      border-left-color: var(--fill-color);\n",
              "      border-top-color: var(--fill-color);\n",
              "      border-right-color: var(--fill-color);\n",
              "    }\n",
              "    40% {\n",
              "      border-color: transparent;\n",
              "      border-right-color: var(--fill-color);\n",
              "      border-top-color: var(--fill-color);\n",
              "    }\n",
              "    60% {\n",
              "      border-color: transparent;\n",
              "      border-right-color: var(--fill-color);\n",
              "    }\n",
              "    80% {\n",
              "      border-color: transparent;\n",
              "      border-right-color: var(--fill-color);\n",
              "      border-bottom-color: var(--fill-color);\n",
              "    }\n",
              "    90% {\n",
              "      border-color: transparent;\n",
              "      border-bottom-color: var(--fill-color);\n",
              "    }\n",
              "  }\n",
              "</style>\n",
              "\n",
              "  <script>\n",
              "    async function quickchart(key) {\n",
              "      const quickchartButtonEl =\n",
              "        document.querySelector('#' + key + ' button');\n",
              "      quickchartButtonEl.disabled = true;  // To prevent multiple clicks.\n",
              "      quickchartButtonEl.classList.add('colab-df-spinner');\n",
              "      try {\n",
              "        const charts = await google.colab.kernel.invokeFunction(\n",
              "            'suggestCharts', [key], {});\n",
              "      } catch (error) {\n",
              "        console.error('Error during call to suggestCharts:', error);\n",
              "      }\n",
              "      quickchartButtonEl.classList.remove('colab-df-spinner');\n",
              "      quickchartButtonEl.classList.add('colab-df-quickchart-complete');\n",
              "    }\n",
              "    (() => {\n",
              "      let quickchartButtonEl =\n",
              "        document.querySelector('#df-47f65ec2-d056-4c7b-a97d-465c12fd367b button');\n",
              "      quickchartButtonEl.style.display =\n",
              "        google.colab.kernel.accessAllowed ? 'block' : 'none';\n",
              "    })();\n",
              "  </script>\n",
              "</div>\n",
              "\n",
              "    </div>\n",
              "  </div>\n"
            ],
            "application/vnd.google.colaboratory.intrinsic+json": {
              "type": "dataframe",
              "summary": "{\n  \"name\": \"pd\",\n  \"rows\": 4,\n  \"fields\": [\n    {\n      \"column\": \"0\",\n      \"properties\": {\n        \"dtype\": \"number\",\n        \"std\": 347.6312085466932,\n        \"min\": 0.6609195402298851,\n        \"max\": 696.0,\n        \"num_unique_values\": 4,\n        \"samples\": [\n          0.6609195402298851,\n          696.0,\n          0.8199643493761141\n        ],\n        \"semantic_type\": \"\",\n        \"description\": \"\"\n      }\n    },\n    {\n      \"column\": \"1\",\n      \"properties\": {\n        \"dtype\": \"number\",\n        \"std\": 133.74414569626708,\n        \"min\": 0.4143920595533499,\n        \"max\": 268.0,\n        \"num_unique_values\": 4,\n        \"samples\": [\n          0.6231343283582089,\n          268.0,\n          0.4143920595533499\n        ],\n        \"semantic_type\": \"\",\n        \"description\": \"\"\n      }\n    },\n    {\n      \"column\": \"accuracy\",\n      \"properties\": {\n        \"dtype\": \"number\",\n        \"std\": 0.0,\n        \"min\": 0.6504149377593361,\n        \"max\": 0.6504149377593361,\n        \"num_unique_values\": 1,\n        \"samples\": [\n          0.6504149377593361\n        ],\n        \"semantic_type\": \"\",\n        \"description\": \"\"\n      }\n    },\n    {\n      \"column\": \"macro avg\",\n      \"properties\": {\n        \"dtype\": \"number\",\n        \"std\": 481.6876604770998,\n        \"min\": 0.614832941488914,\n        \"max\": 964.0,\n        \"num_unique_values\": 4,\n        \"samples\": [\n          0.642026934294047\n        ],\n        \"semantic_type\": \"\",\n        \"description\": \"\"\n      }\n    },\n    {\n      \"column\": \"weighted avg\",\n      \"properties\": {\n        \"dtype\": \"number\",\n        \"std\": 481.6625945584049,\n        \"min\": 0.6504149377593361,\n        \"max\": 964.0,\n        \"num_unique_values\": 4,\n        \"samples\": [\n          0.6504149377593361\n        ],\n        \"semantic_type\": \"\",\n        \"description\": \"\"\n      }\n    }\n  ]\n}"
            }
          },
          "metadata": {},
          "execution_count": 161
        },
        {
          "output_type": "stream",
          "name": "stdout",
          "text": [
            "time: 971 ms (started: 2024-03-03 20:30:40 +00:00)\n"
          ]
        }
      ],
      "source": [
        "# Training the classifier\n",
        "clf_balanced = RandomForestClassifier(random_state=42)\n",
        "clf_balanced.fit(X_resampled, y_resampled)\n",
        "\n",
        "# Predictions\n",
        "y_pred = clf_balanced.predict(X_test)\n",
        "\n",
        "# Step 4: Record precision and recall\n",
        "precision_recall = classification_report(y_test, y_pred, output_dict=True)\n",
        "\n",
        "accuracy_rf_ruf = accuracy_score(y_test, y_pred)\n",
        "print(\"Accuracy:\", accuracy_rf_ruf)\n",
        "\n",
        "pd.DataFrame(precision_recall)"
      ]
    },
    {
      "cell_type": "code",
      "execution_count": null,
      "metadata": {
        "colab": {
          "base_uri": "https://localhost:8080/"
        },
        "id": "Ma0brPM7liXZ",
        "outputId": "7c0b1d25-4dc4-41d8-cd2c-71bc198efbf1"
      },
      "outputs": [
        {
          "output_type": "stream",
          "name": "stdout",
          "text": [
            "Accuracy: 0.6566390041493776\n",
            "\n",
            "Classification Report:\n",
            "               precision    recall  f1-score   support\n",
            "\n",
            "           0       0.83      0.66      0.73       696\n",
            "           1       0.42      0.66      0.52       268\n",
            "\n",
            "    accuracy                           0.66       964\n",
            "   macro avg       0.63      0.66      0.62       964\n",
            "weighted avg       0.72      0.66      0.67       964\n",
            "\n",
            "time: 561 ms (started: 2024-03-03 20:30:41 +00:00)\n"
          ]
        },
        {
          "output_type": "stream",
          "name": "stderr",
          "text": [
            "/usr/local/lib/python3.10/dist-packages/sklearn/svm/_base.py:1244: ConvergenceWarning: Liblinear failed to converge, increase the number of iterations.\n",
            "  warnings.warn(\n"
          ]
        }
      ],
      "source": [
        "# Initialize the SVM classifier\n",
        "svm_classifier = LinearSVC(random_state=42)\n",
        "\n",
        "# Train the SVM classifier\n",
        "svm_classifier.fit(X_resampled, y_resampled)\n",
        "\n",
        "# Make predictions on the testing set\n",
        "y_pred = svm_classifier.predict(X_test)\n",
        "\n",
        "# Evaluate the model's performance\n",
        "accuracy_svm_ruf = accuracy_score(y_test, y_pred)\n",
        "report = classification_report(y_test, y_pred)\n",
        "\n",
        "print(\"Accuracy:\", accuracy_svm_ruf)\n",
        "print(\"\\nClassification Report:\\n\", report)"
      ]
    },
    {
      "cell_type": "code",
      "execution_count": null,
      "metadata": {
        "colab": {
          "base_uri": "https://localhost:8080/"
        },
        "id": "kr7VgyUBlruw",
        "outputId": "edcc491e-6a33-4b2e-eedd-0e64ac9c8313"
      },
      "outputs": [
        {
          "output_type": "stream",
          "name": "stdout",
          "text": [
            "Epoch 1/10\n",
            "241/241 [==============================] - 1s 3ms/step - loss: 0.5360 - accuracy: 0.7391 - val_loss: 0.6919 - val_accuracy: 0.6155\n",
            "Epoch 2/10\n",
            "241/241 [==============================] - 1s 2ms/step - loss: 0.5087 - accuracy: 0.7561 - val_loss: 0.6360 - val_accuracy: 0.6402\n",
            "Epoch 3/10\n",
            "241/241 [==============================] - 0s 2ms/step - loss: 0.5016 - accuracy: 0.7635 - val_loss: 0.6712 - val_accuracy: 0.6155\n",
            "Epoch 4/10\n",
            "241/241 [==============================] - 0s 2ms/step - loss: 0.4985 - accuracy: 0.7631 - val_loss: 0.7160 - val_accuracy: 0.5852\n",
            "Epoch 5/10\n",
            "241/241 [==============================] - 1s 2ms/step - loss: 0.4953 - accuracy: 0.7668 - val_loss: 0.6563 - val_accuracy: 0.6174\n",
            "Epoch 6/10\n",
            "241/241 [==============================] - 0s 2ms/step - loss: 0.4923 - accuracy: 0.7677 - val_loss: 0.6668 - val_accuracy: 0.6136\n",
            "Epoch 7/10\n",
            "241/241 [==============================] - 0s 2ms/step - loss: 0.4890 - accuracy: 0.7709 - val_loss: 0.6435 - val_accuracy: 0.6496\n",
            "Epoch 8/10\n",
            "241/241 [==============================] - 1s 2ms/step - loss: 0.4849 - accuracy: 0.7716 - val_loss: 0.6407 - val_accuracy: 0.6534\n",
            "Epoch 9/10\n",
            "241/241 [==============================] - 1s 2ms/step - loss: 0.4820 - accuracy: 0.7731 - val_loss: 0.6824 - val_accuracy: 0.6174\n",
            "Epoch 10/10\n",
            "241/241 [==============================] - 1s 2ms/step - loss: 0.4806 - accuracy: 0.7752 - val_loss: 0.6925 - val_accuracy: 0.6136\n",
            "31/31 [==============================] - 0s 2ms/step - loss: 0.5512 - accuracy: 0.7241\n",
            "31/31 [==============================] - 0s 1ms/step\n",
            "time: 11.5 s (started: 2024-03-03 20:30:41 +00:00)\n"
          ]
        }
      ],
      "source": [
        "#Splitting data into: features (X) and target (y)\n",
        "X = data_encoded.drop(columns=['CLAIM_FLAG'], axis=1)\n",
        "y = data_encoded['CLAIM_FLAG']\n",
        "\n",
        "#Standardizing/Normalizing features\n",
        "scler = StandardScaler() #method for standardizing features by removing the mean and scaling to unit variance.\n",
        "X_scaled = scler.fit_transform(X) #standardize the features in the X df, fits the scler to the data (calculates mean and SD), then transforms the data using the calculated mean and standard deviation to achieve standardization\n",
        "\n",
        "\n",
        "#Split the data into training, validation, and test sets\n",
        "X_train, X_temp, y_train, y_temp = train_test_split(X_scaled, y, test_size=0.2, random_state=42)\n",
        "X_val, X_test, y_val, y_test = train_test_split(X_temp, y_temp, test_size=0.5, random_state=42)\n",
        "\n",
        "# Apply rus to balance the training set\n",
        "rus = RandomUnderSampler(random_state=42)\n",
        "X_resampled, y_resampled = rus.fit_resample(X_train, y_train)\n",
        "\n",
        "X_val_bal, y_val_bal = rus.fit_resample(X_val, y_val)\n",
        "\n",
        "# Define the model architecture\n",
        "model = Sequential([\n",
        "    Dense(64, activation='relu', input_shape=(25,)),  # Input layer\n",
        "    Dense(64, activation='relu'),  # Hidden layer\n",
        "    Dense(1, activation='sigmoid')  # Output layer (binary classification)\n",
        "])\n",
        "\n",
        "# Compile the model\n",
        "model.compile(optimizer='adam',\n",
        "              loss='binary_crossentropy',\n",
        "              metrics=['accuracy'])\n",
        "'''\n",
        "print(X_train.shape)\n",
        "print(model.input_shape)\n",
        "'''\n",
        "\n",
        "# Train the model\n",
        "history = model.fit(X_train,y_train, epochs=10, batch_size=32, validation_data=(X_val_bal, y_val_bal))\n",
        "\n",
        "# Evaluate the model on the test set\n",
        "loss, accuracy_dnn_ruf = model.evaluate(X_test, y_test)\n",
        "\n",
        "# Make predictions\n",
        "y_pred = model.predict(X_test)"
      ]
    },
    {
      "cell_type": "code",
      "source": [
        "test_accuracies = {\n",
        "    'Random Forest (RUF)': accuracy_rf_ruf,\n",
        "    'SVM (RUF)': accuracy_svm_ruf,\n",
        "    'Neural Network (RUF)': accuracy_dnn_ruf,\n",
        "}\n",
        "\n",
        "\n",
        "# Plotting the test accuracy for each algorithm\n",
        "\n",
        "plt.figure(figsize=(10, 6))\n",
        "sns.barplot(x=list(test_accuracies.keys()), y=list(test_accuracies.values()), color = 'lime')\n",
        "plt.xticks(rotation=45, ha='right')\n",
        "plt.title('RUF accuracy depicted by RF, SVM, DNN')\n",
        "plt.xlabel('carInsuranceClaim')\n",
        "plt.ylabel('Test Accuracy')\n",
        "plt.tight_layout()\n",
        "plt.show()"
      ],
      "metadata": {
        "colab": {
          "base_uri": "https://localhost:8080/",
          "height": 625
        },
        "id": "h5rA21ofLu8U",
        "outputId": "f9957116-22dd-4bbc-f14b-2d0c976f7d12"
      },
      "execution_count": null,
      "outputs": [
        {
          "output_type": "display_data",
          "data": {
            "text/plain": [
              "<Figure size 1000x600 with 1 Axes>"
            ],
            "image/png": "[encoded data removed]"
          },
          "metadata": {}
        },
        {
          "output_type": "stream",
          "name": "stdout",
          "text": [
            "time: 318 ms (started: 2024-03-03 20:30:53 +00:00)\n"
          ]
        }
      ]
    },
    {
      "cell_type": "markdown",
      "metadata": {
        "id": "RTp-YnzTl_aI"
      },
      "source": [
        "# GAMMA DISTRIBUTION SAMPLING (RF, SVM, DNN)"
      ]
    },
    {
      "cell_type": "code",
      "execution_count": null,
      "metadata": {
        "colab": {
          "base_uri": "https://localhost:8080/"
        },
        "id": "W4YvZ9CfmO3j",
        "outputId": "df960fe5-fef2-4b6b-b01a-8b80a619457d"
      },
      "outputs": [
        {
          "output_type": "stream",
          "name": "stdout",
          "text": [
            "Class distribution after Gamma distribution-based sampling:\n",
            "0.0    2572\n",
            "1.0    2572\n",
            "dtype: int64\n",
            "time: 14.4 ms (started: 2024-03-03 20:30:53 +00:00)\n"
          ]
        }
      ],
      "source": [
        "import numpy as np\n",
        "from sklearn.utils import resample\n",
        "from sklearn.utils import shuffle\n",
        "import pandas as pd\n",
        "\n",
        "# Assuming 'X' is your feature matrix and 'y' is your target vector\n",
        "\n",
        "# Separate minority and majority classes\n",
        "X_minority = X_scaled[y == 1]\n",
        "X_majority = X_scaled[y == 0]\n",
        "\n",
        "# Determine the size of the minority class\n",
        "minority_size = len(X_minority)\n",
        "\n",
        "# Define parameters for the Gamma distribution\n",
        "shape = 2.0  # Shape parameter of the Gamma distribution\n",
        "scale = 1.0  # Scale parameter of the Gamma distribution\n",
        "\n",
        "# Generate random indices for sampling from the majority class\n",
        "#gamma_indices = pd.random.gamma(shape, scale, size=minority_size).astype(int)\n",
        "\n",
        "gamma_indices = np.round(np.random.gamma(shape, scale, size=minority_size)).astype(int)\n",
        "\n",
        "# Sample from the majority class using the Gamma indices\n",
        "#X_majority_sampled = X_majority.iloc[gamma_indices]\n",
        "X_majority_sampled = X_majority[gamma_indices]\n",
        "\n",
        "# Combine minority class samples with sampled majority class samples\n",
        "X_resampled = np.concatenate([X_minority, X_majority_sampled])\n",
        "y_resampled = np.concatenate([pd.Series(np.ones(minority_size)), pd.Series(np.zeros(minority_size))])\n",
        "\n",
        "# Shuffle the resampled data\n",
        "X_resampled, y_resampled = shuffle(X_resampled, y_resampled, random_state=42)\n",
        "\n",
        "# Check the class distribution after resampling\n",
        "print(\"Class distribution after Gamma distribution-based sampling:\")\n",
        "print(pd.Series(y_resampled).value_counts())"
      ]
    },
    {
      "cell_type": "code",
      "execution_count": null,
      "metadata": {
        "colab": {
          "base_uri": "https://localhost:8080/",
          "height": 211
        },
        "id": "PlZIcBeIozEq",
        "outputId": "6b421b60-f521-4bf2-ed99-154c065a8e54"
      },
      "outputs": [
        {
          "output_type": "stream",
          "name": "stdout",
          "text": [
            "Accuracy: 0.279045643153527\n"
          ]
        },
        {
          "output_type": "execute_result",
          "data": {
            "text/plain": [
              "                    0           1  accuracy   macro avg  weighted avg\n",
              "precision    1.000000    0.278297  0.279046    0.639148      0.799361\n",
              "recall       0.001437    1.000000  0.279046    0.500718      0.279046\n",
              "f1-score     0.002869    0.435418  0.279046    0.219144      0.123122\n",
              "support    696.000000  268.000000  0.279046  964.000000    964.000000"
            ],
            "text/html": [
              "\n",
              "  <div id=\"df-89d9d1cd-8808-4300-958c-a49e94685829\" class=\"colab-df-container\">\n",
              "    <div>\n",
              "<style scoped>\n",
              "    .dataframe tbody tr th:only-of-type {\n",
              "        vertical-align: middle;\n",
              "    }\n",
              "\n",
              "    .dataframe tbody tr th {\n",
              "        vertical-align: top;\n",
              "    }\n",
              "\n",
              "    .dataframe thead th {\n",
              "        text-align: right;\n",
              "    }\n",
              "</style>\n",
              "<table border=\"1\" class=\"dataframe\">\n",
              "  <thead>\n",
              "    <tr style=\"text-align: right;\">\n",
              "      <th></th>\n",
              "      <th>0</th>\n",
              "      <th>1</th>\n",
              "      <th>accuracy</th>\n",
              "      <th>macro avg</th>\n",
              "      <th>weighted avg</th>\n",
              "    </tr>\n",
              "  </thead>\n",
              "  <tbody>\n",
              "    <tr>\n",
              "      <th>precision</th>\n",
              "      <td>1.000000</td>\n",
              "      <td>0.278297</td>\n",
              "      <td>0.279046</td>\n",
              "      <td>0.639148</td>\n",
              "      <td>0.799361</td>\n",
              "    </tr>\n",
              "    <tr>\n",
              "      <th>recall</th>\n",
              "      <td>0.001437</td>\n",
              "      <td>1.000000</td>\n",
              "      <td>0.279046</td>\n",
              "      <td>0.500718</td>\n",
              "      <td>0.279046</td>\n",
              "    </tr>\n",
              "    <tr>\n",
              "      <th>f1-score</th>\n",
              "      <td>0.002869</td>\n",
              "      <td>0.435418</td>\n",
              "      <td>0.279046</td>\n",
              "      <td>0.219144</td>\n",
              "      <td>0.123122</td>\n",
              "    </tr>\n",
              "    <tr>\n",
              "      <th>support</th>\n",
              "      <td>696.000000</td>\n",
              "      <td>268.000000</td>\n",
              "      <td>0.279046</td>\n",
              "      <td>964.000000</td>\n",
              "      <td>964.000000</td>\n",
              "    </tr>\n",
              "  </tbody>\n",
              "</table>\n",
              "</div>\n",
              "    <div class=\"colab-df-buttons\">\n",
              "\n",
              "  <div class=\"colab-df-container\">\n",
              "    <button class=\"colab-df-convert\" onclick=\"convertToInteractive('df-89d9d1cd-8808-4300-958c-a49e94685829')\"\n",
              "            title=\"Convert this dataframe to an interactive table.\"\n",
              "            style=\"display:none;\">\n",
              "\n",
              "  <svg xmlns=\"http://www.w3.org/2000/svg\" height=\"24px\" viewBox=\"0 -960 960 960\">\n",
              "    <path d=\"M120-120v-720h720v720H120Zm60-500h600v-160H180v160Zm220 220h160v-160H400v160Zm0 220h160v-160H400v160ZM180-400h160v-160H180v160Zm440 0h160v-160H620v160ZM180-180h160v-160H180v160Zm440 0h160v-160H620v160Z\"/>\n",
              "  </svg>\n",
              "    </button>\n",
              "\n",
              "  <style>\n",
              "    .colab-df-container {\n",
              "      display:flex;\n",
              "      gap: 12px;\n",
              "    }\n",
              "\n",
              "    .colab-df-convert {\n",
              "      background-color: #E8F0FE;\n",
              "      border: none;\n",
              "      border-radius: 50%;\n",
              "      cursor: pointer;\n",
              "      display: none;\n",
              "      fill: #1967D2;\n",
              "      height: 32px;\n",
              "      padding: 0 0 0 0;\n",
              "      width: 32px;\n",
              "    }\n",
              "\n",
              "    .colab-df-convert:hover {\n",
              "      background-color: #E2EBFA;\n",
              "      box-shadow: 0px 1px 2px rgba(60, 64, 67, 0.3), 0px 1px 3px 1px rgba(60, 64, 67, 0.15);\n",
              "      fill: #174EA6;\n",
              "    }\n",
              "\n",
              "    .colab-df-buttons div {\n",
              "      margin-bottom: 4px;\n",
              "    }\n",
              "\n",
              "    [theme=dark] .colab-df-convert {\n",
              "      background-color: #3B4455;\n",
              "      fill: #D2E3FC;\n",
              "    }\n",
              "\n",
              "    [theme=dark] .colab-df-convert:hover {\n",
              "      background-color: #434B5C;\n",
              "      box-shadow: 0px 1px 3px 1px rgba(0, 0, 0, 0.15);\n",
              "      filter: drop-shadow(0px 1px 2px rgba(0, 0, 0, 0.3));\n",
              "      fill: #FFFFFF;\n",
              "    }\n",
              "  </style>\n",
              "\n",
              "    <script>\n",
              "      const buttonEl =\n",
              "        document.querySelector('#df-89d9d1cd-8808-4300-958c-a49e94685829 button.colab-df-convert');\n",
              "      buttonEl.style.display =\n",
              "        google.colab.kernel.accessAllowed ? 'block' : 'none';\n",
              "\n",
              "      async function convertToInteractive(key) {\n",
              "        const element = document.querySelector('#df-89d9d1cd-8808-4300-958c-a49e94685829');\n",
              "        const dataTable =\n",
              "          await google.colab.kernel.invokeFunction('convertToInteractive',\n",
              "                                                    [key], {});\n",
              "        if (!dataTable) return;\n",
              "\n",
              "        const docLinkHtml = 'Like what you see? Visit the ' +\n",
              "          '<a target=\"_blank\" href=https://colab.research.google.com/notebooks/data_table.ipynb>data table notebook</a>'\n",
              "          + ' to learn more about interactive tables.';\n",
              "        element.innerHTML = '';\n",
              "        dataTable['output_type'] = 'display_data';\n",
              "        await google.colab.output.renderOutput(dataTable, element);\n",
              "        const docLink = document.createElement('div');\n",
              "        docLink.innerHTML = docLinkHtml;\n",
              "        element.appendChild(docLink);\n",
              "      }\n",
              "    </script>\n",
              "  </div>\n",
              "\n",
              "\n",
              "<div id=\"df-94818551-6a87-40b9-9b0a-76496894db77\">\n",
              "  <button class=\"colab-df-quickchart\" onclick=\"quickchart('df-94818551-6a87-40b9-9b0a-76496894db77')\"\n",
              "            title=\"Suggest charts\"\n",
              "            style=\"display:none;\">\n",
              "\n",
              "<svg xmlns=\"http://www.w3.org/2000/svg\" height=\"24px\"viewBox=\"0 0 24 24\"\n",
              "     width=\"24px\">\n",
              "    <g>\n",
              "        <path d=\"M19 3H5c-1.1 0-2 .9-2 2v14c0 1.1.9 2 2 2h14c1.1 0 2-.9 2-2V5c0-1.1-.9-2-2-2zM9 17H7v-7h2v7zm4 0h-2V7h2v10zm4 0h-2v-4h2v4z\"/>\n",
              "    </g>\n",
              "</svg>\n",
              "  </button>\n",
              "\n",
              "<style>\n",
              "  .colab-df-quickchart {\n",
              "      --bg-color: #E8F0FE;\n",
              "      --fill-color: #1967D2;\n",
              "      --hover-bg-color: #E2EBFA;\n",
              "      --hover-fill-color: #174EA6;\n",
              "      --disabled-fill-color: #AAA;\n",
              "      --disabled-bg-color: #DDD;\n",
              "  }\n",
              "\n",
              "  [theme=dark] .colab-df-quickchart {\n",
              "      --bg-color: #3B4455;\n",
              "      --fill-color: #D2E3FC;\n",
              "      --hover-bg-color: #434B5C;\n",
              "      --hover-fill-color: #FFFFFF;\n",
              "      --disabled-bg-color: #3B4455;\n",
              "      --disabled-fill-color: #666;\n",
              "  }\n",
              "\n",
              "  .colab-df-quickchart {\n",
              "    background-color: var(--bg-color);\n",
              "    border: none;\n",
              "    border-radius: 50%;\n",
              "    cursor: pointer;\n",
              "    display: none;\n",
              "    fill: var(--fill-color);\n",
              "    height: 32px;\n",
              "    padding: 0;\n",
              "    width: 32px;\n",
              "  }\n",
              "\n",
              "  .colab-df-quickchart:hover {\n",
              "    background-color: var(--hover-bg-color);\n",
              "    box-shadow: 0 1px 2px rgba(60, 64, 67, 0.3), 0 1px 3px 1px rgba(60, 64, 67, 0.15);\n",
              "    fill: var(--button-hover-fill-color);\n",
              "  }\n",
              "\n",
              "  .colab-df-quickchart-complete:disabled,\n",
              "  .colab-df-quickchart-complete:disabled:hover {\n",
              "    background-color: var(--disabled-bg-color);\n",
              "    fill: var(--disabled-fill-color);\n",
              "    box-shadow: none;\n",
              "  }\n",
              "\n",
              "  .colab-df-spinner {\n",
              "    border: 2px solid var(--fill-color);\n",
              "    border-color: transparent;\n",
              "    border-bottom-color: var(--fill-color);\n",
              "    animation:\n",
              "      spin 1s steps(1) infinite;\n",
              "  }\n",
              "\n",
              "  @keyframes spin {\n",
              "    0% {\n",
              "      border-color: transparent;\n",
              "      border-bottom-color: var(--fill-color);\n",
              "      border-left-color: var(--fill-color);\n",
              "    }\n",
              "    20% {\n",
              "      border-color: transparent;\n",
              "      border-left-color: var(--fill-color);\n",
              "      border-top-color: var(--fill-color);\n",
              "    }\n",
              "    30% {\n",
              "      border-color: transparent;\n",
              "      border-left-color: var(--fill-color);\n",
              "      border-top-color: var(--fill-color);\n",
              "      border-right-color: var(--fill-color);\n",
              "    }\n",
              "    40% {\n",
              "      border-color: transparent;\n",
              "      border-right-color: var(--fill-color);\n",
              "      border-top-color: var(--fill-color);\n",
              "    }\n",
              "    60% {\n",
              "      border-color: transparent;\n",
              "      border-right-color: var(--fill-color);\n",
              "    }\n",
              "    80% {\n",
              "      border-color: transparent;\n",
              "      border-right-color: var(--fill-color);\n",
              "      border-bottom-color: var(--fill-color);\n",
              "    }\n",
              "    90% {\n",
              "      border-color: transparent;\n",
              "      border-bottom-color: var(--fill-color);\n",
              "    }\n",
              "  }\n",
              "</style>\n",
              "\n",
              "  <script>\n",
              "    async function quickchart(key) {\n",
              "      const quickchartButtonEl =\n",
              "        document.querySelector('#' + key + ' button');\n",
              "      quickchartButtonEl.disabled = true;  // To prevent multiple clicks.\n",
              "      quickchartButtonEl.classList.add('colab-df-spinner');\n",
              "      try {\n",
              "        const charts = await google.colab.kernel.invokeFunction(\n",
              "            'suggestCharts', [key], {});\n",
              "      } catch (error) {\n",
              "        console.error('Error during call to suggestCharts:', error);\n",
              "      }\n",
              "      quickchartButtonEl.classList.remove('colab-df-spinner');\n",
              "      quickchartButtonEl.classList.add('colab-df-quickchart-complete');\n",
              "    }\n",
              "    (() => {\n",
              "      let quickchartButtonEl =\n",
              "        document.querySelector('#df-94818551-6a87-40b9-9b0a-76496894db77 button');\n",
              "      quickchartButtonEl.style.display =\n",
              "        google.colab.kernel.accessAllowed ? 'block' : 'none';\n",
              "    })();\n",
              "  </script>\n",
              "</div>\n",
              "\n",
              "    </div>\n",
              "  </div>\n"
            ],
            "application/vnd.google.colaboratory.intrinsic+json": {
              "type": "dataframe",
              "summary": "{\n  \"name\": \"pd\",\n  \"rows\": 4,\n  \"fields\": [\n    {\n      \"column\": \"0\",\n      \"properties\": {\n        \"dtype\": \"number\",\n        \"std\": 347.83293369435813,\n        \"min\": 0.0014367816091954023,\n        \"max\": 696.0,\n        \"num_unique_values\": 4,\n        \"samples\": [\n          0.0014367816091954023,\n          696.0,\n          1.0\n        ],\n        \"semantic_type\": \"\",\n        \"description\": \"\"\n      }\n    },\n    {\n      \"column\": \"1\",\n      \"properties\": {\n        \"dtype\": \"number\",\n        \"std\": 133.7147398714953,\n        \"min\": 0.2782969885773624,\n        \"max\": 268.0,\n        \"num_unique_values\": 4,\n        \"samples\": [\n          1.0,\n          268.0,\n          0.2782969885773624\n        ],\n        \"semantic_type\": \"\",\n        \"description\": \"\"\n      }\n    },\n    {\n      \"column\": \"accuracy\",\n      \"properties\": {\n        \"dtype\": \"number\",\n        \"std\": 0.0,\n        \"min\": 0.279045643153527,\n        \"max\": 0.279045643153527,\n        \"num_unique_values\": 1,\n        \"samples\": [\n          0.279045643153527\n        ],\n        \"semantic_type\": \"\",\n        \"description\": \"\"\n      }\n    },\n    {\n      \"column\": \"macro avg\",\n      \"properties\": {\n        \"dtype\": \"number\",\n        \"std\": 481.773529896872,\n        \"min\": 0.2191438997583936,\n        \"max\": 964.0,\n        \"num_unique_values\": 4,\n        \"samples\": [\n          0.5007183908045977\n        ],\n        \"semantic_type\": \"\",\n        \"description\": \"\"\n      }\n    },\n    {\n      \"column\": \"weighted avg\",\n      \"properties\": {\n        \"dtype\": \"number\",\n        \"std\": 481.79983210996767,\n        \"min\": 0.12312162944709362,\n        \"max\": 964.0,\n        \"num_unique_values\": 4,\n        \"samples\": [\n          0.279045643153527\n        ],\n        \"semantic_type\": \"\",\n        \"description\": \"\"\n      }\n    }\n  ]\n}"
            }
          },
          "metadata": {},
          "execution_count": 166
        },
        {
          "output_type": "stream",
          "name": "stdout",
          "text": [
            "time: 414 ms (started: 2024-03-03 20:30:53 +00:00)\n"
          ]
        }
      ],
      "source": [
        "# Training the classifier\n",
        "clf_balanced = RandomForestClassifier(random_state=42)\n",
        "clf_balanced.fit(X_resampled, y_resampled)\n",
        "\n",
        "# Predictions\n",
        "y_pred = clf_balanced.predict(X_test)\n",
        "\n",
        "# Step 4: Record precision and recall\n",
        "precision_recall = classification_report(y_test, y_pred, output_dict=True)\n",
        "\n",
        "accuracy_rf_gamma = accuracy_score(y_test, y_pred)\n",
        "print(\"Accuracy:\", accuracy_rf_gamma)\n",
        "\n",
        "pd.DataFrame(precision_recall)"
      ]
    },
    {
      "cell_type": "code",
      "execution_count": null,
      "metadata": {
        "colab": {
          "base_uri": "https://localhost:8080/"
        },
        "id": "55O4RYZ-pLpl",
        "outputId": "bdaff79d-6959-44b1-a18b-93d8b2af0d70"
      },
      "outputs": [
        {
          "output_type": "stream",
          "name": "stdout",
          "text": [
            "Accuracy: 0.45020746887966806\n",
            "\n",
            "Classification Report:\n",
            "               precision    recall  f1-score   support\n",
            "\n",
            "           0       0.81      0.31      0.45       696\n",
            "           1       0.31      0.81      0.45       268\n",
            "\n",
            "    accuracy                           0.45       964\n",
            "   macro avg       0.56      0.56      0.45       964\n",
            "weighted avg       0.67      0.45      0.45       964\n",
            "\n",
            "time: 495 ms (started: 2024-03-03 20:30:53 +00:00)\n"
          ]
        },
        {
          "output_type": "stream",
          "name": "stderr",
          "text": [
            "/usr/local/lib/python3.10/dist-packages/sklearn/svm/_base.py:1244: ConvergenceWarning: Liblinear failed to converge, increase the number of iterations.\n",
            "  warnings.warn(\n"
          ]
        }
      ],
      "source": [
        "# Initialize the SVM classifier\n",
        "svm_classifier = LinearSVC(random_state=42)\n",
        "\n",
        "# Train the SVM classifier\n",
        "svm_classifier.fit(X_resampled, y_resampled)\n",
        "\n",
        "# Make predictions on the testing set\n",
        "y_pred = svm_classifier.predict(X_test)\n",
        "\n",
        "# Evaluate the model's performance\n",
        "accuracy_svm_gamma = accuracy_score(y_test, y_pred)\n",
        "report = classification_report(y_test, y_pred)\n",
        "\n",
        "print(\"Accuracy:\", accuracy_svm_gamma)\n",
        "print(\"\\nClassification Report:\\n\", report)"
      ]
    },
    {
      "cell_type": "code",
      "execution_count": null,
      "metadata": {
        "id": "Nx1C04K4pXBx",
        "colab": {
          "base_uri": "https://localhost:8080/"
        },
        "outputId": "603287cc-01eb-4ff8-b748-9bd585625ca3"
      },
      "outputs": [
        {
          "output_type": "stream",
          "name": "stdout",
          "text": [
            "Epoch 1/10\n",
            "129/129 [==============================] - 1s 4ms/step - loss: 0.2391 - accuracy: 0.9295 - val_loss: 1.7859 - val_accuracy: 0.5227\n",
            "Epoch 2/10\n",
            "129/129 [==============================] - 0s 2ms/step - loss: 0.0650 - accuracy: 0.9806 - val_loss: 2.7885 - val_accuracy: 0.5114\n",
            "Epoch 3/10\n",
            "129/129 [==============================] - 0s 3ms/step - loss: 0.0379 - accuracy: 0.9898 - val_loss: 3.6385 - val_accuracy: 0.5152\n",
            "Epoch 4/10\n",
            "129/129 [==============================] - 0s 3ms/step - loss: 0.0275 - accuracy: 0.9934 - val_loss: 4.1604 - val_accuracy: 0.5114\n",
            "Epoch 5/10\n",
            "129/129 [==============================] - 0s 3ms/step - loss: 0.0223 - accuracy: 0.9951 - val_loss: 4.5760 - val_accuracy: 0.5095\n",
            "Epoch 6/10\n",
            "129/129 [==============================] - 0s 2ms/step - loss: 0.0158 - accuracy: 0.9973 - val_loss: 5.0721 - val_accuracy: 0.5095\n",
            "Epoch 7/10\n",
            "129/129 [==============================] - 0s 2ms/step - loss: 0.0118 - accuracy: 0.9976 - val_loss: 5.4416 - val_accuracy: 0.5095\n",
            "Epoch 8/10\n",
            "129/129 [==============================] - 0s 2ms/step - loss: 0.0086 - accuracy: 0.9988 - val_loss: 5.9668 - val_accuracy: 0.5057\n",
            "Epoch 9/10\n",
            "129/129 [==============================] - 0s 3ms/step - loss: 0.0070 - accuracy: 0.9985 - val_loss: 6.0083 - val_accuracy: 0.5095\n",
            "Epoch 10/10\n",
            "129/129 [==============================] - 0s 2ms/step - loss: 0.0057 - accuracy: 0.9988 - val_loss: 6.6778 - val_accuracy: 0.5095\n",
            "17/17 [==============================] - 0s 2ms/step - loss: 0.0123 - accuracy: 0.9942\n",
            "17/17 [==============================] - 0s 1ms/step\n",
            "time: 6.48 s (started: 2024-03-03 20:30:54 +00:00)\n"
          ]
        }
      ],
      "source": [
        "\n",
        "#Split the data into training, validation, and test sets\n",
        "X_train, X_temp, y_train, y_temp = train_test_split(X_resampled, y_resampled, test_size=0.2, random_state=42)\n",
        "X_val, X_test, y_val, y_test = train_test_split(X_temp, y_temp, test_size=0.5, random_state=42)\n",
        "\n",
        "# Define the model architecture\n",
        "model = Sequential([\n",
        "    Dense(64, activation='relu', input_shape=(25,)),  # Input layer\n",
        "    Dense(64, activation='relu'),  # Hidden layer\n",
        "    Dense(1, activation='sigmoid')  # Output layer (binary classification)\n",
        "])\n",
        "\n",
        "# Compile the model\n",
        "model.compile(optimizer='adam',\n",
        "              loss='binary_crossentropy',\n",
        "              metrics=['accuracy'])\n",
        "'''\n",
        "print(X_train.shape)\n",
        "print(model.input_shape)\n",
        "'''\n",
        "\n",
        "# Train the model\n",
        "history = model.fit(X_train,y_train, epochs=10, batch_size=32, validation_data=(X_val_bal, y_val_bal))\n",
        "\n",
        "# Evaluate the model on the test set\n",
        "loss, accuracy_dnn_gamma = model.evaluate(X_test, y_test)\n",
        "\n",
        "# Make predictions\n",
        "y_pred = model.predict(X_test)"
      ]
    },
    {
      "cell_type": "code",
      "source": [
        "test_accuracies = {\n",
        "    'Random Forest (GAMMA)': accuracy_rf_gamma,\n",
        "    'SVM (GAMMA)': accuracy_svm_gamma,\n",
        "    'Neural Network (GAMMA)': accuracy_dnn_gamma,\n",
        "}\n",
        "\n",
        "\n",
        "# Plotting the test accuracy for each algorithm\n",
        "\n",
        "plt.figure(figsize=(10, 6))\n",
        "sns.barplot(x=list(test_accuracies.keys()), y=list(test_accuracies.values()), color = 'skyblue')\n",
        "plt.xticks(rotation=45, ha='right')\n",
        "plt.title('GAMMA accuracy depicted by RF, SVM, DNN')\n",
        "plt.xlabel('carInsuranceClaim')\n",
        "plt.ylabel('Test Accuracy')\n",
        "plt.tight_layout()\n",
        "plt.show()"
      ],
      "metadata": {
        "colab": {
          "base_uri": "https://localhost:8080/",
          "height": 625
        },
        "id": "aEiELqeXRTc3",
        "outputId": "b8800b2a-f6fb-4c52-ea77-12a0c7f00002"
      },
      "execution_count": null,
      "outputs": [
        {
          "output_type": "display_data",
          "data": {
            "text/plain": [
              "<Figure size 1000x600 with 1 Axes>"
            ],
            "image/png": "[encoded data removed]"
          },
          "metadata": {}
        },
        {
          "output_type": "stream",
          "name": "stdout",
          "text": [
            "time: 284 ms (started: 2024-03-03 20:31:00 +00:00)\n"
          ]
        }
      ]
    },
    {
      "cell_type": "code",
      "source": [
        "# Store the test accuracies for each algorithm\n",
        "# Adjusted dictionary to match your variables\n",
        "test_accuracies = {\n",
        "    'Random Forest (SMOTE)': accuracy_rf,\n",
        "    'SVM (SMOTE)': accuracy_svm,\n",
        "    'Neural Network (SMOTE)': accuracy_dnn,\n",
        "    'Random Forest (ADASYN)': accuracy_rf_adasyn,\n",
        "    'SVM (ADASYN)': accuracy_svm_adasyn,\n",
        "    'Neural Network (ADASYN)': accuracy_dnn_adasyn,\n",
        "    'Random Forest (Random Oversampling)': accuracy_rf_rof,\n",
        "    'SVM (Random Oversampling)': accuracy_svm_rof,\n",
        "    'Neural Network (Random Oversampling)': accuracy_dnn_rof,\n",
        "    'Random Forest (Random Undersampling)': accuracy_rf_ruf,\n",
        "    'SVM (Random Undersampling)': accuracy_svm_ruf,\n",
        "    'Neural Network (Random Undersampling)': accuracy_dnn_ruf,\n",
        "    'Random Forest (Gamma Sampling)': accuracy_rf_gamma,\n",
        "    'SVM (Gamma Sampling)': accuracy_svm_gamma,\n",
        "    'Neural Network (Gamma Sampling)': accuracy_dnn_gamma,\n",
        "}\n",
        "\n",
        "\n",
        "# Plotting the test accuracy for each algorithm\n",
        "plt.figure(figsize=(10, 6))\n",
        "sns.barplot(x=list(test_accuracies.keys()), y=list(test_accuracies.values()))\n",
        "plt.xticks(rotation=45, ha='right')\n",
        "plt.title('Test Accuracy of Different Algorithms')\n",
        "plt.xlabel('carInsuranceClaim')\n",
        "plt.ylabel('Test Accuracy')\n",
        "plt.tight_layout()\n",
        "plt.show()"
      ],
      "metadata": {
        "colab": {
          "base_uri": "https://localhost:8080/",
          "height": 625
        },
        "id": "MFKsnASMRlKh",
        "outputId": "dd1d35d4-c0d1-4bc0-86b6-3c39c2ea80ae"
      },
      "execution_count": null,
      "outputs": [
        {
          "output_type": "display_data",
          "data": {
            "text/plain": [
              "<Figure size 1000x600 with 1 Axes>"
            ],
            "image/png": "[encoded data removed]"
          },
          "metadata": {}
        },
        {
          "output_type": "stream",
          "name": "stdout",
          "text": [
            "time: 424 ms (started: 2024-03-03 20:31:01 +00:00)\n"
          ]
        }
      ]
    },
    {
      "cell_type": "markdown",
      "metadata": {
        "id": "BP4_ccGxpkAz"
      },
      "source": [
        "#**END OF ANALYSIS**"
      ]
    }
  ],
  "metadata": {
    "colab": {
      "provenance": []
    },
    "kernelspec": {
      "display_name": "Python 3",
      "name": "python3"
    },
    "language_info": {
      "name": "python"
    }
  },
  "nbformat": 4,
  "nbformat_minor": 0
}